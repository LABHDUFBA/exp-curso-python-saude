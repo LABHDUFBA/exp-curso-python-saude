{
  "nbformat": 4,
  "nbformat_minor": 0,
  "metadata": {
    "colab": {
      "name": "01_00. Tipos de dados",
      "provenance": [],
      "toc_visible": true,
      "authorship_tag": "ABX9TyMREk4l9gwIbsV72+ZEXJTb",
      "include_colab_link": true
    },
    "kernelspec": {
      "name": "python3",
      "display_name": "Python 3"
    }
  },
  "cells": [
    {
      "cell_type": "markdown",
      "metadata": {
        "id": "view-in-github",
        "colab_type": "text"
      },
      "source": [
        "<a href=\"https://colab.research.google.com/github/zetta-health/exp-curso-python-saude/blob/master/Curso_Python_para_Gest%C3%A3o_de_Sa%C3%BAde_02_python_tipos_de_dados.ipynb\" target=\"_parent\"><img src=\"https://colab.research.google.com/assets/colab-badge.svg\" alt=\"Open In Colab\"/></a>"
      ]
    },
    {
      "cell_type": "markdown",
      "metadata": {
        "id": "yXtjd5sF_A0D",
        "colab_type": "text"
      },
      "source": [
        "# Tipos de Dados\n",
        "\n",
        "Hora de rever os tipos de dados mais comuns e usá-los para facilitar o processo de memorização."
      ]
    },
    {
      "cell_type": "markdown",
      "metadata": {
        "id": "z1z6rkdGHX5N",
        "colab_type": "text"
      },
      "source": [
        "## Inteiro"
      ]
    },
    {
      "cell_type": "code",
      "metadata": {
        "id": "dDRewKKc_Y4X",
        "colab_type": "code",
        "colab": {}
      },
      "source": [
        "# Exemplo de inteiro\n",
        "idade_henrique = 33"
      ],
      "execution_count": 0,
      "outputs": []
    },
    {
      "cell_type": "code",
      "metadata": {
        "id": "AXWLLYFt_cfE",
        "colab_type": "code",
        "colab": {
          "base_uri": "https://localhost:8080/",
          "height": 34
        },
        "outputId": "906730dc-8aed-4e1f-80de-a4f4fe82fe2b"
      },
      "source": [
        "print(idade_henrique)"
      ],
      "execution_count": 2,
      "outputs": [
        {
          "output_type": "stream",
          "text": [
            "33\n"
          ],
          "name": "stdout"
        }
      ]
    },
    {
      "cell_type": "markdown",
      "metadata": {
        "id": "zCDTc8De_yXC",
        "colab_type": "text"
      },
      "source": [
        "### Exercício 01\n",
        "\n",
        "Crie uma variável chamada 'minha_idade' e atribua um valor inteiro a ela. Depois, use a função 'print' para retornar o valor da variável."
      ]
    },
    {
      "cell_type": "code",
      "metadata": {
        "id": "nx5gaboy_2CD",
        "colab_type": "code",
        "colab": {}
      },
      "source": [
        "# Crie a varíavel minha idade.\n",
        "minha_idade = '?'"
      ],
      "execution_count": 0,
      "outputs": []
    },
    {
      "cell_type": "code",
      "metadata": {
        "id": "UmcWtU2wATKx",
        "colab_type": "code",
        "colab": {}
      },
      "source": [
        "# Imprima o valor da variável minha idade."
      ],
      "execution_count": 0,
      "outputs": []
    },
    {
      "cell_type": "markdown",
      "metadata": {
        "id": "k8XgqFVLAne6",
        "colab_type": "text"
      },
      "source": [
        "**Clique aqui para a resposta**\n",
        "\n",
        "<!--\n",
        "minha_idade = 20 # Exemplo\n",
        "print(minha_idade)\n",
        "-->"
      ]
    },
    {
      "cell_type": "markdown",
      "metadata": {
        "id": "jus6_LR6B8Rk",
        "colab_type": "text"
      },
      "source": [
        "## Float (Ponto flutuante)"
      ]
    },
    {
      "cell_type": "code",
      "metadata": {
        "id": "-ukxxqu-CDYM",
        "colab_type": "code",
        "colab": {}
      },
      "source": [
        "# Valor do Kinder Ovo\n",
        "kinder_roubo = 7.50 # Atenção. Separação de casas decimais no python é feita com \n",
        "                    # '.' e não ',' vírgula."
      ],
      "execution_count": 0,
      "outputs": []
    },
    {
      "cell_type": "code",
      "metadata": {
        "id": "bjgCqXzMz21P",
        "colab_type": "code",
        "colab": {
          "base_uri": "https://localhost:8080/",
          "height": 34
        },
        "outputId": "db08306b-8596-40c1-dd53-7318ffdde2cb"
      },
      "source": [
        "print(kinder_roubo)"
      ],
      "execution_count": 6,
      "outputs": [
        {
          "output_type": "stream",
          "text": [
            "7.5\n"
          ],
          "name": "stdout"
        }
      ]
    },
    {
      "cell_type": "markdown",
      "metadata": {
        "id": "wEDk6CWc0kgf",
        "colab_type": "text"
      },
      "source": [
        "### Exercício 02\n",
        "\n",
        "Quantos Kinder roubos podem ser comprados com um salário mínimo em 2020? (Salário mínimo no Brasil é de R$ 1045.00)."
      ]
    },
    {
      "cell_type": "code",
      "metadata": {
        "id": "MXivCtGT1rwy",
        "colab_type": "code",
        "colab": {}
      },
      "source": [
        "# Você pode usar a tabela na seção Operadores lógicos. '/' é o sinal de divisão.\n",
        "kinder_roubo = 7.50\n",
        "salario_minimo = 1045.00 \n",
        "# Complete com sua solução:"
      ],
      "execution_count": 0,
      "outputs": []
    },
    {
      "cell_type": "markdown",
      "metadata": {
        "id": "RGH16TRi1Rec",
        "colab_type": "text"
      },
      "source": [
        "**Clique aqui para ver a resposta**\n",
        "<!--\n",
        "salario_minimo = 1045.00\n",
        "n_kinder = salario_minimo / kinder_roubo\n",
        "print(n_kinder)\n",
        "--> "
      ]
    },
    {
      "cell_type": "markdown",
      "metadata": {
        "id": "n-VgHJt12hrA",
        "colab_type": "text"
      },
      "source": [
        "## Listas\n"
      ]
    },
    {
      "cell_type": "code",
      "metadata": {
        "id": "I2CAW33-0px9",
        "colab_type": "code",
        "colab": {}
      },
      "source": [
        "lista_vazia = []                  # Lista vazia\n",
        "lista_01 = [1, 3, 5, 7, 9]        # Lista de int\n",
        "lista_02 = [2.0, 1.0, 0.0, 10.0]  # Lista de floats\n",
        "lista_03 = [lista_01, lista_02]   # Criar lista de listas a partir de listas"
      ],
      "execution_count": 0,
      "outputs": []
    },
    {
      "cell_type": "code",
      "metadata": {
        "id": "Cs3T7MrW3PMx",
        "colab_type": "code",
        "colab": {
          "base_uri": "https://localhost:8080/",
          "height": 34
        },
        "outputId": "73b2c6ce-bbcf-4085-9615-a756555aa165"
      },
      "source": [
        "# Acessar valores de uma lista\n",
        "# Elas são indexadas por zero.\n",
        "lista_02[0]"
      ],
      "execution_count": 9,
      "outputs": [
        {
          "output_type": "execute_result",
          "data": {
            "text/plain": [
              "2.0"
            ]
          },
          "metadata": {
            "tags": []
          },
          "execution_count": 9
        }
      ]
    },
    {
      "cell_type": "code",
      "metadata": {
        "id": "IpmRz2YA3cep",
        "colab_type": "code",
        "colab": {
          "base_uri": "https://localhost:8080/",
          "height": 34
        },
        "outputId": "d4539a43-74a0-41db-fb36-3e7614261803"
      },
      "source": [
        "# Você também pode acessar lista dentro de listas\n",
        "lista_03[0][1]\n",
        "\n",
        "# Pode remover valores.\n",
        "# Ex. Remover o primeiro item da lista\n",
        "lista_01.pop(0)\n",
        "print(lista_01)"
      ],
      "execution_count": 10,
      "outputs": [
        {
          "output_type": "stream",
          "text": [
            "[3, 5, 7, 9]\n"
          ],
          "name": "stdout"
        }
      ]
    },
    {
      "cell_type": "code",
      "metadata": {
        "id": "uLJLdpKQ9Bnv",
        "colab_type": "code",
        "colab": {
          "base_uri": "https://localhost:8080/",
          "height": 34
        },
        "outputId": "d2b30279-e8bd-465f-ff42-3d22878ead23"
      },
      "source": [
        "# Pode acrescentar valores\n",
        "lista_01.append(10)\n",
        "print(lista_01)"
      ],
      "execution_count": 11,
      "outputs": [
        {
          "output_type": "stream",
          "text": [
            "[3, 5, 7, 9, 10]\n"
          ],
          "name": "stdout"
        }
      ]
    },
    {
      "cell_type": "code",
      "metadata": {
        "id": "blp9tfOl7eX8",
        "colab_type": "code",
        "colab": {
          "base_uri": "https://localhost:8080/",
          "height": 51
        },
        "outputId": "3ae014ad-591c-4c30-bf8d-7ac6aed27291"
      },
      "source": [
        "# Pode ordenar a lista também na ordem crescente e decrescente\n",
        "crescente = sorted(lista_02)\n",
        "decrescente = sorted(lista_02, reverse=True)\n",
        "print(crescente, decrescente, sep='\\n') # Imprime as listas ordenadas."
      ],
      "execution_count": 12,
      "outputs": [
        {
          "output_type": "stream",
          "text": [
            "[0.0, 1.0, 2.0, 10.0]\n",
            "[10.0, 2.0, 1.0, 0.0]\n"
          ],
          "name": "stdout"
        }
      ]
    },
    {
      "cell_type": "code",
      "metadata": {
        "id": "okKYoxa69gWY",
        "colab_type": "code",
        "colab": {
          "base_uri": "https://localhost:8080/",
          "height": 34
        },
        "outputId": "f7935588-30b8-4b94-99a4-086b282b0178"
      },
      "source": [
        "# Outros métodos podem ser usados em listas também como:\n",
        "#   min(minha_lista) - retorna o menor valor da lista.\n",
        "#   max(minha_lista) - retorna o maior valor da lista.\n",
        "#   sum(minha_lista) - retorna a soma da lista.\n",
        "#   len(minha_lista) - retorna o número de elementos da lista.\n",
        "\n",
        "# Retorna a soma dos números da lista_01\n",
        "sum(lista_01)"
      ],
      "execution_count": 13,
      "outputs": [
        {
          "output_type": "execute_result",
          "data": {
            "text/plain": [
              "34"
            ]
          },
          "metadata": {
            "tags": []
          },
          "execution_count": 13
        }
      ]
    },
    {
      "cell_type": "code",
      "metadata": {
        "id": "1Q0cbAXj9vI1",
        "colab_type": "code",
        "colab": {
          "base_uri": "https://localhost:8080/",
          "height": 34
        },
        "outputId": "2f7664c1-74e2-4a35-852c-7a0738178513"
      },
      "source": [
        "# Criar lista numéricas\n",
        "list(range(10)) # Ou [range(10)]"
      ],
      "execution_count": 14,
      "outputs": [
        {
          "output_type": "execute_result",
          "data": {
            "text/plain": [
              "[0, 1, 2, 3, 4, 5, 6, 7, 8, 9]"
            ]
          },
          "metadata": {
            "tags": []
          },
          "execution_count": 14
        }
      ]
    },
    {
      "cell_type": "markdown",
      "metadata": {
        "id": "-anoxJcM4aMD",
        "colab_type": "text"
      },
      "source": [
        "### Exercício 03\n",
        "\n",
        "Qual valor é extraído com o comando 'lista_01[3]'?"
      ]
    },
    {
      "cell_type": "markdown",
      "metadata": {
        "id": "79PkRvs--y1-",
        "colab_type": "text"
      },
      "source": [
        "**Clique aqui para ver a resposta** \n",
        "\n",
        "<!--\n",
        "7\n",
        "-->"
      ]
    },
    {
      "cell_type": "code",
      "metadata": {
        "id": "gUrXqIHy-QR_",
        "colab_type": "code",
        "colab": {}
      },
      "source": [
        ""
      ],
      "execution_count": 0,
      "outputs": []
    },
    {
      "cell_type": "markdown",
      "metadata": {
        "id": "hhuCnCYq-TmP",
        "colab_type": "text"
      },
      "source": [
        "### Exercício 04\n",
        "\n",
        "Qual o menor valor da lista abaixo. "
      ]
    },
    {
      "cell_type": "code",
      "metadata": {
        "id": "syCEceRL_dgI",
        "colab_type": "code",
        "colab": {}
      },
      "source": [
        "# Não alterar linhas 2, 3 e 4.\n",
        "import random\n",
        "random.seed(42) # Fixa geração de números aleatórios.\n",
        "lista_ex_04 = [random.randint(0,100) for x in range(100)] # Cria lista\n",
        "\n",
        "# Seu código aqui."
      ],
      "execution_count": 0,
      "outputs": []
    },
    {
      "cell_type": "markdown",
      "metadata": {
        "id": "86WaiUwwCRdP",
        "colab_type": "text"
      },
      "source": [
        "**Clique aqui para ver a resposta**\n",
        "\n",
        "<!--\n",
        "min(lista_ex_04)\n",
        "-->"
      ]
    },
    {
      "cell_type": "markdown",
      "metadata": {
        "id": "qPBqaBPLDuLx",
        "colab_type": "text"
      },
      "source": [
        "## Tuplas (lista imutáveis)"
      ]
    },
    {
      "cell_type": "code",
      "metadata": {
        "id": "63AAXqQID7P9",
        "colab_type": "code",
        "colab": {
          "base_uri": "https://localhost:8080/",
          "height": 34
        },
        "outputId": "3c5ca020-2e5f-4f4b-cb84-8e83659c6b93"
      },
      "source": [
        "tupla_1 = (1, 2, 3, 4)\n",
        "tupla_1"
      ],
      "execution_count": 16,
      "outputs": [
        {
          "output_type": "execute_result",
          "data": {
            "text/plain": [
              "(1, 2, 3, 4)"
            ]
          },
          "metadata": {
            "tags": []
          },
          "execution_count": 16
        }
      ]
    },
    {
      "cell_type": "code",
      "metadata": {
        "id": "8Ex6L4pCEBXs",
        "colab_type": "code",
        "colab": {
          "base_uri": "https://localhost:8080/",
          "height": 34
        },
        "outputId": "9c2f2e35-a752-4c1b-8e24-c0112b1d8bf4"
      },
      "source": [
        "type(tupla_1)"
      ],
      "execution_count": 17,
      "outputs": [
        {
          "output_type": "execute_result",
          "data": {
            "text/plain": [
              "tuple"
            ]
          },
          "metadata": {
            "tags": []
          },
          "execution_count": 17
        }
      ]
    },
    {
      "cell_type": "code",
      "metadata": {
        "id": "zKyr84Z0ES0T",
        "colab_type": "code",
        "colab": {
          "base_uri": "https://localhost:8080/",
          "height": 34
        },
        "outputId": "08c2fe09-57b6-49f5-fba4-c67b8d5d11f5"
      },
      "source": [
        "# Acessar primeiro elemento da dupla\n",
        "tupla_1[0]"
      ],
      "execution_count": 18,
      "outputs": [
        {
          "output_type": "execute_result",
          "data": {
            "text/plain": [
              "1"
            ]
          },
          "metadata": {
            "tags": []
          },
          "execution_count": 18
        }
      ]
    },
    {
      "cell_type": "markdown",
      "metadata": {
        "id": "1xdygsVAEs-R",
        "colab_type": "text"
      },
      "source": [
        "## Sets"
      ]
    },
    {
      "cell_type": "code",
      "metadata": {
        "id": "SywCccEmElSH",
        "colab_type": "code",
        "colab": {}
      },
      "source": [
        "# Sets não possuem repetições.\n",
        "lista_duplicada = [0, 1, 1, 0, 2, 3, 5]"
      ],
      "execution_count": 0,
      "outputs": []
    },
    {
      "cell_type": "code",
      "metadata": {
        "id": "bfuMxx19FIA3",
        "colab_type": "code",
        "colab": {
          "base_uri": "https://localhost:8080/",
          "height": 34
        },
        "outputId": "e1ffac6d-5e9d-4b9e-d92a-bc0f3b1494f3"
      },
      "source": [
        "meu_set = set(lista_duplicada)\n",
        "print(meu_set)"
      ],
      "execution_count": 20,
      "outputs": [
        {
          "output_type": "stream",
          "text": [
            "{0, 1, 2, 3, 5}\n"
          ],
          "name": "stdout"
        }
      ]
    },
    {
      "cell_type": "markdown",
      "metadata": {
        "id": "Df3Ue54ZFnIh",
        "colab_type": "text"
      },
      "source": [
        "### Exercício 05\n",
        "\n",
        "Crie uma lista sem os elementos duplicados abaixo:"
      ]
    },
    {
      "cell_type": "code",
      "metadata": {
        "id": "4lGEVDuxF2EJ",
        "colab_type": "code",
        "colab": {}
      },
      "source": [
        "# Não alterar linha 2.\n",
        "lista_ex_05 = [random.randint(0,10) for x in range(100)]\n",
        "\n",
        "# Sua resposta."
      ],
      "execution_count": 0,
      "outputs": []
    },
    {
      "cell_type": "markdown",
      "metadata": {
        "id": "gupYspSnGRQI",
        "colab_type": "text"
      },
      "source": [
        "**Clique aqui para ver a resposta**\n",
        "\n",
        "<!--\n",
        "list(set(lista_ex_05))\n",
        "-->"
      ]
    },
    {
      "cell_type": "markdown",
      "metadata": {
        "id": "xIUs8r4QHfK6",
        "colab_type": "text"
      },
      "source": [
        "## Strings\n",
        "\n",
        "Strings são texto. É possível manipulá-las no python. \n",
        "\n",
        "Para uma lista compreensiva veja a [documentação oficial](https://docs.python.org/3/library/string.html)."
      ]
    },
    {
      "cell_type": "code",
      "metadata": {
        "id": "iLq9fuaeH0lm",
        "colab_type": "code",
        "colab": {
          "base_uri": "https://localhost:8080/",
          "height": 34
        },
        "outputId": "35d8b73d-b4d5-4dee-8e9d-d2bd463b8b4f"
      },
      "source": [
        "# Exemplos de texto:\n",
        "verdade_absoluta_01 = 'O Palmeiras não tem mundial'\n",
        "verdade_absoluta_02 = \" e o brasileiro de 1987 é do Flamengo\"\n",
        "\n",
        "verdade_absoluta_01 + verdade_absoluta_02"
      ],
      "execution_count": 22,
      "outputs": [
        {
          "output_type": "execute_result",
          "data": {
            "text/plain": [
              "'O Palmeiras não tem mundial e o brasileiro de 1987 é do Flamengo'"
            ]
          },
          "metadata": {
            "tags": []
          },
          "execution_count": 22
        }
      ]
    },
    {
      "cell_type": "code",
      "metadata": {
        "id": "ZoIU5G45H6HC",
        "colab_type": "code",
        "colab": {}
      },
      "source": [
        "# Existem diversas operações que podem ser feitas com strings. Exemplos:\n",
        "texto = 'mesa,cadeira,caneta'"
      ],
      "execution_count": 0,
      "outputs": []
    },
    {
      "cell_type": "code",
      "metadata": {
        "id": "8db_SRhuJStQ",
        "colab_type": "code",
        "colab": {
          "base_uri": "https://localhost:8080/",
          "height": 34
        },
        "outputId": "265fa8ae-0acd-4954-8706-b8ab9c5e673a"
      },
      "source": [
        "texto.split(',')"
      ],
      "execution_count": 24,
      "outputs": [
        {
          "output_type": "execute_result",
          "data": {
            "text/plain": [
              "['mesa', 'cadeira', 'caneta']"
            ]
          },
          "metadata": {
            "tags": []
          },
          "execution_count": 24
        }
      ]
    },
    {
      "cell_type": "code",
      "metadata": {
        "id": "M212NNFgJUOG",
        "colab_type": "code",
        "colab": {
          "base_uri": "https://localhost:8080/",
          "height": 34
        },
        "outputId": "8e139148-ab8a-4bf4-b2c8-446a7d79c410"
      },
      "source": [
        "verdade_absoluta_02.replace('Flamengo', 'Sport Club Recife')"
      ],
      "execution_count": 25,
      "outputs": [
        {
          "output_type": "execute_result",
          "data": {
            "text/plain": [
              "' e o brasileiro de 1987 é do Sport Club Recife'"
            ]
          },
          "metadata": {
            "tags": []
          },
          "execution_count": 25
        }
      ]
    },
    {
      "cell_type": "code",
      "metadata": {
        "id": "kZyvgKlBJZM0",
        "colab_type": "code",
        "colab": {
          "base_uri": "https://localhost:8080/",
          "height": 34
        },
        "outputId": "78fc3396-328f-428d-ccc5-59bd3bb6bea1"
      },
      "source": [
        "texto.upper().split(',')"
      ],
      "execution_count": 26,
      "outputs": [
        {
          "output_type": "execute_result",
          "data": {
            "text/plain": [
              "['MESA', 'CADEIRA', 'CANETA']"
            ]
          },
          "metadata": {
            "tags": []
          },
          "execution_count": 26
        }
      ]
    },
    {
      "cell_type": "markdown",
      "metadata": {
        "id": "TC_UOIw-Kehn",
        "colab_type": "text"
      },
      "source": [
        "### Exercício 06\n",
        "\n",
        "Adicione o nome do seu time de coração na string abaixo:"
      ]
    },
    {
      "cell_type": "code",
      "metadata": {
        "id": "eqF6ODHwLNCw",
        "colab_type": "code",
        "colab": {}
      },
      "source": [
        "cancao = '''Porque meu time bota pra ferver, \n",
        "E o nome dele são vocês que vão dizer \n",
        "\n",
        "Ô , ô , ô , ô , ô , ô , ô , ô , ô , ô , ô , ô Vasco!\n",
        "\n",
        "Porque meu time bota pra ferver, \n",
        "E o nome dele são vocês que vão dizer \n",
        "\n",
        "Ô , ô , ô , ô , ô , ô , ô , ô , ô , ô , ô , ô Vasco!\n",
        "'''"
      ],
      "execution_count": 0,
      "outputs": []
    },
    {
      "cell_type": "markdown",
      "metadata": {
        "id": "kZV6uDYHLuHj",
        "colab_type": "text"
      },
      "source": [
        "**Clique aqui para ver a resposta**\n",
        "\n",
        "<!--\n",
        "cancao.replace('Vasco', 'Seu time do Coracao aqui')\n",
        "-->"
      ]
    }
  ]
}