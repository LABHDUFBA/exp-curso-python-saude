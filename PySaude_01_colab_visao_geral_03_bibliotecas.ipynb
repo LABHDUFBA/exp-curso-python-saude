{
 "cells": [
  {
   "cell_type": "markdown",
   "metadata": {
    "colab_type": "text",
    "id": "view-in-github"
   },
   "source": [
    "<a href=\"https://colab.research.google.com/github/zetta-health/exp-curso-python-saude/blob/master/PySaude_01_colab_visao_geral_03_bibliotecas.ipynb\" target=\"_parent\"><img src=\"https://colab.research.google.com/assets/colab-badge.svg\" alt=\"Open In Colab\"/></a>"
   ]
  },
  {
   "cell_type": "markdown",
   "metadata": {
    "colab_type": "text",
    "id": "QfsZuKMqUR9E"
   },
   "source": [
    "# O que é uma biblioteca?\n",
    "\n",
    "Biblioteca é um conjunto de código que pode ser utilizado para realizar várias tarefas."
   ]
  },
  {
   "cell_type": "markdown",
   "metadata": {
    "colab_type": "text",
    "id": "kDn_lVxg3Z2G"
   },
   "source": [
    "# Importando uma biblioteca que não está no Colaboratory\n",
    "\n",
    "Para importar uma biblioteca que não está no Colaboratory por padrão, você precisa instalá-la usando os comandos `!pip install` ou `!apt-get install`."
   ]
  },
  {
   "cell_type": "code",
   "execution_count": null,
   "metadata": {
    "colab": {},
    "colab_type": "code",
    "id": "GQ18Kd5F3uKe"
   },
   "outputs": [],
   "source": [
    "!pip install -q matplotlib-venn"
   ]
  },
  {
   "cell_type": "code",
   "execution_count": null,
   "metadata": {
    "colab": {},
    "colab_type": "code",
    "id": "__3eqm3q3sr-"
   },
   "outputs": [],
   "source": [
    "!apt-get -qq install -y libfluidsynth1"
   ]
  },
  {
   "cell_type": "markdown",
   "metadata": {
    "colab_type": "text",
    "id": "iDu3Slhq2zyh"
   },
   "source": [
    "# Atualizando o Pandas\n",
    "\n",
    "[Pandas](https://pandas.pydata.org/) está disponível por padrão, mas você pode trocar a versão utilizada."
   ]
  },
  {
   "cell_type": "code",
   "execution_count": 3,
   "metadata": {
    "colab": {
     "base_uri": "https://localhost:8080/",
     "height": 221
    },
    "colab_type": "code",
    "id": "6km1lWMF2kAm",
    "outputId": "c5278f73-16c1-42b9-f2f9-55d53dc32036"
   },
   "outputs": [
    {
     "name": "stdout",
     "output_type": "stream",
     "text": [
      "Name: pandas\n",
      "Version: 0.25.1\n",
      "Summary: Powerful data structures for data analysis, time series, and statistics\n",
      "Home-page: http://pandas.pydata.org\n",
      "Author: None\n",
      "Author-email: None\n",
      "License: BSD\n",
      "Location: /usr/local/lib/python3.6/dist-packages\n",
      "Requires: pytz, python-dateutil, numpy\n",
      "Required-by: xarray, vega-datasets, statsmodels, stable-baselines, sklearn-pandas, seaborn, pymc3, plotnine, pandas-profiling, pandas-gbq, pandas-datareader, mlxtend, mizani, magenta, gspread-dataframe, google-colab, fix-yahoo-finance, featuretools, fbprophet, fastai, cufflinks, altair\n"
     ]
    }
   ],
   "source": [
    "# Para determinar qual versão está sendo utilizada:\n",
    "!pip show pandas"
   ]
  },
  {
   "cell_type": "code",
   "execution_count": null,
   "metadata": {
    "colab": {},
    "colab_type": "code",
    "id": "PZqGn09iSSli"
   },
   "outputs": [],
   "source": [
    "# Usar a versão mais recente:\n",
    "# (Incompatível com o Colab)\n",
    "#!pip install --upgrade pandas"
   ]
  },
  {
   "cell_type": "code",
   "execution_count": 5,
   "metadata": {
    "colab": {
     "base_uri": "https://localhost:8080/",
     "height": 109
    },
    "colab_type": "code",
    "id": "0uMAamU0SSsv",
    "outputId": "fda3391f-b4e7-41a1-e788-55678c971b82"
   },
   "outputs": [
    {
     "name": "stdout",
     "output_type": "stream",
     "text": [
      "Requirement already satisfied: pandas==0.25.1 in /usr/local/lib/python3.6/dist-packages (0.25.1)\n",
      "Requirement already satisfied: python-dateutil>=2.6.1 in /usr/local/lib/python3.6/dist-packages (from pandas==0.25.1) (2.6.1)\n",
      "Requirement already satisfied: numpy>=1.13.3 in /usr/local/lib/python3.6/dist-packages (from pandas==0.25.1) (1.17.5)\n",
      "Requirement already satisfied: pytz>=2017.2 in /usr/local/lib/python3.6/dist-packages (from pandas==0.25.1) (2018.9)\n",
      "Requirement already satisfied: six>=1.5 in /usr/local/lib/python3.6/dist-packages (from python-dateutil>=2.6.1->pandas==0.25.1) (1.12.0)\n"
     ]
    }
   ],
   "source": [
    "# Usar uma versão específica:\n",
    "!pip install pandas==0.25.1"
   ]
  },
  {
   "cell_type": "markdown",
   "metadata": {
    "colab_type": "text",
    "id": "apoRbfWsRZ7S"
   },
   "source": [
    "# Instalar leitor de arquivos 7zip [libarchive](https://pypi.python.org/pypi/libarchive) "
   ]
  },
  {
   "cell_type": "code",
   "execution_count": null,
   "metadata": {
    "colab": {},
    "colab_type": "code",
    "id": "d_j7nNbKRmhx"
   },
   "outputs": [],
   "source": [
    "# https://pypi.python.org/pypi/libarchive\n",
    "!apt-get -qq install -y libarchive-dev && pip install -q -U libarchive\n",
    "import libarchive"
   ]
  },
  {
   "cell_type": "markdown",
   "metadata": {
    "colab_type": "text",
    "id": "PeaSX9KXR58J"
   },
   "source": [
    "# Instalar GraphViz & [PyDot](https://pypi.python.org/pypi/pydot)"
   ]
  },
  {
   "cell_type": "code",
   "execution_count": null,
   "metadata": {
    "colab": {},
    "colab_type": "code",
    "id": "w9llCG2wSRDx"
   },
   "outputs": [],
   "source": [
    "# https://pypi.python.org/pypi/pydot\n",
    "!apt-get -qq install -y graphviz && pip install -q pydot\n",
    "import pydot"
   ]
  },
  {
   "cell_type": "markdown",
   "metadata": {
    "colab_type": "text",
    "id": "Tlh1MKxGrKFO"
   },
   "source": [
    "# Instalar [cartopy](http://scitools.org.uk/cartopy/docs/latest/)"
   ]
  },
  {
   "cell_type": "code",
   "execution_count": 8,
   "metadata": {
    "colab": {
     "base_uri": "https://localhost:8080/",
     "height": 770
    },
    "colab_type": "code",
    "id": "Zq68DSY2rP2W",
    "outputId": "8d4e26c9-cc08-4555-e3aa-7d5e0122e5f0"
   },
   "outputs": [
    {
     "name": "stdout",
     "output_type": "stream",
     "text": [
      "Selecting previously unselected package python-pkg-resources.\n",
      "(Reading database ... 134509 files and directories currently installed.)\n",
      "Preparing to unpack .../0-python-pkg-resources_39.0.1-2_all.deb ...\n",
      "Unpacking python-pkg-resources (39.0.1-2) ...\n",
      "Selecting previously unselected package python-pyshp.\n",
      "Preparing to unpack .../1-python-pyshp_1.2.12+ds-1_all.deb ...\n",
      "Unpacking python-pyshp (1.2.12+ds-1) ...\n",
      "Selecting previously unselected package python-shapely.\n",
      "Preparing to unpack .../2-python-shapely_1.6.4-1_amd64.deb ...\n",
      "Unpacking python-shapely (1.6.4-1) ...\n",
      "Selecting previously unselected package python-six.\n",
      "Preparing to unpack .../3-python-six_1.11.0-2_all.deb ...\n",
      "Unpacking python-six (1.11.0-2) ...\n",
      "Selecting previously unselected package python-cartopy:amd64.\n",
      "Preparing to unpack .../4-python-cartopy_0.14.2+dfsg1-2build3_amd64.deb ...\n",
      "Unpacking python-cartopy:amd64 (0.14.2+dfsg1-2build3) ...\n",
      "Selecting previously unselected package python3-pkg-resources.\n",
      "Preparing to unpack .../5-python3-pkg-resources_39.0.1-2_all.deb ...\n",
      "Unpacking python3-pkg-resources (39.0.1-2) ...\n",
      "Selecting previously unselected package python3-pyshp.\n",
      "Preparing to unpack .../6-python3-pyshp_1.2.12+ds-1_all.deb ...\n",
      "Unpacking python3-pyshp (1.2.12+ds-1) ...\n",
      "Selecting previously unselected package python3-shapely.\n",
      "Preparing to unpack .../7-python3-shapely_1.6.4-1_amd64.deb ...\n",
      "Unpacking python3-shapely (1.6.4-1) ...\n",
      "Selecting previously unselected package python3-six.\n",
      "Preparing to unpack .../8-python3-six_1.11.0-2_all.deb ...\n",
      "Unpacking python3-six (1.11.0-2) ...\n",
      "Selecting previously unselected package python3-cartopy:amd64.\n",
      "Preparing to unpack .../9-python3-cartopy_0.14.2+dfsg1-2build3_amd64.deb ...\n",
      "Unpacking python3-cartopy:amd64 (0.14.2+dfsg1-2build3) ...\n",
      "Setting up python-shapely (1.6.4-1) ...\n",
      "Setting up python-pyshp (1.2.12+ds-1) ...\n",
      "Setting up python3-six (1.11.0-2) ...\n",
      "Setting up python3-shapely (1.6.4-1) ...\n",
      "Setting up python3-pyshp (1.2.12+ds-1) ...\n",
      "Setting up python3-pkg-resources (39.0.1-2) ...\n",
      "Setting up python-pkg-resources (39.0.1-2) ...\n",
      "Setting up python-six (1.11.0-2) ...\n",
      "Setting up python3-cartopy:amd64 (0.14.2+dfsg1-2build3) ...\n",
      "Setting up python-cartopy:amd64 (0.14.2+dfsg1-2build3) ...\n"
     ]
    }
   ],
   "source": [
    "!apt-get -qq install python-cartopy python3-cartopy\n",
    "import cartopy"
   ]
  }
 ],
 "metadata": {
  "colab": {
   "collapsed_sections": [],
   "include_colab_link": true,
   "name": "Snippets: Importando bibliotecas (traduzido apenas)",
   "provenance": []
  },
  "kernelspec": {
   "display_name": "Python 3",
   "language": "python",
   "name": "python3"
  },
  "language_info": {
   "codemirror_mode": {
    "name": "ipython",
    "version": 3
   },
   "file_extension": ".py",
   "mimetype": "text/x-python",
   "name": "python",
   "nbconvert_exporter": "python",
   "pygments_lexer": "ipython3",
   "version": "3.8.2"
  }
 },
 "nbformat": 4,
 "nbformat_minor": 4
}
