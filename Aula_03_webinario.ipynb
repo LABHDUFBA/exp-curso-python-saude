{
  "nbformat": 4,
  "nbformat_minor": 0,
  "metadata": {
    "kernelspec": {
      "display_name": "Python 3",
      "language": "python",
      "name": "python3"
    },
    "language_info": {
      "codemirror_mode": {
        "name": "ipython",
        "version": 3
      },
      "file_extension": ".py",
      "mimetype": "text/x-python",
      "name": "python",
      "nbconvert_exporter": "python",
      "pygments_lexer": "ipython3",
      "version": "3.8.1"
    },
    "colab": {
      "name": "Aula_03_webinario.ipynb",
      "provenance": [],
      "collapsed_sections": [],
      "toc_visible": true,
      "include_colab_link": true
    }
  },
  "cells": [
    {
      "cell_type": "markdown",
      "metadata": {
        "id": "view-in-github",
        "colab_type": "text"
      },
      "source": [
        "<a href=\"https://colab.research.google.com/github/zetta-health/exp-curso-python-saude/blob/master/Aula_03_webinario.ipynb\" target=\"_parent\"><img src=\"https://colab.research.google.com/assets/colab-badge.svg\" alt=\"Open In Colab\"/></a>"
      ]
    },
    {
      "cell_type": "markdown",
      "metadata": {
        "id": "ZKNJg5HiMhGG",
        "colab_type": "text"
      },
      "source": [
        " <a href=\"https://www.linkedin.com/company/zetta-health-analytics/\" align=\"center\"><img src=\"https://raw.githubusercontent.com/zetta-health/exp-curso-python-saude/master/assets/zetta-exp-logo.jpg\" width=\"300\" align=\"center\"></a>"
      ]
    },
    {
      "cell_type": "markdown",
      "metadata": {
        "id": "NHVxZQmDMs_N",
        "colab_type": "text"
      },
      "source": [
        "# **Zetta Exponential - Curso de Introdução ao Python para Gestão da Saúde**\n",
        "# Semana 03 - Listas, Dicionários, For Loops e Estruturas de Controle.\n",
        "**Prof. Caio Salgado**"
      ]
    },
    {
      "cell_type": "markdown",
      "metadata": {
        "id": "j9BsDfq4NEvs",
        "colab_type": "text"
      },
      "source": [
        "# Ao final desta aula você:\n",
        "\n",
        "1. Conhecerá e usará listas e dicionários; \n",
        "2. Usará loops (iterações) para resolver problemas comuns enfrentados pelos cientistas de dados;\n",
        "3. Reconhecerá as principais características das funções e escreverá sua própria função 🤓"
      ]
    },
    {
      "cell_type": "markdown",
      "metadata": {
        "id": "AmRzvQwDEjXM",
        "colab_type": "text"
      },
      "source": [
        "## Alerta: Desafio à frente.\n",
        "\n",
        "Ao final da aula, você será desafiado(a). O desafio reúne os aspectos principais\n",
        "da aula. O professor chamará atenção. Lembre-se de anotar enquanto assiste à aula."
      ]
    },
    {
      "cell_type": "markdown",
      "metadata": {
        "id": "kChy2CvyXHl3",
        "colab_type": "text"
      },
      "source": [
        "## Listas\n",
        "\n",
        "Uma **lista** é uma **coleção de itens em uma ordem específica**."
      ]
    },
    {
      "cell_type": "code",
      "metadata": {
        "id": "W01ow7eY5-9u",
        "colab_type": "code",
        "colab": {}
      },
      "source": [
        "# Os elementos de uma lista são definidos entre []\n",
        "nova_lista = []"
      ],
      "execution_count": null,
      "outputs": []
    },
    {
      "cell_type": "code",
      "metadata": {
        "id": "nBdJIj6g6AVb",
        "colab_type": "code",
        "colab": {}
      },
      "source": [
        "# Listas são como células de excel (colunas ou linhas)\n",
        "idades_a = [1, 2, 4 , 6]"
      ],
      "execution_count": null,
      "outputs": []
    },
    {
      "cell_type": "code",
      "metadata": {
        "id": "eVA-vFyG6ATV",
        "colab_type": "code",
        "colab": {}
      },
      "source": [
        "idades_b = [4, 6.5, 7.7, 9]"
      ],
      "execution_count": null,
      "outputs": []
    },
    {
      "cell_type": "code",
      "metadata": {
        "id": "aQH6StSk1gFu",
        "colab_type": "code",
        "colab": {}
      },
      "source": [
        "# Combinar listas\n",
        "idades = idades_a + idades_b"
      ],
      "execution_count": null,
      "outputs": []
    },
    {
      "cell_type": "code",
      "metadata": {
        "id": "xx2w7hUU6AQ1",
        "colab_type": "code",
        "colab": {}
      },
      "source": [
        "# Podemos usar a função 'sum' para somar valores\n",
        "sum(idades)"
      ],
      "execution_count": null,
      "outputs": []
    },
    {
      "cell_type": "code",
      "metadata": {
        "id": "NJRIMk826ANT",
        "colab_type": "code",
        "colab": {}
      },
      "source": [
        "# E com a função 'len', temos o número de elementos da lista\n",
        "len(idades)"
      ],
      "execution_count": null,
      "outputs": []
    },
    {
      "cell_type": "markdown",
      "metadata": {
        "id": "zQCXczal6Qa6",
        "colab_type": "text"
      },
      "source": [
        "### **Desafio 01**\n",
        "\n",
        "Use as funções 'sum' e 'len' para calcular a média aritmética da lista 'idades'.\n",
        "\n",
        "A média aritmética é a soma dos valores de uma lista dividida pela quantidade de elementos da lista."
      ]
    },
    {
      "cell_type": "code",
      "metadata": {
        "id": "F_faVUtU6AKx",
        "colab_type": "code",
        "colab": {}
      },
      "source": [
        "# Seu codigo aqui:\n",
        "media = "
      ],
      "execution_count": null,
      "outputs": []
    },
    {
      "cell_type": "markdown",
      "metadata": {
        "id": "aPYOI97uhfbX",
        "colab_type": "text"
      },
      "source": [
        "#### Outras funções uteis para manipular listas"
      ]
    },
    {
      "cell_type": "code",
      "metadata": {
        "id": "-gY7RXXf6mmP",
        "colab_type": "code",
        "colab": {}
      },
      "source": [
        "# É possível concatenar (juntar) uma lista a outra.\n",
        "idades_c = idades_a + idades_b"
      ],
      "execution_count": null,
      "outputs": []
    },
    {
      "cell_type": "code",
      "metadata": {
        "id": "zDuUCCvfXHl6",
        "colab_type": "code",
        "colab": {}
      },
      "source": [
        "# Podemos criar listas de strings também.\n",
        "estados_brasileiros = ['BA', 'PR', 'SP']"
      ],
      "execution_count": null,
      "outputs": []
    },
    {
      "cell_type": "code",
      "metadata": {
        "id": "XNiqFFpJXHmE",
        "colab_type": "code",
        "colab": {}
      },
      "source": [
        "# É possível remover objetos da lista usando a função 'remove'\n",
        "estados_brasileiros.remove('SP')"
      ],
      "execution_count": null,
      "outputs": []
    },
    {
      "cell_type": "code",
      "metadata": {
        "id": "diaHq70vXHmJ",
        "colab_type": "code",
        "colab": {}
      },
      "source": [
        "# Imprimir lista de estados\n",
        "estados_brasileiros"
      ],
      "execution_count": null,
      "outputs": []
    },
    {
      "cell_type": "code",
      "metadata": {
        "id": "twrvtOMQXHmS",
        "colab_type": "code",
        "colab": {}
      },
      "source": [
        "# Verificar se um elemento está dentro de uma lista\n",
        "'AC' in estados_brasileiros"
      ],
      "execution_count": null,
      "outputs": []
    },
    {
      "cell_type": "code",
      "metadata": {
        "id": "BEIXkR49XHmY",
        "colab_type": "code",
        "colab": {}
      },
      "source": [
        "# Criar listas\n",
        "vogais = ['a', 'u', 'o', 'i', 'e']"
      ],
      "execution_count": null,
      "outputs": []
    },
    {
      "cell_type": "code",
      "metadata": {
        "id": "Xcj91HhAXHmd",
        "colab_type": "code",
        "colab": {}
      },
      "source": [
        "# Ordenar listas\n",
        "# Observação: a lista é ordenada sem necessidade de atribuir objeto\n",
        "vogais.sort(reverse=True)"
      ],
      "execution_count": null,
      "outputs": []
    },
    {
      "cell_type": "code",
      "metadata": {
        "id": "ZFUli_h8XHmi",
        "colab_type": "code",
        "colab": {}
      },
      "source": [
        "# Imprimir lista\n",
        "vogais"
      ],
      "execution_count": null,
      "outputs": []
    },
    {
      "cell_type": "markdown",
      "metadata": {
        "id": "HD1BNV4RR0pv",
        "colab_type": "text"
      },
      "source": [
        "### **Índices e slicing**"
      ]
    },
    {
      "cell_type": "code",
      "metadata": {
        "id": "0-xLMd1p7kPU",
        "colab_type": "code",
        "colab": {}
      },
      "source": [
        "# Criar lista com grandes nomes da computação\n",
        "grandes_nomes_da_computacao = ['Ada Lovelace', 'Alexandra Elbakyan', \n",
        "                               'Linus Torvals', 'Steve Jobs', 'Bill Gates']"
      ],
      "execution_count": 1,
      "outputs": []
    },
    {
      "cell_type": "markdown",
      "metadata": {
        "id": "7hVPjx9OA8CH",
        "colab_type": "text"
      },
      "source": [
        "![Imgur](https://i.imgur.com/UuPPUNL.png)"
      ]
    },
    {
      "cell_type": "code",
      "metadata": {
        "id": "h1ysS-Y371eW",
        "colab_type": "code",
        "colab": {
          "base_uri": "https://localhost:8080/",
          "height": 69
        },
        "outputId": "d526ad79-e341-4c5f-8a67-d80500f64b56"
      },
      "source": [
        "# Selecionar o primeiro item da lista\n",
        "print('Primeiro item da lista: ', grandes_nomes_da_computacao[0])\n",
        "\n",
        "# Selecionar o terceiro item da lista\n",
        "print('Terceiro item da lista: ', grandes_nomes_da_computacao[3])\n",
        "\n",
        "# Selecionar o último item da lista\n",
        "print('Último item da lista: ', grandes_nomes_da_computacao[-1])"
      ],
      "execution_count": 5,
      "outputs": [
        {
          "output_type": "stream",
          "text": [
            "Primeiro item da lista:  Ada Lovelace\n",
            "Terceiro item da lista:  Steve Jobs\n",
            "Último item da lista:  Bill Gates\n"
          ],
          "name": "stdout"
        }
      ]
    },
    {
      "cell_type": "markdown",
      "metadata": {
        "id": "FySgJ4m_9NHk",
        "colab_type": "text"
      },
      "source": [
        ""
      ]
    },
    {
      "cell_type": "markdown",
      "metadata": {
        "id": "IF7MTQJtf0-9",
        "colab_type": "text"
      },
      "source": [
        "### **Exercício 01**\n",
        "\n",
        "Hora de entrar para história. Insira seu nome na lista de grandes nomes da computação."
      ]
    },
    {
      "cell_type": "code",
      "metadata": {
        "id": "IhxS70bx7abs",
        "colab_type": "code",
        "colab": {}
      },
      "source": [
        "# Pode acrescentar valores com o método 'append'\n",
        "grandes_nomes_da_computacao = ['Ada Lovelace', 'Alexandra Elbakyan', \n",
        "                               'Linus Torvals', 'Steve Jobs', 'Bill Gates']\n",
        "\n",
        "# Edite a linha abaixo\n",
        "meu_nome = 'meu nome' # <- Editar\n",
        "\n",
        "# Não editar as linhas abaixo\n",
        "grandes_nomes_da_computacao.append(meu_nome)\n",
        "print(grandes_nomes_da_computacao)"
      ],
      "execution_count": null,
      "outputs": []
    },
    {
      "cell_type": "code",
      "metadata": {
        "id": "YGYj7M3WSYeo",
        "colab_type": "code",
        "colab": {}
      },
      "source": [
        "# Utilizamos os índices para selecionar elementos da lista\n",
        "grandes_nomes_da_computacao[-1]"
      ],
      "execution_count": null,
      "outputs": []
    },
    {
      "cell_type": "markdown",
      "metadata": {
        "id": "0NYv6xYW69_B",
        "colab_type": "text"
      },
      "source": [
        "### **Slicing**\n",
        "\n",
        "Você pode selecionar os elementos usando cortes na lista.\n"
      ]
    },
    {
      "cell_type": "markdown",
      "metadata": {
        "id": "_y5dCB3B9umR",
        "colab_type": "text"
      },
      "source": [
        "![Imgur](https://i.imgur.com/s2qJzwc.png)"
      ]
    },
    {
      "cell_type": "code",
      "metadata": {
        "id": "xxJhTOZr70jK",
        "colab_type": "code",
        "colab": {
          "base_uri": "https://localhost:8080/",
          "height": 54
        },
        "outputId": "980197f8-e4f6-4207-ad97-193cfe7bc927"
      },
      "source": [
        "# Selecionar os três primeiros elementos da lista\n",
        "print('Selecionar os três primeiros elementos da lista:', \n",
        "      grandes_nomes_da_computacao[0:3]) # Primeiro número onde a lista começa e\n",
        "                                        # segundo onde termina (não inclusivo)"
      ],
      "execution_count": 14,
      "outputs": [
        {
          "output_type": "stream",
          "text": [
            "Selecionar os três primeiros elementos da lista: ['Ada Lovelace', 'Alexandra Elbakyan', 'Linus Torvals']\n"
          ],
          "name": "stdout"
        }
      ]
    },
    {
      "cell_type": "markdown",
      "metadata": {
        "id": "7csuuVobMafy",
        "colab_type": "text"
      },
      "source": [
        "## Dicionários\n",
        "\n",
        "**Dicionários** permitem que você estabeleça **conexões entre peças individuais de informação**, como por exemplo palavras (chaves, *keys*) e seus significados (valores, *values*)."
      ]
    },
    {
      "cell_type": "code",
      "metadata": {
        "id": "pfC_Pdy47-s_",
        "colab_type": "code",
        "colab": {}
      },
      "source": [
        "# Dicionários são definidos entre {}.\n",
        "dicionario = {}"
      ],
      "execution_count": null,
      "outputs": []
    },
    {
      "cell_type": "code",
      "metadata": {
        "id": "btbLHsLNXHnH",
        "colab_type": "code",
        "colab": {},
        "outputId": "f6cc49aa-bf7f-4ec6-ec58-a52289292383"
      },
      "source": [
        "# Exemplo\n",
        "capitais = { 'SP': 'Sao Paulo',\n",
        "             'RJ': 'Rio de Janeiro',\n",
        "             'RN': 'Natal'}\n",
        "capitais"
      ],
      "execution_count": null,
      "outputs": [
        {
          "output_type": "execute_result",
          "data": {
            "text/plain": [
              "{'SP': 'Sao Paulo', 'RJ': 'Rio de Janeiro', 'MG': 'Belo Horizonte'}"
            ]
          },
          "metadata": {
            "tags": []
          },
          "execution_count": 33
        }
      ]
    },
    {
      "cell_type": "code",
      "metadata": {
        "id": "m9qsAUet8DLJ",
        "colab_type": "code",
        "colab": {}
      },
      "source": [
        "# Podemos adicionar valores ao dicionário:\n",
        "capitais['BA'] = 'Salvador'"
      ],
      "execution_count": null,
      "outputs": []
    },
    {
      "cell_type": "code",
      "metadata": {
        "id": "Q_DTIqv-XHnP",
        "colab_type": "code",
        "colab": {}
      },
      "source": [
        "# E para deletar valores no dicionário:\n",
        "del capitais['RJ']"
      ],
      "execution_count": null,
      "outputs": []
    },
    {
      "cell_type": "code",
      "metadata": {
        "id": "1mrIgrcdXHnW",
        "colab_type": "code",
        "colab": {}
      },
      "source": [
        "capitais"
      ],
      "execution_count": null,
      "outputs": []
    },
    {
      "cell_type": "code",
      "metadata": {
        "id": "6v_JhCkTXHna",
        "colab_type": "code",
        "colab": {}
      },
      "source": [
        "# Podemos checar se um item está no nosso dicionário.\n",
        "'SP' in capitais"
      ],
      "execution_count": null,
      "outputs": []
    },
    {
      "cell_type": "markdown",
      "metadata": {
        "id": "0ffzIhCjXHnf",
        "colab_type": "text"
      },
      "source": [
        "## For Loop \n",
        "\n",
        "Loops são perfeitos para você economizar tempo em atividades que envolvem repetição."
      ]
    },
    {
      "cell_type": "code",
      "metadata": {
        "id": "u6qT3zD3XHng",
        "colab_type": "code",
        "colab": {}
      },
      "source": [
        "# Exemplo de 'for loop'.\n",
        "lista_01 = ['amarelo', 'verde', 'azul']\n",
        "\n",
        "for i in lista_01: # Não esquecer do uso dos ':'.\n",
        "  print(i)"
      ],
      "execution_count": null,
      "outputs": []
    },
    {
      "cell_type": "code",
      "metadata": {
        "id": "TSbFwub4XHnl",
        "colab_type": "code",
        "colab": {}
      },
      "source": [
        "# A função 'range' permite determinar um intervalo para percorrermos o loop.\n",
        "# Quando temos apenas um parâmetro na função, o intervalo começa em 0.\n",
        "for i in range(10):\n",
        "  print(i)"
      ],
      "execution_count": null,
      "outputs": []
    },
    {
      "cell_type": "code",
      "metadata": {
        "id": "GlA1i5eSXHnq",
        "colab_type": "code",
        "colab": {}
      },
      "source": [
        "# Você pode fazer iterações em múltiplas listas de uma vez usando 'zip':\n",
        "lista_a = [1,2,3,4,5]\n",
        "lista_b = [5,4,3,2,1]\n",
        "for a, b in zip(lista_a, lista_b): \n",
        "  print(a, b)"
      ],
      "execution_count": null,
      "outputs": []
    },
    {
      "cell_type": "markdown",
      "metadata": {
        "id": "Vfo7NSNpiKZ4",
        "colab_type": "text"
      },
      "source": [
        "### Compreensão de listas"
      ]
    },
    {
      "cell_type": "code",
      "metadata": {
        "id": "uTj70U6AXHnx",
        "colab_type": "code",
        "colab": {}
      },
      "source": [
        "# Exemplo:\n",
        "lista_02 = [x for x in range(7)]\n",
        "lista_02"
      ],
      "execution_count": null,
      "outputs": []
    },
    {
      "cell_type": "code",
      "metadata": {
        "id": "g_hsKaTJXHn8",
        "colab_type": "code",
        "colab": {}
      },
      "source": [
        "# Exemplo:\n",
        "lista_03 = [x + 2 for x in range(7)]\n",
        "lista_03"
      ],
      "execution_count": null,
      "outputs": []
    },
    {
      "cell_type": "code",
      "metadata": {
        "id": "FVwsJ0E6XHoH",
        "colab_type": "code",
        "colab": {}
      },
      "source": [
        "# Aqui, a compreensão de listas foi aplicada a uma lista de strings.\n",
        "lista_04 = [x.lower() for x in ['MESA', 'CANETA', 'CADEIRA']]\n",
        "lista_04"
      ],
      "execution_count": null,
      "outputs": []
    },
    {
      "cell_type": "markdown",
      "metadata": {
        "id": "yvSQE-cK-SoW",
        "colab_type": "text"
      },
      "source": [
        "## Estruturas de Controle"
      ]
    },
    {
      "cell_type": "code",
      "metadata": {
        "id": "QG7_jtp1XHoO",
        "colab_type": "code",
        "colab": {}
      },
      "source": [
        "minha_altura = int(input('Digite sua altura em metros (m): '))"
      ],
      "execution_count": null,
      "outputs": []
    },
    {
      "cell_type": "code",
      "metadata": {
        "id": "N_l3jp3mXHoT",
        "colab_type": "code",
        "colab": {}
      },
      "source": [
        "if minha_altura < 1.40:\n",
        "    print('Carreira Sugerida: Arquiteto(a) de Lego')\n",
        "elif minha_altura > 1.90:\n",
        "    print('Carreira Sugerida: Jogador(a) de basquete')\n",
        "else:\n",
        "    print('Nosso orientador vocacional precisa conhecer seus outros talentos...')"
      ],
      "execution_count": null,
      "outputs": []
    },
    {
      "cell_type": "code",
      "metadata": {
        "id": "q2yVnHhnXHob",
        "colab_type": "code",
        "colab": {}
      },
      "source": [
        "# Podemos combinar as estruturas de controle com um loop.\n",
        "for i in range(10):\n",
        "    if i > 5:\n",
        "        print(i)"
      ],
      "execution_count": null,
      "outputs": []
    },
    {
      "cell_type": "markdown",
      "metadata": {
        "id": "1Er60wj6XHoi",
        "colab_type": "text"
      },
      "source": [
        "### **Exercício 02**\n",
        "Selecione apenas os valores maiores que 35 na lista abaixo e os adicione à 'lista_final'. \n",
        "\n",
        "(**Dica**: utilize controle de fluxo)"
      ]
    },
    {
      "cell_type": "code",
      "metadata": {
        "id": "zxPQgfyh_Vem",
        "colab_type": "code",
        "colab": {}
      },
      "source": [
        "lista_05 = [10, 15, 38, 23, 52, 61, 17, 45, 30, 73]\n",
        "\n",
        "lista_final = []\n",
        "# Seu código aqui:"
      ],
      "execution_count": null,
      "outputs": []
    },
    {
      "cell_type": "code",
      "metadata": {
        "id": "Evjg8FhI_of7",
        "colab_type": "code",
        "colab": {}
      },
      "source": [
        "# Confira aqui os itens da nova lista.\n",
        "lista_final"
      ],
      "execution_count": null,
      "outputs": []
    },
    {
      "cell_type": "markdown",
      "metadata": {
        "id": "s8dsZT6Q_1d7",
        "colab_type": "text"
      },
      "source": [
        "### Definindo uma Função\n",
        "\n",
        "Funções devem cumprir um objetivo determinado e são úteis para você evitar repetição. Você passará a maior parte de seu tempo usando as funções de outras pessoas e alguma parte escrevendo suas próprias.\n",
        "\n",
        "#### **Estrutura geral**\n",
        " Veja a estrutura de uma função abaixo:\n",
        "\n",
        "![Representação de uma função](https://i.imgur.com/KUpF1Q9.png)\n",
        "\n",
        "Dicas simples para escrever suas próprias funções:\n",
        "\n",
        "\n",
        "*   Comente-as;\n",
        "*   Define-as usando um verbo preciso com o principal objetivo;\n",
        "*   Use recuo.\n",
        "\n"
      ]
    },
    {
      "cell_type": "code",
      "metadata": {
        "id": "EAZ8e9xCXHok",
        "colab_type": "code",
        "colab": {}
      },
      "source": [
        "def calcular_imc(massa_corporal, altura):\n",
        "  '''\n",
        "  Calcula o Índice de Massa Corporal\n",
        "\n",
        "  Parâmetros:\n",
        "      massa_corporal [inteiro ou float]: massa corporal em Kilogramas \n",
        "      altura [float]: altura em metro. Ex. 1.70 \n",
        "  '''\n",
        "  imc = massa_corporal / altura ** 2\n",
        "  return imc"
      ],
      "execution_count": 21,
      "outputs": []
    },
    {
      "cell_type": "code",
      "metadata": {
        "id": "DyYRDT-JspsN",
        "colab_type": "code",
        "colab": {
          "base_uri": "https://localhost:8080/",
          "height": 34
        },
        "outputId": "2646a902-c0dd-4596-c747-28f79ad2da40"
      },
      "source": [
        "# Calcule seu IMC\n",
        "# Insira sua massa corporal em kg e altura em metros (m)\n",
        "calcular_imc(massa_corporal=66, \n",
        "             altura=1.70)"
      ],
      "execution_count": 23,
      "outputs": [
        {
          "output_type": "execute_result",
          "data": {
            "text/plain": [
              "22.837370242214536"
            ]
          },
          "metadata": {
            "tags": []
          },
          "execution_count": 23
        }
      ]
    },
    {
      "cell_type": "markdown",
      "metadata": {
        "id": "4aUdGtvdxcIY",
        "colab_type": "text"
      },
      "source": [
        "### **Exercício 03**\n",
        "\n",
        "Showtime! É hora de usar melhor a função 'calcular_imc'. A função precisa retornar o texto (Nível de Peso) de acordo com os critérios da tabela abaixo.\n",
        "\n",
        "\n",
        "Tabela de referência para o cálculo do IMC.\n",
        "\n",
        "\n",
        "| IMC            | Nível de peso     |\n",
        "| :------------- | :----------:      |\n",
        "|  < 18.5        | Abaixo do peso    |\n",
        "|  18.5 - 24.9   | Normal            |\n",
        "|  25.0 - 29.9   | Sobrepeso         |\n",
        "|  >= 30         | Obeso             |\n",
        "\n",
        "\n",
        "**Observação:** Esta tabela não tem finalidade de diagnóstico clínico.\n",
        "\n",
        "Fonte: [CDC](https://www.cdc.gov/healthyweight/spanish/assessing/bmi/adult_bmi/index.html).\n",
        "\n"
      ]
    },
    {
      "cell_type": "code",
      "metadata": {
        "id": "vcjVuPuzXHoq",
        "colab_type": "code",
        "colab": {}
      },
      "source": [
        "def calcular_indicador_imc(massa_corporal, altura):\n",
        "  '''\n",
        "  Calcula o imc, retornando os critérios de referência do CDC:\n",
        "  Parâmetros:\n",
        "    massa_corporal [inteiro ou float]: massa corporal em Kilogramas \n",
        "    altura [float]: altura em metro. Ex. 1.70 \n",
        "  '''\n",
        "  # Seu código abaixo....\n",
        "  # Dica: você pode olhar o exercício 2.\n",
        "  \n"
      ],
      "execution_count": null,
      "outputs": []
    },
    {
      "cell_type": "markdown",
      "metadata": {
        "id": "ndCdQbE2xK0F",
        "colab_type": "text"
      },
      "source": [
        "### **Desafio 02**\n",
        "\n",
        "\n",
        "Com fim de promover a cultura de saúde, gestores de um de seus clientes estão pensando em criar programas de alimentação saudável e exercícios físicos. \n",
        "\n",
        "\n",
        "Com base nos conhecimentos da aula de hoje, estime a proporção de colaboradores com sobrepeso ou obesos.\n",
        "\n",
        "\n"
      ]
    },
    {
      "cell_type": "code",
      "metadata": {
        "id": "VxuWL6hGxMrt",
        "colab_type": "code",
        "colab": {}
      },
      "source": [
        "# APENAS EXECUTE ESTA CÉLULA\n",
        "'''\n",
        "Este código cria duas listas 'colaboradores_massa' e 'colaboradores_altura' com\n",
        "massas e alturas de 20 mil colaboradores, respectivamente. Os valores de \n",
        "referência foram adaptados dos dados da população brasileira.\n",
        "\n",
        "Edite para brincar se estiver se sentindo um(a) hacker de novela\n",
        "'''\n",
        "import numpy as np # Importar biblioteca numpy\n",
        "np.random.seed(42) # Definir a sequeência para gerar números aleatórios\n",
        "\n",
        "# Criar alturas e pesos dos colaboradores\n",
        "homens_massa = np.random.normal(73, 10.0, 10000)     # Homens: criar lista de massas com base na distribuição normal\n",
        "homens_altura = np.random.normal(1.73, 0.15, 10000)  # Homens: criar lista de altura com base na distribuição normal\n",
        "\n",
        "mulheres_massa = np.random.normal(63, 10.0, 10000)   # Mulheres: criar lista de massas com base na distribuição normal\n",
        "mulheres_altura = np.random.normal(1.60, 0.15, 10000)# Mulheres: criar lista de altura com base na distribuição normal \n",
        "\n",
        "colaboradores_massa = np.concatenate((homens_massa, mulheres_massa))    # Combinar listas de massas de homens e mulheres\n",
        "colaboradores_altura = np.concatenate((homens_altura, mulheres_altura)) # Combinar listas de altura de homens e mulheres"
      ],
      "execution_count": null,
      "outputs": []
    },
    {
      "cell_type": "code",
      "metadata": {
        "id": "UznqgtPZ57Te",
        "colab_type": "code",
        "colab": {}
      },
      "source": [
        "# SUA RESPOSTA DO DESAFIO 02\n",
        "# Sua resposta aqui:\n",
        "# Dica 1: Você pode usar as funções já criadas.\n",
        "# Dica 2: Você pode querer usar um loop.  \n",
        "# Dica 3: É uma boa ideia juntar listas usando a função zip.\n",
        "# Nível Very Hard: Use uma compreensão de lista e resolva tudo numa linha (Google)."
      ],
      "execution_count": null,
      "outputs": []
    },
    {
      "cell_type": "code",
      "metadata": {
        "id": "AD3fRPHWnHaP",
        "colab_type": "code",
        "colab": {}
      },
      "source": [
        "# ESCREVA SUA RESPOSTA AQUI\n"
      ],
      "execution_count": null,
      "outputs": []
    },
    {
      "cell_type": "markdown",
      "metadata": {
        "id": "VvuTfQaJ0O5k",
        "colab_type": "text"
      },
      "source": [
        "# Respostas do desafio no Slack\n",
        "\n",
        "## Exercícios da semana\n",
        "\n",
        "- [Loops e estruturas de controle](https://colab.research.google.com/github/zetta-health/exp-curso-python-saude/blob/master/PySaude_02_python_01_loops.ipynb)\n",
        "- [Funções](https://colab.research.google.com/github/zetta-health/exp-curso-python-saude/blob/master/PySaude_02_python_04_funcoes.ipynb)\n",
        "\n",
        "\n",
        "# Muito obrigado!"
      ]
    }
  ]
}