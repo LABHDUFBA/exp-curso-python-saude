{
  "nbformat": 4,
  "nbformat_minor": 0,
  "metadata": {
    "kernelspec": {
      "display_name": "Python 3",
      "language": "python",
      "name": "python3"
    },
    "language_info": {
      "codemirror_mode": {
        "name": "ipython",
        "version": 3
      },
      "file_extension": ".py",
      "mimetype": "text/x-python",
      "name": "python",
      "nbconvert_exporter": "python",
      "pygments_lexer": "ipython3",
      "version": "3.8.1"
    },
    "colab": {
      "name": "Aula_03_webinario.ipynb",
      "provenance": [],
      "collapsed_sections": [],
      "toc_visible": true,
      "include_colab_link": true
    }
  },
  "cells": [
    {
      "cell_type": "markdown",
      "metadata": {
        "id": "view-in-github",
        "colab_type": "text"
      },
      "source": [
        "<a href=\"https://colab.research.google.com/github/zetta-health/exp-curso-python-saude/blob/master/Aula_03_webinario.ipynb\" target=\"_parent\"><img src=\"https://colab.research.google.com/assets/colab-badge.svg\" alt=\"Open In Colab\"/></a>"
      ]
    },
    {
      "cell_type": "markdown",
      "metadata": {
        "id": "ZKNJg5HiMhGG",
        "colab_type": "text"
      },
      "source": [
        " <a href=\"https://www.linkedin.com/company/zetta-health-analytics/\" align=\"center\"><img src=\"https://raw.githubusercontent.com/zetta-health/exp-curso-python-saude/master/assets/zetta-exp-logo.jpg\" width=\"300\" align=\"center\"></a>"
      ]
    },
    {
      "cell_type": "markdown",
      "metadata": {
        "id": "NHVxZQmDMs_N",
        "colab_type": "text"
      },
      "source": [
        "# **Zetta Exponential - Curso de Introdução ao Python para Gestão da Saúde**\n",
        "# Semana 03 - Listas, Dicionários, For Loops e Estruturas de Controle.\n",
        "**Prof. Caio Salgado**"
      ]
    },
    {
      "cell_type": "markdown",
      "metadata": {
        "id": "j9BsDfq4NEvs",
        "colab_type": "text"
      },
      "source": [
        "# Ao final desta aula você:\n",
        "\n",
        "1. Conhecerá e usará listas e dicionários; \n",
        "2. Usará loops (iterações) para resolver problemas comuns enfrentados pelos cientistas de dados;\n",
        "3. Reconhecerá as principais características das funções e escreverá sua própria função 🤓"
      ]
    },
    {
      "cell_type": "markdown",
      "metadata": {
        "id": "kChy2CvyXHl3",
        "colab_type": "text"
      },
      "source": [
        "## Listas\n",
        "\n",
        "Uma **lista** é uma **coleção de itens em uma ordem específica**."
      ]
    },
    {
      "cell_type": "code",
      "metadata": {
        "id": "W01ow7eY5-9u",
        "colab_type": "code",
        "colab": {}
      },
      "source": [
        "# Os elementos de uma lista são definidos entre []\n",
        "nova_lista = []"
      ],
      "execution_count": null,
      "outputs": []
    },
    {
      "cell_type": "code",
      "metadata": {
        "id": "nBdJIj6g6AVb",
        "colab_type": "code",
        "colab": {}
      },
      "source": [
        "# Listas são como células de excel (colunas ou linhas)\n",
        "idades_a = [1, 2, 4 , 6]"
      ],
      "execution_count": null,
      "outputs": []
    },
    {
      "cell_type": "code",
      "metadata": {
        "id": "eVA-vFyG6ATV",
        "colab_type": "code",
        "colab": {}
      },
      "source": [
        "idades_b = [4, 6.5, 7.7, 9]"
      ],
      "execution_count": null,
      "outputs": []
    },
    {
      "cell_type": "code",
      "metadata": {
        "id": "aQH6StSk1gFu",
        "colab_type": "code",
        "colab": {}
      },
      "source": [
        "# Combinar listas\n",
        "idades = idades_a + idades_b"
      ],
      "execution_count": null,
      "outputs": []
    },
    {
      "cell_type": "code",
      "metadata": {
        "id": "xx2w7hUU6AQ1",
        "colab_type": "code",
        "colab": {}
      },
      "source": [
        "# Podemos usar a função 'sum' para somar valores\n",
        "sum(idades)"
      ],
      "execution_count": null,
      "outputs": []
    },
    {
      "cell_type": "code",
      "metadata": {
        "id": "NJRIMk826ANT",
        "colab_type": "code",
        "colab": {}
      },
      "source": [
        "# E com a função 'len', temos o número de elementos da lista\n",
        "len(idades)"
      ],
      "execution_count": null,
      "outputs": []
    },
    {
      "cell_type": "markdown",
      "metadata": {
        "id": "zQCXczal6Qa6",
        "colab_type": "text"
      },
      "source": [
        "### **Desafio 01**\n",
        "\n",
        "Use as funções 'sum' e 'len' para calcular a média aritmética da lista 'idades'.\n",
        "\n",
        "A média aritmética é a soma dos valores de uma lista dividida pela quantidade de elementos da lista."
      ]
    },
    {
      "cell_type": "code",
      "metadata": {
        "id": "F_faVUtU6AKx",
        "colab_type": "code",
        "colab": {}
      },
      "source": [
        "# Seu codigo aqui:\n",
        "media = "
      ],
      "execution_count": null,
      "outputs": []
    },
    {
      "cell_type": "markdown",
      "metadata": {
        "id": "aPYOI97uhfbX",
        "colab_type": "text"
      },
      "source": [
        "#### Outras funções uteis para manipular listas"
      ]
    },
    {
      "cell_type": "code",
      "metadata": {
        "id": "-gY7RXXf6mmP",
        "colab_type": "code",
        "colab": {}
      },
      "source": [
        "# É possível concatenar (juntar) uma lista a outra.\n",
        "idades_c = idades_a + idades_b"
      ],
      "execution_count": null,
      "outputs": []
    },
    {
      "cell_type": "code",
      "metadata": {
        "id": "zDuUCCvfXHl6",
        "colab_type": "code",
        "colab": {}
      },
      "source": [
        "# Podemos criar listas de strings também.\n",
        "estados_brasileiros = ['BA', 'PR', 'SP']"
      ],
      "execution_count": null,
      "outputs": []
    },
    {
      "cell_type": "code",
      "metadata": {
        "id": "XNiqFFpJXHmE",
        "colab_type": "code",
        "colab": {}
      },
      "source": [
        "# É possível remover objetos da lista usando a função 'remove'\n",
        "estados_brasileiros.remove('SP')"
      ],
      "execution_count": null,
      "outputs": []
    },
    {
      "cell_type": "code",
      "metadata": {
        "id": "diaHq70vXHmJ",
        "colab_type": "code",
        "colab": {}
      },
      "source": [
        "# Imprimir lista de estados\n",
        "estados_brasileiros"
      ],
      "execution_count": null,
      "outputs": []
    },
    {
      "cell_type": "code",
      "metadata": {
        "id": "twrvtOMQXHmS",
        "colab_type": "code",
        "colab": {}
      },
      "source": [
        "# Verificar se um elemento está dentro de uma lista\n",
        "'AC' in estados_brasileiros"
      ],
      "execution_count": null,
      "outputs": []
    },
    {
      "cell_type": "code",
      "metadata": {
        "id": "BEIXkR49XHmY",
        "colab_type": "code",
        "colab": {}
      },
      "source": [
        "# Criar listas\n",
        "vogais = ['a', 'u', 'o', 'i', 'e']"
      ],
      "execution_count": null,
      "outputs": []
    },
    {
      "cell_type": "code",
      "metadata": {
        "id": "Xcj91HhAXHmd",
        "colab_type": "code",
        "colab": {}
      },
      "source": [
        "# Ordenar listas\n",
        "# Observação: a lista é ordenada sem necessidade de atribuir objeto\n",
        "vogais.sort(reverse=True)"
      ],
      "execution_count": null,
      "outputs": []
    },
    {
      "cell_type": "code",
      "metadata": {
        "id": "ZFUli_h8XHmi",
        "colab_type": "code",
        "colab": {}
      },
      "source": [
        "# Imprimir lista\n",
        "vogais"
      ],
      "execution_count": null,
      "outputs": []
    },
    {
      "cell_type": "markdown",
      "metadata": {
        "id": "IF7MTQJtf0-9",
        "colab_type": "text"
      },
      "source": [
        "### **Exercício 01**\n",
        "\n",
        "Hora de entrar para história. Insira seu nome na lista de grandes nomes da computação."
      ]
    },
    {
      "cell_type": "code",
      "metadata": {
        "id": "IhxS70bx7abs",
        "colab_type": "code",
        "colab": {}
      },
      "source": [
        "# Pode acrescentar valores com o método 'append'\n",
        "grandes_nomes_da_computacao = ['Ada Lovelace', 'Alexandra Elbakyan', \n",
        "                               'Linus Torvals', 'Steve Jobs', 'Bill Gates']\n",
        "\n",
        "# Edite a linha abaixo\n",
        "meu_nome = 'meu nome' # <- Editar\n",
        "\n",
        "# Não editar as linhas abaixo\n",
        "grandes_nomes_da_computacao.append(meu_nome)\n",
        "print(grandes_nomes_da_computacao)"
      ],
      "execution_count": null,
      "outputs": []
    },
    {
      "cell_type": "markdown",
      "metadata": {
        "id": "HD1BNV4RR0pv",
        "colab_type": "text"
      },
      "source": [
        "### **Índice**"
      ]
    },
    {
      "cell_type": "code",
      "metadata": {
        "id": "YGYj7M3WSYeo",
        "colab_type": "code",
        "colab": {}
      },
      "source": [
        "# Utilizamos os índices para selecionar elementos da lista\n",
        "grandes_nomes_da_computacao[-1]"
      ],
      "execution_count": null,
      "outputs": []
    },
    {
      "cell_type": "markdown",
      "metadata": {
        "id": "7hVPjx9OA8CH",
        "colab_type": "text"
      },
      "source": [
        "![image.png](data:image/png;base64,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)"
      ]
    },
    {
      "cell_type": "markdown",
      "metadata": {
        "id": "0NYv6xYW69_B",
        "colab_type": "text"
      },
      "source": [
        "### **Slicing**"
      ]
    },
    {
      "cell_type": "code",
      "metadata": {
        "id": "PDKtXm5g69Io",
        "colab_type": "code",
        "colab": {}
      },
      "source": [
        "# Você pode cortar uma lista usando seus índices\n",
        "grandes_nomes_da_computacao[:3]"
      ],
      "execution_count": null,
      "outputs": []
    },
    {
      "cell_type": "markdown",
      "metadata": {
        "id": "w1TJjyT9-hg2",
        "colab_type": "text"
      },
      "source": [
        "![image.png](data:image/png;base64,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)"
      ]
    },
    {
      "cell_type": "code",
      "metadata": {
        "id": "xxJhTOZr70jK",
        "colab_type": "code",
        "colab": {}
      },
      "source": [
        "grandes_nomes_da_computacao[2:]"
      ],
      "execution_count": null,
      "outputs": []
    },
    {
      "cell_type": "markdown",
      "metadata": {
        "id": "R_tmyyct5ukv",
        "colab_type": "text"
      },
      "source": [
        "## Hora do Kahoot"
      ]
    },
    {
      "cell_type": "markdown",
      "metadata": {
        "id": "7csuuVobMafy",
        "colab_type": "text"
      },
      "source": [
        "## Dicionários\n",
        "\n",
        "**Dicionários** permitem que você estabeleça **conexões entre peças individuais de informação**, como por exemplo palavras (chaves, *keys*) e seus significados (valores, *values*)."
      ]
    },
    {
      "cell_type": "code",
      "metadata": {
        "id": "pfC_Pdy47-s_",
        "colab_type": "code",
        "colab": {}
      },
      "source": [
        "# Dicionários são definidos entre {}.\n",
        "dicionario = {}"
      ],
      "execution_count": null,
      "outputs": []
    },
    {
      "cell_type": "code",
      "metadata": {
        "id": "btbLHsLNXHnH",
        "colab_type": "code",
        "colab": {},
        "outputId": "f6cc49aa-bf7f-4ec6-ec58-a52289292383"
      },
      "source": [
        "# Exemplo\n",
        "capitais = { 'SP': 'Sao Paulo',\n",
        "             'RJ': 'Rio de Janeiro',\n",
        "             'RN': 'Natal'}\n",
        "capitais"
      ],
      "execution_count": null,
      "outputs": [
        {
          "output_type": "execute_result",
          "data": {
            "text/plain": [
              "{'SP': 'Sao Paulo', 'RJ': 'Rio de Janeiro', 'MG': 'Belo Horizonte'}"
            ]
          },
          "metadata": {
            "tags": []
          },
          "execution_count": 33
        }
      ]
    },
    {
      "cell_type": "code",
      "metadata": {
        "id": "m9qsAUet8DLJ",
        "colab_type": "code",
        "colab": {}
      },
      "source": [
        "# Podemos adicionar valores ao dicionário:\n",
        "# add bh - salvador\n",
        "capitais"
      ],
      "execution_count": null,
      "outputs": []
    },
    {
      "cell_type": "code",
      "metadata": {
        "id": "Q_DTIqv-XHnP",
        "colab_type": "code",
        "colab": {}
      },
      "source": [
        "# E para deletar valores no dicionário:\n",
        "del capitais['RJ']"
      ],
      "execution_count": null,
      "outputs": []
    },
    {
      "cell_type": "code",
      "metadata": {
        "id": "1mrIgrcdXHnW",
        "colab_type": "code",
        "colab": {}
      },
      "source": [
        "capitais"
      ],
      "execution_count": null,
      "outputs": []
    },
    {
      "cell_type": "code",
      "metadata": {
        "id": "6v_JhCkTXHna",
        "colab_type": "code",
        "colab": {}
      },
      "source": [
        "# Podemos checar se um item está no nosso dicionário.\n",
        "'SP' in capitais"
      ],
      "execution_count": null,
      "outputs": []
    },
    {
      "cell_type": "markdown",
      "metadata": {
        "id": "0ffzIhCjXHnf",
        "colab_type": "text"
      },
      "source": [
        "## For Loop \n",
        "\n",
        "Loops são perfeitos para você economizar tempo em atividades que envolvem repetição."
      ]
    },
    {
      "cell_type": "code",
      "metadata": {
        "id": "u6qT3zD3XHng",
        "colab_type": "code",
        "colab": {}
      },
      "source": [
        "# Exemplo de 'for loop'.\n",
        "lista_01 = ['amarelo', 'verde', 'azul']\n",
        "\n",
        "for i in lista_01: # Não esquecer do uso dos ':'.\n",
        "  print(i)"
      ],
      "execution_count": null,
      "outputs": []
    },
    {
      "cell_type": "code",
      "metadata": {
        "id": "TSbFwub4XHnl",
        "colab_type": "code",
        "colab": {}
      },
      "source": [
        "# A função 'range' permite determinar um intervalo para percorrermos o loop.\n",
        "# Quando temos apenas um parâmetro na função, o intervalo começa em 0.\n",
        "for i in range(10):\n",
        "  print(i)"
      ],
      "execution_count": null,
      "outputs": []
    },
    {
      "cell_type": "code",
      "metadata": {
        "id": "GlA1i5eSXHnq",
        "colab_type": "code",
        "colab": {}
      },
      "source": [
        "# Você pode fazer iterações em múltiplas listas de uma vez usando 'zip':\n",
        "lista_a = [1,2,3,4,5]\n",
        "lista_b = [5,4,3,2,1]\n",
        "for a, b in zip(lista_a, lista_b): \n",
        "  print(a, b)"
      ],
      "execution_count": null,
      "outputs": []
    },
    {
      "cell_type": "markdown",
      "metadata": {
        "id": "Vfo7NSNpiKZ4",
        "colab_type": "text"
      },
      "source": [
        "### Compreensão de listas"
      ]
    },
    {
      "cell_type": "code",
      "metadata": {
        "id": "uTj70U6AXHnx",
        "colab_type": "code",
        "colab": {}
      },
      "source": [
        "# Exemplo:\n",
        "lista_02 = [x for x in range(7)]\n",
        "lista_02"
      ],
      "execution_count": null,
      "outputs": []
    },
    {
      "cell_type": "code",
      "metadata": {
        "id": "g_hsKaTJXHn8",
        "colab_type": "code",
        "colab": {}
      },
      "source": [
        "# Exemplo:\n",
        "lista_03 = [x + 2 for x in range(7)]\n",
        "lista_03"
      ],
      "execution_count": null,
      "outputs": []
    },
    {
      "cell_type": "code",
      "metadata": {
        "id": "FVwsJ0E6XHoH",
        "colab_type": "code",
        "colab": {}
      },
      "source": [
        "# Aqui, a compreensão de listas foi aplicada a uma lista de strings.\n",
        "lista_04 = [x.lower() for x in ['MESA', 'CANETA', 'CADEIRA']]\n",
        "lista_04"
      ],
      "execution_count": null,
      "outputs": []
    },
    {
      "cell_type": "markdown",
      "metadata": {
        "id": "yvSQE-cK-SoW",
        "colab_type": "text"
      },
      "source": [
        "## Estruturas de Controle"
      ]
    },
    {
      "cell_type": "code",
      "metadata": {
        "id": "QG7_jtp1XHoO",
        "colab_type": "code",
        "colab": {}
      },
      "source": [
        "minha_altura = int(input('Digite sua altura em metros (m): '))"
      ],
      "execution_count": null,
      "outputs": []
    },
    {
      "cell_type": "code",
      "metadata": {
        "id": "N_l3jp3mXHoT",
        "colab_type": "code",
        "colab": {}
      },
      "source": [
        "if minha_altura < 1.40:\n",
        "    print('Carreira Sugerida: Arquiteto(a) de Lego')\n",
        "elif minha_altura > 1.90:\n",
        "    print('Carreira Sugerida: Jogador(a) de basquete')\n",
        "else:\n",
        "    print('Nosso orientador vocacional precisa conhecer seus outros talentos...')"
      ],
      "execution_count": null,
      "outputs": []
    },
    {
      "cell_type": "code",
      "metadata": {
        "id": "q2yVnHhnXHob",
        "colab_type": "code",
        "colab": {}
      },
      "source": [
        "# Podemos combinar as estruturas de controle com um loop.\n",
        "for i in range(10):\n",
        "    if i > 5:\n",
        "        print(i)"
      ],
      "execution_count": null,
      "outputs": []
    },
    {
      "cell_type": "markdown",
      "metadata": {
        "id": "1Er60wj6XHoi",
        "colab_type": "text"
      },
      "source": [
        "### **Exercício 02**\n",
        "Selecione apenas os valores maiores que 35 na lista abaixo e os adicione à 'lista_final'. \n",
        "\n",
        "(**Dica**: utilize controle de fluxo)"
      ]
    },
    {
      "cell_type": "code",
      "metadata": {
        "id": "zxPQgfyh_Vem",
        "colab_type": "code",
        "colab": {}
      },
      "source": [
        "lista_05 = [10, 15, 38, 23, 52, 61, 17, 45, 30, 73]\n",
        "\n",
        "lista_final = []\n",
        "# Seu código aqui:"
      ],
      "execution_count": null,
      "outputs": []
    },
    {
      "cell_type": "code",
      "metadata": {
        "id": "Evjg8FhI_of7",
        "colab_type": "code",
        "colab": {}
      },
      "source": [
        "# Confira aqui os itens da nova lista.\n",
        "lista_final"
      ],
      "execution_count": null,
      "outputs": []
    },
    {
      "cell_type": "markdown",
      "metadata": {
        "id": "s8dsZT6Q_1d7",
        "colab_type": "text"
      },
      "source": [
        "### Definindo uma Função\n",
        "\n",
        "Funções devem cumprir um objetivo determinado e são úteis para você evitar repetição. Você passará a maior parte de seu tempo usando as funções de outras pessoas e alguma parte escrevendo suas próprias.\n",
        "\n",
        "#### **Estrutura geral**\n",
        " Veja a estrutura de uma função abaixo:\n",
        "\n",
        "![Representação de uma função](https://i.imgur.com/KUpF1Q9.png)\n",
        "\n",
        "Dicas simples para escrever suas próprias funções:\n",
        "\n",
        "\n",
        "*   Comente-as;\n",
        "*   Define-as usando um verbo preciso com o principal objetivo;\n",
        "*   Use recuo.\n",
        "\n"
      ]
    },
    {
      "cell_type": "code",
      "metadata": {
        "id": "EAZ8e9xCXHok",
        "colab_type": "code",
        "colab": {}
      },
      "source": [
        "def calcular_imc(massa_corporal, altura):\n",
        "    \"\"\"Calcula o Índice de Massa Corporal\n",
        "\n",
        "    Parâmetros:\n",
        "        massa_corporal [inteiro ou float]: massa corporal em Kilogramas \n",
        "        altura [float]: altura em metro. Ex. 1.70 \n",
        "    \"\"\"\n",
        "  imc = massa_corporal / altura ** 2\n",
        "  return imc"
      ],
      "execution_count": null,
      "outputs": []
    },
    {
      "cell_type": "code",
      "metadata": {
        "id": "DyYRDT-JspsN",
        "colab_type": "code",
        "colab": {}
      },
      "source": [
        "# Calcule seu IMC\n",
        "# Insira sua massa corporal em kg e altura em metros (m)\n",
        "calcular_imc(massa_corporal=66, \n",
        "             altura=1.70)"
      ],
      "execution_count": null,
      "outputs": []
    },
    {
      "cell_type": "markdown",
      "metadata": {
        "id": "4aUdGtvdxcIY",
        "colab_type": "text"
      },
      "source": [
        "### **Exercício 03**\n",
        "\n",
        "Showtime! É hora de usar melhor a função 'calcular_imc'. A função precisa retornar o texto (Nível de Peso) de acordo com os critérios da tabela abaixo.\n",
        "\n",
        "\n",
        "Tabela de referência para o cálculo do IMC.\n",
        "\n",
        "\n",
        "| IMC            | Nível de peso     |\n",
        "| :------------- | :----------:      |\n",
        "|  < 18.5        | Abaixo do peso    |\n",
        "|  18.5 - 24.9   | Normal            |\n",
        "|  25.0 - 29.9   | Sobrepeso         |\n",
        "|  >= 30         | Obeso             |\n",
        "\n",
        "\n",
        "**Observação:** Esta tabela não tem finalidade de diagnóstico clínico.\n",
        "\n",
        "Fonte: [CDC](https://www.cdc.gov/healthyweight/spanish/assessing/bmi/adult_bmi/index.html).\n",
        "\n"
      ]
    },
    {
      "cell_type": "code",
      "metadata": {
        "id": "vcjVuPuzXHoq",
        "colab_type": "code",
        "colab": {}
      },
      "source": [
        "def calcular_indicador_imc(massa_corporal, altura):\n",
        "  '''\n",
        "  Calcula o imc, retornando os critérios de referência do CDC:\n",
        "  Parâmetros:\n",
        "    massa_corporal [inteiro ou float]: massa corporal em Kilogramas \n",
        "    altura [float]: altura em metro. Ex. 1.70 \n",
        "  '''\n",
        "  # Seu código abaixo....\n",
        "  # Dica: você pode olhar o exercício 2.\n",
        "  \n"
      ],
      "execution_count": null,
      "outputs": []
    },
    {
      "cell_type": "markdown",
      "metadata": {
        "id": "ndCdQbE2xK0F",
        "colab_type": "text"
      },
      "source": [
        "### **Desafio 02**\n",
        "\n",
        "\n",
        "Com fim de promover a cultura de saúde, gestores de um de seus clientes estão pensando em criar programas de alimentação saudável e exercícios físicos. \n",
        "\n",
        "\n",
        "Com base nos conhecimentos da aula de hoje, estime a proporção de colaboradores com sobrepeso ou obesos.\n",
        "\n",
        "\n"
      ]
    },
    {
      "cell_type": "code",
      "metadata": {
        "id": "VxuWL6hGxMrt",
        "colab_type": "code",
        "colab": {}
      },
      "source": [
        "# APENAS EXECUTE ESTA CÉLULA.\n",
        "# Edite-a apenas se estiver se sentindo\n",
        "# um(a) hacker de novela\n",
        "import numpy as np\n",
        "np.random.seed(42)\n",
        "\n",
        "# Criar alturas e pesos dos colaboradores\n",
        "homens_massa   = np.random.normal(73, 10.0, 10000)  # Criar distribuição de peso\n",
        "homens_altura = np.random.normal(1.73, 0.15, 10000)  # Criar distribuição de altura\n",
        "\n",
        "mulheres_massa   = np.random.normal(63, 10.0, 10000)\n",
        "mulheres_altura = np.random.normal(1.60, 0.15, 10000)\n",
        "\n",
        "colaboradores_massa = np.concatenate((homens_massa, mulheres_massa))\n",
        "colaboradores_altura = np.concatenate((homens_altura, mulheres_altura))"
      ],
      "execution_count": null,
      "outputs": []
    },
    {
      "cell_type": "code",
      "metadata": {
        "id": "UznqgtPZ57Te",
        "colab_type": "code",
        "colab": {}
      },
      "source": [
        "# CÓDIGO DO DESAFIO 02\n",
        "# Sua resposta aqui:\n",
        "# Dica 1: Você pode usar as funções já criadas.\n",
        "# Dica 2: Você pode querer usar um loop.  \n",
        "# Dica 3: É uma boa ideia juntar listas usando a função zip.\n",
        "# Mais difícil: Use uma compreensão de lista e resolva tudo numa linha (Google)."
      ],
      "execution_count": null,
      "outputs": []
    },
    {
      "cell_type": "code",
      "metadata": {
        "id": "AD3fRPHWnHaP",
        "colab_type": "code",
        "colab": {}
      },
      "source": [
        "# ESCREVA SUA RESPOSTA AQUI\n"
      ],
      "execution_count": null,
      "outputs": []
    },
    {
      "cell_type": "markdown",
      "metadata": {
        "id": "VvuTfQaJ0O5k",
        "colab_type": "text"
      },
      "source": [
        "# Respostas do desafio no Slack\n",
        "\n",
        "## Exercícios da semana\n",
        "\n",
        "- [Loops e estruturas de controle](https://colab.research.google.com/github/zetta-health/exp-curso-python-saude/blob/master/PySaude_02_python_01_loops.ipynb)\n",
        "- [Funções](https://colab.research.google.com/github/zetta-health/exp-curso-python-saude/blob/master/PySaude_02_python_04_funcoes.ipynb)\n",
        "\n",
        "\n",
        "# Muito obrigado!"
      ]
    }
  ]
}