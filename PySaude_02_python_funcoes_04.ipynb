{
  "nbformat": 4,
  "nbformat_minor": 0,
  "metadata": {
    "kernelspec": {
      "display_name": "Python 3",
      "language": "python",
      "name": "python3"
    },
    "language_info": {
      "codemirror_mode": {
        "name": "ipython",
        "version": 3
      },
      "file_extension": ".py",
      "mimetype": "text/x-python",
      "name": "python",
      "nbconvert_exporter": "python",
      "pygments_lexer": "ipython3",
      "version": "3.8.2"
    },
    "colab": {
      "name": "PySaude_02_python_funcoes_04.ipynb",
      "provenance": [],
      "collapsed_sections": [],
      "toc_visible": true,
      "include_colab_link": true
    }
  },
  "cells": [
    {
      "cell_type": "markdown",
      "metadata": {
        "id": "view-in-github",
        "colab_type": "text"
      },
      "source": [
        "<a href=\"https://colab.research.google.com/github/zetta-health/exp-curso-python-saude/blob/master/PySaude_02_python_funcoes_04.ipynb\" target=\"_parent\"><img src=\"https://colab.research.google.com/assets/colab-badge.svg\" alt=\"Open In Colab\"/></a>"
      ]
    },
    {
      "cell_type": "markdown",
      "metadata": {
        "id": "1A_wXYVm1yRE",
        "colab_type": "text"
      },
      "source": [
        "# Funções"
      ]
    },
    {
      "cell_type": "markdown",
      "metadata": {
        "id": "rW-OD1H11yRH",
        "colab_type": "text"
      },
      "source": [
        "Função é um código que foi agrupado e pode ser utilizado para realizar uma tarefa. Você inclusive já usou diversas funções, como por exemplo ```print```:"
      ]
    },
    {
      "cell_type": "code",
      "metadata": {
        "id": "lwk4ODJS1yRI",
        "colab_type": "code",
        "outputId": "1a6ad954-55cc-4ca8-8d03-68dd18b600cb",
        "colab": {
          "base_uri": "https://localhost:8080/",
          "height": 225
        }
      },
      "source": [
        "help(print)"
      ],
      "execution_count": 0,
      "outputs": [
        {
          "output_type": "stream",
          "text": [
            "Help on built-in function print in module builtins:\n",
            "\n",
            "print(...)\n",
            "    print(value, ..., sep=' ', end='\\n', file=sys.stdout, flush=False)\n",
            "    \n",
            "    Prints the values to a stream, or to sys.stdout by default.\n",
            "    Optional keyword arguments:\n",
            "    file:  a file-like object (stream); defaults to the current sys.stdout.\n",
            "    sep:   string inserted between values, default a space.\n",
            "    end:   string appended after the last value, default a newline.\n",
            "    flush: whether to forcibly flush the stream.\n",
            "\n"
          ],
          "name": "stdout"
        }
      ]
    },
    {
      "cell_type": "markdown",
      "metadata": {
        "id": "oLPx_Tmo1yRU",
        "colab_type": "text"
      },
      "source": [
        "## Métodos\n",
        "As funções do python podem ser chamadas de **métodos** por fazerem parte de um objeto, por exemplo: ```random.seed(42)```, dizemos que ```seed()``` é um método de ```random```. No entanto, não nos aprofundaremos em orientação a objeto nesse curso.\n",
        "\n",
        "Para saber mais: [Classes - Python3](https://docs.python.org/pt-br/3/tutorial/classes.html)"
      ]
    },
    {
      "cell_type": "markdown",
      "metadata": {
        "id": "uVGy2qTz2n7y",
        "colab_type": "text"
      },
      "source": [
        "## Argumentos\n",
        "No exemplo abaixo, a função randint() recebeu como **argumento** os números `1` e `100`, e **retornou** um número aleatório entre esses dois, que foi **atribuído** (salvo) à variável `x`."
      ]
    },
    {
      "cell_type": "code",
      "metadata": {
        "id": "nBHjEph11yRX",
        "colab_type": "code",
        "outputId": "c3598d98-76a2-45d0-dc7f-7a223f08a7ee",
        "colab": {
          "base_uri": "https://localhost:8080/",
          "height": 34
        }
      },
      "source": [
        "import random\n",
        "x = random.randint(1, 100)\n",
        "print(x)"
      ],
      "execution_count": 0,
      "outputs": [
        {
          "output_type": "stream",
          "text": [
            "28\n"
          ],
          "name": "stdout"
        }
      ]
    },
    {
      "cell_type": "markdown",
      "metadata": {
        "id": "2LNG9b9J1yRd",
        "colab_type": "text"
      },
      "source": [
        "Agora, a variável ```resposta_de_tudo``` é o **argumento** para a função 'print', ou seja, os dados que a função recebe para trabalhar. Porém, é importante notar que essa função geralmente **não retorna** um valor (seu objetivo nesse caso é apenas imprimir na tela)."
      ]
    },
    {
      "cell_type": "code",
      "metadata": {
        "id": "nsuOoW4G1yRe",
        "colab_type": "code",
        "outputId": "410f9575-ff8c-41d8-d618-61b49f4129fb",
        "colab": {
          "base_uri": "https://localhost:8080/",
          "height": 34
        }
      },
      "source": [
        "resposta_de_tudo = 42\n",
        "print(resposta_de_tudo)"
      ],
      "execution_count": 0,
      "outputs": [
        {
          "output_type": "stream",
          "text": [
            "42\n"
          ],
          "name": "stdout"
        }
      ]
    },
    {
      "cell_type": "markdown",
      "metadata": {
        "id": "YCOwfvRkkc5F",
        "colab_type": "text"
      },
      "source": [
        "Algumas funções recebem vários argumentos e alguns deles podem precisar de um nome para evitar ambiguidade. Nesses casos, utiliza-se o nome do argumento seguido do sinal de igual:"
      ]
    },
    {
      "cell_type": "code",
      "metadata": {
        "id": "QhKCDCt51yRl",
        "colab_type": "code",
        "outputId": "501791ae-8b4f-4753-b014-a8fca0c936ae",
        "colab": {
          "base_uri": "https://localhost:8080/",
          "height": 34
        }
      },
      "source": [
        "print('a', 'b', 'c', 'd', sep='/')  #'sep', aqui, é um argumento especificado."
      ],
      "execution_count": 0,
      "outputs": [
        {
          "output_type": "stream",
          "text": [
            "a/b/c/d\n"
          ],
          "name": "stdout"
        }
      ]
    },
    {
      "cell_type": "markdown",
      "metadata": {
        "id": "8Ks-8EXU1yRq",
        "colab_type": "text"
      },
      "source": [
        "## Como fazer suas próprias funções?"
      ]
    },
    {
      "cell_type": "markdown",
      "metadata": {
        "id": "ZBJUCiIR1yRr",
        "colab_type": "text"
      },
      "source": [
        "Para criar uma função, usamos a _keyword_ `def`, seguida do nome da função e parênteses, contendo seus argumentos. Ah, não se esqueça dos `:` ao final:"
      ]
    },
    {
      "cell_type": "code",
      "metadata": {
        "id": "2nk8-74R1yRs",
        "colab_type": "code",
        "colab": {}
      },
      "source": [
        "def soma(x, y):\n",
        "    total = x + y\n",
        "    return total"
      ],
      "execution_count": 0,
      "outputs": []
    },
    {
      "cell_type": "code",
      "metadata": {
        "id": "scpFg3Iy1yRw",
        "colab_type": "code",
        "outputId": "65d567ea-66fd-4adf-903b-5aaec6bbe0fa",
        "colab": {
          "base_uri": "https://localhost:8080/",
          "height": 34
        }
      },
      "source": [
        "soma(1, 2)"
      ],
      "execution_count": 0,
      "outputs": [
        {
          "output_type": "execute_result",
          "data": {
            "text/plain": [
              "3"
            ]
          },
          "metadata": {
            "tags": []
          },
          "execution_count": 6
        }
      ]
    },
    {
      "cell_type": "markdown",
      "metadata": {
        "id": "qPo8a8LA1yR0",
        "colab_type": "text"
      },
      "source": [
        "Observe que não é necessário dizer ao Python o tipo dos argumentos `x` e `y`. Por conta disso, geralmente é bem simples definir funções. Mas devemos estar atentos aos tipos de dados dessas variáveis, pois eles podem gerar surpresas:"
      ]
    },
    {
      "cell_type": "code",
      "metadata": {
        "id": "VcYCirgX1yR1",
        "colab_type": "code",
        "outputId": "9b0c050a-e454-4ea2-ebea-ca51efba275c",
        "colab": {
          "base_uri": "https://localhost:8080/",
          "height": 34
        }
      },
      "source": [
        "soma('a', 'b')"
      ],
      "execution_count": 0,
      "outputs": [
        {
          "output_type": "execute_result",
          "data": {
            "text/plain": [
              "'ab'"
            ]
          },
          "metadata": {
            "tags": []
          },
          "execution_count": 7
        }
      ]
    },
    {
      "cell_type": "markdown",
      "metadata": {
        "id": "bphUybGh1yR5",
        "colab_type": "text"
      },
      "source": [
        " Outra coisa que pode gerar surpresas é o que chamamos de **escopo** da variável:"
      ]
    },
    {
      "cell_type": "code",
      "metadata": {
        "id": "BMQFnkXX1yR6",
        "colab_type": "code",
        "colab": {}
      },
      "source": [
        "def valor_interno():\n",
        "    z = 100  # z é um valor interno da função\n",
        "    print(z)"
      ],
      "execution_count": 0,
      "outputs": []
    },
    {
      "cell_type": "code",
      "metadata": {
        "id": "XvvOYOol1yR-",
        "colab_type": "code",
        "outputId": "6bf2d4a6-71c9-4518-f546-c06650536752",
        "colab": {
          "base_uri": "https://localhost:8080/",
          "height": 34
        }
      },
      "source": [
        "valor_interno()"
      ],
      "execution_count": 0,
      "outputs": [
        {
          "output_type": "stream",
          "text": [
            "100\n"
          ],
          "name": "stdout"
        }
      ]
    },
    {
      "cell_type": "code",
      "metadata": {
        "id": "Lx-YYaR81ySC",
        "colab_type": "code",
        "outputId": "1b23db8e-7225-4b9d-cb08-7d376e366e54",
        "colab": {
          "base_uri": "https://localhost:8080/",
          "height": 168
        }
      },
      "source": [
        "z  # ainda existe apenas dentro da função"
      ],
      "execution_count": 0,
      "outputs": [
        {
          "output_type": "error",
          "ename": "NameError",
          "evalue": "ignored",
          "traceback": [
            "\u001b[0;31m---------------------------------------------------------------------------\u001b[0m",
            "\u001b[0;31mNameError\u001b[0m                                 Traceback (most recent call last)",
            "\u001b[0;32m<ipython-input-10-fa650d81a4c1>\u001b[0m in \u001b[0;36m<module>\u001b[0;34m()\u001b[0m\n\u001b[0;32m----> 1\u001b[0;31m \u001b[0mz\u001b[0m  \u001b[0;31m# ainda existe apenas dentro da função\u001b[0m\u001b[0;34m\u001b[0m\u001b[0;34m\u001b[0m\u001b[0m\n\u001b[0m",
            "\u001b[0;31mNameError\u001b[0m: name 'z' is not defined"
          ]
        }
      ]
    },
    {
      "cell_type": "code",
      "metadata": {
        "id": "CwST5O2w1ySG",
        "colab_type": "code",
        "outputId": "f66b7dc6-1c9d-487b-b7f5-0662ef83b422",
        "colab": {
          "base_uri": "https://localhost:8080/",
          "height": 34
        }
      },
      "source": [
        "z = 200  # esse valor \"de fora\" é diferente do valor que definimos dentro da \n",
        "         # função.\n",
        "valor_interno()"
      ],
      "execution_count": 0,
      "outputs": [
        {
          "output_type": "stream",
          "text": [
            "100\n"
          ],
          "name": "stdout"
        }
      ]
    },
    {
      "cell_type": "code",
      "metadata": {
        "id": "SnfM4kXq1ySL",
        "colab_type": "code",
        "outputId": "cbbf4a0a-bbfa-4f85-a776-2ecbb9b32136",
        "colab": {
          "base_uri": "https://localhost:8080/",
          "height": 34
        }
      },
      "source": [
        "z  # e eles não se misturam"
      ],
      "execution_count": 0,
      "outputs": [
        {
          "output_type": "execute_result",
          "data": {
            "text/plain": [
              "200"
            ]
          },
          "metadata": {
            "tags": []
          },
          "execution_count": 12
        }
      ]
    },
    {
      "cell_type": "markdown",
      "metadata": {
        "id": "9AuwLiK21ySO",
        "colab_type": "text"
      },
      "source": [
        "Os únicos valores que uma função é capaz de alterar são os que lhe foram passados dentro dos parênteses. Isso ocorre para evitar possíveis conflitos em relação ao nome das variáveis de dentro e fora das funções, que poderiam causar erros no programa em caso de alterações acidentais."
      ]
    },
    {
      "cell_type": "markdown",
      "metadata": {
        "id": "fo71LECjuLvz",
        "colab_type": "text"
      },
      "source": [
        "### Exercício 01"
      ]
    },
    {
      "cell_type": "markdown",
      "metadata": {
        "id": "iPqn_08tuQql",
        "colab_type": "text"
      },
      "source": [
        "É hora de colocar em prática o que você já aprendeu até aqui! Dentro das funções é possível, além de criar suas variáveis como vimos acima, usar os loops, condições e outras funções.\n",
        "\n",
        "Faça uma função chamada round_list que retorne uma lista de floats arredondados em duas casas decimais."
      ]
    },
    {
      "cell_type": "code",
      "metadata": {
        "id": "wF2wuOlzwwA4",
        "colab_type": "code",
        "colab": {}
      },
      "source": [
        "# Seu código aqui\n",
        "def round_list\n",
        "\n",
        "\n",
        "\n",
        "\n"
      ],
      "execution_count": 0,
      "outputs": []
    },
    {
      "cell_type": "code",
      "metadata": {
        "id": "waZzN95xMbvn",
        "colab_type": "code",
        "colab": {}
      },
      "source": [
        "# Use essa célula para conferir se sua função está funcionando corretamente\n",
        "data = [random.random() for x in range(30)]\n",
        "data2 = [random.random() for x in range(50)]\n",
        "\n",
        "print(round_list(data), sep=', ')\n",
        "print(round_list(data2), sep=', ')"
      ],
      "execution_count": 0,
      "outputs": []
    },
    {
      "cell_type": "markdown",
      "metadata": {
        "id": "6k0sbKqqpxgB",
        "colab_type": "text"
      },
      "source": [
        "**Clique duas vezes aqui para ver a resposta.**\n",
        "\n",
        "<!--\n",
        "def round_list(n):\n",
        "    result = []\n",
        "    for i in n:\n",
        "        result.append(round(i, 2))\n",
        "    return(result)\n",
        "-->"
      ]
    },
    {
      "cell_type": "markdown",
      "metadata": {
        "id": "pFQQgHQNt6IX",
        "colab_type": "text"
      },
      "source": [
        "### Exercício 02"
      ]
    },
    {
      "cell_type": "markdown",
      "metadata": {
        "id": "qor-VoBzxvwj",
        "colab_type": "text"
      },
      "source": [
        "Faça uma função que recebe uma lista de strings e retorna outra lista com todos os itens que contém 'cost'"
      ]
    },
    {
      "cell_type": "code",
      "metadata": {
        "id": "g6PxyFKy2567",
        "colab_type": "code",
        "colab": {}
      },
      "source": [
        "columns = ['id','type','before.hra.12m.claims.total','before.hra.12m.elective.encounter.cost', \n",
        "           'before.hra.12m.elective.encounter.event', 'before.hra.12m.er.cost', 'before.hra.12m.er.event', \n",
        "           'before.hra.12m.exams.cost', 'before.hra.12m.exams.event', 'before.hra.12m.hospital.cost', \n",
        "           'before.hra.12m.hospital.events', 'before.hra.12m.outpatient.cost', 'before.hra.12m.outpatient.events', \n",
        "           'after.hra.12m.claims.total', 'after.hra.12m.elective.encounter.cost', 'after.hra.12m.elective.encounter.event', \n",
        "           'after.hra.12m.er.cost', 'after.hra.12m.er.event', 'after.hra.12m.exams.cost', 'after.hra.12m.exams.event', \n",
        "           'after.hra.12m.hospital.cost', 'after.hra.12m.hospital.events', 'after.hra.12m.outpatient.cost', \n",
        "           'after.hra.12m.outpatient.events', 'time.on.company', 'risk.factors.sum']\n",
        "\n",
        "# Seu código aqui\n",
        "def select_cost\n",
        "\n",
        "\n",
        "\n",
        "\n",
        "\n"
      ],
      "execution_count": 0,
      "outputs": []
    },
    {
      "cell_type": "code",
      "metadata": {
        "id": "fdl4ktvo5Rn8",
        "colab_type": "code",
        "colab": {}
      },
      "source": [
        "# Use essa célula para conferir se sua função está funcionando corretamente\n",
        "select_cost(columns)"
      ],
      "execution_count": 0,
      "outputs": []
    },
    {
      "cell_type": "markdown",
      "metadata": {
        "id": "snQs_U9L5ffe",
        "colab_type": "text"
      },
      "source": [
        "**Clique aqui duas vezes para ver a resposta.**\n",
        "\n",
        "<!--\n",
        "def select_cost(cols):\n",
        "    selected = []\n",
        "    for i in cols:\n",
        "        if 'cost' in i:\n",
        "            selected.append(i)\n",
        "    \n",
        "    return selected\n",
        "-->"
      ]
    }
  ]
}