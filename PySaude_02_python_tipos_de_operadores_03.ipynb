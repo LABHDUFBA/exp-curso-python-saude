{
  "nbformat": 4,
  "nbformat_minor": 0,
  "metadata": {
    "colab": {
      "name": "Curso_Python_para _Gestão_de_Saúde_02_python_tipos_de_operadores",
      "provenance": [],
      "toc_visible": true,
      "include_colab_link": true
    },
    "kernelspec": {
      "name": "python3",
      "display_name": "Python 3"
    }
  },
  "cells": [
    {
      "cell_type": "markdown",
      "metadata": {
        "id": "view-in-github",
        "colab_type": "text"
      },
      "source": [
        "<a href=\"https://colab.research.google.com/github/zetta-health/exp-curso-python-saude/blob/master/Curso_Python_para__Gest%C3%A3o_de_Sa%C3%BAde_02_python_tipos_de_operadores.ipynb\" target=\"_parent\"><img src=\"https://colab.research.google.com/assets/colab-badge.svg\" alt=\"Open In Colab\"/></a>"
      ]
    },
    {
      "cell_type": "markdown",
      "metadata": {
        "id": "V7stzoGNGD7B",
        "colab_type": "text"
      },
      "source": [
        "Operadores \n",
        "==="
      ]
    },
    {
      "cell_type": "markdown",
      "metadata": {
        "id": "yG0GGZoYGNE4",
        "colab_type": "text"
      },
      "source": [
        "Aqui, você vai aprender sobre os diversos tipos de operadores em Python e como usá-los."
      ]
    },
    {
      "cell_type": "markdown",
      "metadata": {
        "id": "_1K-9jikvNY4",
        "colab_type": "text"
      },
      "source": [
        "##Operadores Matemáticos\n",
        "\n",
        "Em Python, podemos acessar funções de calculadora através dos **operadores matemáticos**. \n",
        "\n",
        "É igual a matemática da escola. Por exemplo, em caso de uma expressão numérica, multiplicação e divisão têm prioridade sobre adição e subtração, e operações entre parênteses têm prioridade sobre o resto da expressão.\n",
        "\n",
        "Na tabela abaixo, você confere a relação entre as operações e os operadores.\n",
        "\n",
        "Operador | Operação\n",
        "--- | ---\n",
        "+ | Adição\n",
        "- | Subtração\n",
        "* | Multiplicação\n",
        "/ | Divisão\n",
        "// | Divisão Inteira\n",
        "** | Exponencial \n",
        "% | Módulo\n",
        "\n"
      ]
    },
    {
      "cell_type": "markdown",
      "metadata": {
        "id": "EsK4LU_HxeKm",
        "colab_type": "text"
      },
      "source": [
        "###Exemplos"
      ]
    },
    {
      "cell_type": "code",
      "metadata": {
        "id": "5B5wEQLZxu1J",
        "colab_type": "code",
        "outputId": "a5c60e33-69d4-483c-c797-f51043f5eb68",
        "colab": {
          "base_uri": "https://localhost:8080/",
          "height": 34
        }
      },
      "source": [
        "# Soma\n",
        "5 + 10 "
      ],
      "execution_count": 0,
      "outputs": [
        {
          "output_type": "execute_result",
          "data": {
            "text/plain": [
              "15"
            ]
          },
          "metadata": {
            "tags": []
          },
          "execution_count": 3
        }
      ]
    },
    {
      "cell_type": "code",
      "metadata": {
        "id": "ZODNM4vlyzhv",
        "colab_type": "code",
        "outputId": "521dc48a-29cd-45e5-8e7d-b9be557caf93",
        "colab": {
          "base_uri": "https://localhost:8080/",
          "height": 34
        }
      },
      "source": [
        "# Prioridades das operações entre parênteses - Precedência de operadores\n",
        "2 * (10 + 3)"
      ],
      "execution_count": 0,
      "outputs": [
        {
          "output_type": "execute_result",
          "data": {
            "text/plain": [
              "26"
            ]
          },
          "metadata": {
            "tags": []
          },
          "execution_count": 1
        }
      ]
    },
    {
      "cell_type": "code",
      "metadata": {
        "id": "8JbJpIu2yZts",
        "colab_type": "code",
        "outputId": "165896aa-9ceb-43db-e006-4cef28f98417",
        "colab": {
          "base_uri": "https://localhost:8080/",
          "height": 34
        }
      },
      "source": [
        "20.0 / 3  # Divisão"
      ],
      "execution_count": 0,
      "outputs": [
        {
          "output_type": "execute_result",
          "data": {
            "text/plain": [
              "6.666666666666667"
            ]
          },
          "metadata": {
            "tags": []
          },
          "execution_count": 5
        }
      ]
    },
    {
      "cell_type": "code",
      "metadata": {
        "id": "JWsGCKBYynpN",
        "colab_type": "code",
        "outputId": "4a72fa5a-a447-4e1f-c174-1ff5ec3d40e7",
        "colab": {
          "base_uri": "https://localhost:8080/",
          "height": 34
        }
      },
      "source": [
        "20.0 // 3  # Divisão exata"
      ],
      "execution_count": 0,
      "outputs": [
        {
          "output_type": "execute_result",
          "data": {
            "text/plain": [
              "6.0"
            ]
          },
          "metadata": {
            "tags": []
          },
          "execution_count": 6
        }
      ]
    },
    {
      "cell_type": "code",
      "metadata": {
        "id": "eC959jzvyxgg",
        "colab_type": "code",
        "outputId": "4fe31737-60e1-432e-d9f1-ce1ceffcbf0f",
        "colab": {
          "base_uri": "https://localhost:8080/",
          "height": 34
        }
      },
      "source": [
        "4 ** 2  # Exponencial"
      ],
      "execution_count": 0,
      "outputs": [
        {
          "output_type": "execute_result",
          "data": {
            "text/plain": [
              "16"
            ]
          },
          "metadata": {
            "tags": []
          },
          "execution_count": 8
        }
      ]
    },
    {
      "cell_type": "code",
      "metadata": {
        "id": "OuLKFnbrtogR",
        "colab_type": "code",
        "outputId": "2d2c57e5-a58e-4284-da26-d53c1e309aed",
        "colab": {
          "base_uri": "https://localhost:8080/",
          "height": 34
        }
      },
      "source": [
        "10 % 3  # O operador de módulo retorna o resto da divisão."
      ],
      "execution_count": 0,
      "outputs": [
        {
          "output_type": "execute_result",
          "data": {
            "text/plain": [
              "1"
            ]
          },
          "metadata": {
            "tags": []
          },
          "execution_count": 1
        }
      ]
    },
    {
      "cell_type": "markdown",
      "metadata": {
        "id": "La9igvBL3EG8",
        "colab_type": "text"
      },
      "source": [
        "###Exercício 1\n",
        "\n",
        "Quantas horas inteiras existem em 215 minutos?\n"
      ]
    },
    {
      "cell_type": "code",
      "metadata": {
        "id": "t8VPR-GU3I1_",
        "colab_type": "code",
        "colab": {}
      },
      "source": [
        "# "
      ],
      "execution_count": 0,
      "outputs": []
    },
    {
      "cell_type": "markdown",
      "metadata": {
        "id": "uSrt-xUcj5ZQ",
        "colab_type": "text"
      },
      "source": [
        "**Clique aqui para a resposta.**\n",
        "\n",
        "<!--\n",
        "215 // 60\n",
        "-->"
      ]
    },
    {
      "cell_type": "markdown",
      "metadata": {
        "id": "jsOEXd1N03tt",
        "colab_type": "text"
      },
      "source": [
        "##Boolean\n",
        "\n",
        "Uma variável do tipo **Boolean**, ou lógica, é aquela que armazena os valores verdadeiro ou falso. Na linguagem Python, verdadeiro é representado por *True* e falso, por *False*. Note que ambos são grafados com T e F **maiúsculos**."
      ]
    },
    {
      "cell_type": "markdown",
      "metadata": {
        "id": "8t3n0E6k1mz-",
        "colab_type": "text"
      },
      "source": [
        "##Operadores Relacionais\n",
        "\n",
        "Os **operadores relacionais** são utilizados para estabeler comparações lógicas. Quando aplicados, o resultado é sempre verdadeiro (True) ou falso (False).\n",
        "\n",
        "Operador | Relação \n",
        "--- | ---\n",
        "== | Igualdade\n",
        "!= | Diferença\n",
        "> | maior que \n",
        "< | menor que\n",
        ">= | maior igual que \n",
        "<= | menor igual que \n"
      ]
    },
    {
      "cell_type": "markdown",
      "metadata": {
        "id": "rEIREEUX2rAT",
        "colab_type": "text"
      },
      "source": [
        "### Exemplos"
      ]
    },
    {
      "cell_type": "code",
      "metadata": {
        "id": "ZPIq3h5coGwH",
        "colab_type": "code",
        "outputId": "a44db5c5-2f7e-4298-c86a-0c1a08740d15",
        "colab": {
          "base_uri": "https://localhost:8080/",
          "height": 34
        }
      },
      "source": [
        "10 > 7"
      ],
      "execution_count": 0,
      "outputs": [
        {
          "output_type": "execute_result",
          "data": {
            "text/plain": [
              "True"
            ]
          },
          "metadata": {
            "tags": []
          },
          "execution_count": 8
        }
      ]
    },
    {
      "cell_type": "code",
      "metadata": {
        "id": "2hfgWMOxolkO",
        "colab_type": "code",
        "outputId": "0252881f-4c96-450a-d352-1e9b5bdf5d0c",
        "colab": {
          "base_uri": "https://localhost:8080/",
          "height": 34
        }
      },
      "source": [
        "12 + 8 != 2 * 10"
      ],
      "execution_count": 0,
      "outputs": [
        {
          "output_type": "execute_result",
          "data": {
            "text/plain": [
              "False"
            ]
          },
          "metadata": {
            "tags": []
          },
          "execution_count": 14
        }
      ]
    },
    {
      "cell_type": "code",
      "metadata": {
        "id": "1rLDkbza0xIi",
        "colab_type": "code",
        "outputId": "5bc5d6e9-cc2e-47c4-f6ab-895dabd14173",
        "colab": {
          "base_uri": "https://localhost:8080/",
          "height": 34
        }
      },
      "source": [
        "# É possível comparar variáveis.\n",
        "a = 2\n",
        "b = 5\n",
        "c = 2\n",
        "\n",
        "b == c # b igual a c"
      ],
      "execution_count": 0,
      "outputs": [
        {
          "output_type": "execute_result",
          "data": {
            "text/plain": [
              "False"
            ]
          },
          "metadata": {
            "tags": []
          },
          "execution_count": 15
        }
      ]
    },
    {
      "cell_type": "code",
      "metadata": {
        "id": "9hNKJfWr312s",
        "colab_type": "code",
        "outputId": "fcf2bb5f-dfb3-477e-b30e-69db08ddcb73",
        "colab": {
          "base_uri": "https://localhost:8080/",
          "height": 34
        }
      },
      "source": [
        "a >= c # a maior igual que c"
      ],
      "execution_count": 0,
      "outputs": [
        {
          "output_type": "execute_result",
          "data": {
            "text/plain": [
              "True"
            ]
          },
          "metadata": {
            "tags": []
          },
          "execution_count": 11
        }
      ]
    },
    {
      "cell_type": "markdown",
      "metadata": {
        "id": "xZseDd6W435G",
        "colab_type": "text"
      },
      "source": [
        "###Exercício 2\n",
        "\n",
        "Descubra se 'c' é maior que 'd'.\n"
      ]
    },
    {
      "cell_type": "code",
      "metadata": {
        "id": "tjky4FEK48UQ",
        "colab_type": "code",
        "colab": {}
      },
      "source": [
        " a = 4\n",
        " b = 6\n",
        " c = a + b\n",
        " d = a * (b/2)\n",
        "\n",
        "# Sua resposta.\n"
      ],
      "execution_count": 0,
      "outputs": []
    },
    {
      "cell_type": "markdown",
      "metadata": {
        "id": "kX_kN9WCkmAQ",
        "colab_type": "text"
      },
      "source": [
        "**Clique aqui para a resposta.**\n",
        "\n",
        "<!--\n",
        "c > d\n",
        "-->"
      ]
    },
    {
      "cell_type": "markdown",
      "metadata": {
        "id": "jE-xiNS55RLt",
        "colab_type": "text"
      },
      "source": [
        "##Operadores Lógicos\n",
        "\n",
        "Os **operadores lógicos** servem para combinar operações de verdadeiro (True) e falso (False). No Python, existem três operadores lógicos: **and** (e), **or** (ou) e **not** (não).\n",
        "\n",
        "\n",
        "\n",
        "\n",
        "###***And***\n",
        "\n",
        "O operador And (e) é um operador de conjunção. Ele só estabelece um resultado verdadeiro quando as duas operações combinadas forem *verdadeiras*.\n",
        "\n",
        "A | B | A *and* B\n",
        "--- | --- | ---\n",
        "False | False | False\n",
        "False | True | False \n",
        "True | False | False \n",
        "True | True | True \n",
        "\n",
        "\n",
        "\n",
        "###***Or***\n",
        "\n",
        "O operador Or (ou) é um operador de disjunção. O resultado estabelecido por ele só será falso quando ambas as operações combinadas forem *falsas*. Em qualquer outro caso, o resultado será *verdadeiro*.\n",
        "\n",
        "A | B | A *or* B\n",
        "---| ---| ---\n",
        "False | False | False \n",
        "False | True | True \n",
        "True | False | True \n",
        "True | True | True \n",
        "\n",
        "\n",
        "\n",
        "###***Not***\n",
        "\n",
        "O operador Not (não) é um operador de negação. Ou seja, ele retorna a operação inversa da operação inserida.\n",
        "\n",
        "A | *Not* A\n",
        "---| ---\n",
        "True | False \n",
        "False | True "
      ]
    },
    {
      "cell_type": "markdown",
      "metadata": {
        "id": "YRt6q2U94yvq",
        "colab_type": "text"
      },
      "source": [
        "###Exemplos"
      ]
    },
    {
      "cell_type": "code",
      "metadata": {
        "id": "0xZm389Q8J_i",
        "colab_type": "code",
        "outputId": "0b7b4aa2-3408-4255-c2fe-cb1ca4bc4815",
        "colab": {
          "base_uri": "https://localhost:8080/",
          "height": 34
        }
      },
      "source": [
        "True and False"
      ],
      "execution_count": 0,
      "outputs": [
        {
          "output_type": "execute_result",
          "data": {
            "text/plain": [
              "False"
            ]
          },
          "metadata": {
            "tags": []
          },
          "execution_count": 7
        }
      ]
    },
    {
      "cell_type": "code",
      "metadata": {
        "id": "hLlv0xNJ5ZeC",
        "colab_type": "code",
        "outputId": "1f1f1fc1-5271-4f0c-c613-ccddc32a7a15",
        "colab": {
          "base_uri": "https://localhost:8080/",
          "height": 34
        }
      },
      "source": [
        "# Valores armazenados em variáveis também podem ser combinados.\n",
        "A = True\n",
        "B = False\n",
        "\n",
        "A or B"
      ],
      "execution_count": 0,
      "outputs": [
        {
          "output_type": "execute_result",
          "data": {
            "text/plain": [
              "True"
            ]
          },
          "metadata": {
            "tags": []
          },
          "execution_count": 1
        }
      ]
    },
    {
      "cell_type": "code",
      "metadata": {
        "id": "HUuh5h1c_lFZ",
        "colab_type": "code",
        "outputId": "2b7bf213-fd3e-4aa4-a036-29d3b8a49054",
        "colab": {
          "base_uri": "https://localhost:8080/",
          "height": 34
        }
      },
      "source": [
        "# É possível combinar operadores relacionais com operadores lógicos.\n",
        "(5 <= 3) and (5 >= 5)"
      ],
      "execution_count": 0,
      "outputs": [
        {
          "output_type": "execute_result",
          "data": {
            "text/plain": [
              "False"
            ]
          },
          "metadata": {
            "tags": []
          },
          "execution_count": 7
        }
      ]
    },
    {
      "cell_type": "markdown",
      "metadata": {
        "id": "nyC4041S43hG",
        "colab_type": "text"
      },
      "source": [
        "###Exercício 3\n",
        "\n",
        "Combine as duas variáveis abaixo utilizando o operador *And*."
      ]
    },
    {
      "cell_type": "code",
      "metadata": {
        "id": "c8GQ76Ss49B9",
        "colab_type": "code",
        "colab": {}
      },
      "source": [
        "variavel_01 = not 2 > 5\n",
        "variavel_02 = 10 != 4\n",
        "\n",
        "# Sua resposta.\n"
      ],
      "execution_count": 0,
      "outputs": []
    },
    {
      "cell_type": "markdown",
      "metadata": {
        "id": "rDAwz_jE4-6d",
        "colab_type": "text"
      },
      "source": [
        "**Clique aqui para a resposta.**\n",
        "<!--\n",
        "variavel_01 and variavel_02\n",
        "-->"
      ]
    },
    {
      "cell_type": "markdown",
      "metadata": {
        "id": "rJDpREq7xAMy",
        "colab_type": "text"
      },
      "source": [
        "##Operadores Bitwise\n",
        "\n",
        "**Operadores Bitwise** são aqueles que realizam operações sobre números binários. Não trataremos deste tipo de operador nesse curso, mas você pode ler mais a respeito clicando [aqui](https://en.wikipedia.org/wiki/Bitwise_operation) ou [aqui](https://wiki.python.org/moin/BitwiseOperators)."
      ]
    }
  ]
}