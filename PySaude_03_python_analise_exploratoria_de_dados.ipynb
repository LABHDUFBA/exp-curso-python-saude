{
  "nbformat": 4,
  "nbformat_minor": 0,
  "metadata": {
    "colab": {
      "name": "PySaude_03_python_analise_exploratoria_de_dado.ipynb",
      "provenance": [],
      "toc_visible": true,
      "include_colab_link": true
    },
    "kernelspec": {
      "name": "python3",
      "display_name": "Python 3"
    }
  },
  "cells": [
    {
      "cell_type": "markdown",
      "metadata": {
        "id": "view-in-github",
        "colab_type": "text"
      },
      "source": [
        "<a href=\"https://colab.research.google.com/github/zetta-health/exp-curso-python-saude/blob/master/PySaude_03_python_analise_exploratoria_de_dados.ipynb\" target=\"_parent\"><img src=\"https://colab.research.google.com/assets/colab-badge.svg\" alt=\"Open In Colab\"/></a>"
      ]
    },
    {
      "cell_type": "markdown",
      "metadata": {
        "id": "F6DEQAupD9_G",
        "colab_type": "text"
      },
      "source": [
        "# **Análise exploratória de dados**\n",
        "\n",
        "Já vencemos as etapas de conhecer e usar Colab do Google, Markdown e das noções introdutórias do Python. Parabéns!\n",
        "\n",
        "Agora é a hora de trabalharmos com dados reais da saúde suplementar! Fantástico, não? O banco de dados que iremos trabalhar é de uma amostra de 300 beneficiários (quem tem plano de saúde). Os dados aqui tem propósito de estudo e não devem ser usados para pesquisa.\n",
        "\n",
        "As 74 colunas possuem informações a respeito do uso de plano (custo e frequência) de 12 meses anteriores e posterioes a resposta de um questionário de auto-avaliação de risco e problemas de saúde. Cada linha representa um beneficiário.\n",
        "\n",
        "O dicionário da base de dados pode ser acessado neste [link](https://raw.githubusercontent.com/zetta-health/exp-curso-python-saude/master/data/data_dictionary.md). Vamos discutir mais sobre o banco de dados ao longo deste notebook.\n",
        "\n",
        "Ao trabalho!\n"
      ]
    },
    {
      "cell_type": "markdown",
      "metadata": {
        "id": "OeOteGbVEC-2",
        "colab_type": "text"
      },
      "source": [
        "## **1.Abrir banco de dados e avaliar estrutura**"
      ]
    },
    {
      "cell_type": "code",
      "metadata": {
        "id": "BZzyUEj0BcAj",
        "colab_type": "code",
        "colab": {}
      },
      "source": [
        "# Carregar bibliotecas para análise de dados\n",
        "import pandas as pd # Pandas\n",
        "import numpy as np  # Numpy"
      ],
      "execution_count": 0,
      "outputs": []
    },
    {
      "cell_type": "code",
      "metadata": {
        "id": "WMS5zalRCijg",
        "colab_type": "code",
        "colab": {}
      },
      "source": [
        "# Abrir banco de dados\n",
        "url = 'https://raw.githubusercontent.com/zetta-health/exp-curso-python-saude/master/data/sample_data.csv'\n",
        "data = pd.read_csv(url)"
      ],
      "execution_count": 0,
      "outputs": []
    },
    {
      "cell_type": "code",
      "metadata": {
        "id": "dQ1HSk8VCfr_",
        "colab_type": "code",
        "outputId": "8bfb7117-814a-45ab-9fb3-cad5aa685557",
        "colab": {
          "base_uri": "https://localhost:8080/",
          "height": 224
        }
      },
      "source": [
        "# Verificar os primeiros casos\n",
        "# do banco de dados\n",
        "data.head()"
      ],
      "execution_count": 3,
      "outputs": [
        {
          "output_type": "execute_result",
          "data": {
            "text/html": [
              "<div>\n",
              "<style scoped>\n",
              "    .dataframe tbody tr th:only-of-type {\n",
              "        vertical-align: middle;\n",
              "    }\n",
              "\n",
              "    .dataframe tbody tr th {\n",
              "        vertical-align: top;\n",
              "    }\n",
              "\n",
              "    .dataframe thead th {\n",
              "        text-align: right;\n",
              "    }\n",
              "</style>\n",
              "<table border=\"1\" class=\"dataframe\">\n",
              "  <thead>\n",
              "    <tr style=\"text-align: right;\">\n",
              "      <th></th>\n",
              "      <th>id</th>\n",
              "      <th>type</th>\n",
              "      <th>before.hra.12m.claims.total</th>\n",
              "      <th>before.hra.12m.elective.encounter.cost</th>\n",
              "      <th>before.hra.12m.elective.encounter.event</th>\n",
              "      <th>before.hra.12m.er.cost</th>\n",
              "      <th>before.hra.12m.er.event</th>\n",
              "      <th>before.hra.12m.exams.cost</th>\n",
              "      <th>before.hra.12m.exams.event</th>\n",
              "      <th>before.hra.12m.hospital.cost</th>\n",
              "      <th>before.hra.12m.hospital.events</th>\n",
              "      <th>before.hra.12m.outpatient.cost</th>\n",
              "      <th>before.hra.12m.outpatient.events</th>\n",
              "      <th>after.hra.12m.claims.total</th>\n",
              "      <th>after.hra.12m.elective.encounter.cost</th>\n",
              "      <th>after.hra.12m.elective.encounter.event</th>\n",
              "      <th>after.hra.12m.er.cost</th>\n",
              "      <th>after.hra.12m.er.event</th>\n",
              "      <th>after.hra.12m.exams.cost</th>\n",
              "      <th>after.hra.12m.exams.event</th>\n",
              "      <th>after.hra.12m.hospital.cost</th>\n",
              "      <th>after.hra.12m.hospital.events</th>\n",
              "      <th>after.hra.12m.outpatient.cost</th>\n",
              "      <th>after.hra.12m.outpatient.events</th>\n",
              "      <th>time.on.company</th>\n",
              "      <th>risk.factors.sum</th>\n",
              "      <th>gender</th>\n",
              "      <th>age</th>\n",
              "      <th>educational.level</th>\n",
              "      <th>househood.members</th>\n",
              "      <th>asthma.bronquitis.emphysema</th>\n",
              "      <th>allergies</th>\n",
              "      <th>migraine.headache</th>\n",
              "      <th>insomnia</th>\n",
              "      <th>rhinitis.sinusitis</th>\n",
              "      <th>colestherol</th>\n",
              "      <th>dyslipidemia</th>\n",
              "      <th>diabetes</th>\n",
              "      <th>thyroid</th>\n",
              "      <th>hepatitis</th>\n",
              "      <th>blood.pressure</th>\n",
              "      <th>heart.conditions</th>\n",
              "      <th>stroke</th>\n",
              "      <th>ms</th>\n",
              "      <th>kidney</th>\n",
              "      <th>gastritits</th>\n",
              "      <th>bowelsyndrome</th>\n",
              "      <th>rheumatism</th>\n",
              "      <th>low.back.pain</th>\n",
              "      <th>back.pain</th>\n",
              "      <th>osteoporosis</th>\n",
              "      <th>cancer</th>\n",
              "      <th>anxietydisorders</th>\n",
              "      <th>depression</th>\n",
              "      <th>othermentalcondition</th>\n",
              "      <th>stds</th>\n",
              "      <th>hiv</th>\n",
              "      <th>sedentary.lifestyle</th>\n",
              "      <th>n.risk.health.risk.factors</th>\n",
              "      <th>risk.alcoholism</th>\n",
              "      <th>mental.health.risk</th>\n",
              "      <th>weight.risk</th>\n",
              "      <th>smoking.risk</th>\n",
              "      <th>orthopedic.risk</th>\n",
              "      <th>beans.iron.risk</th>\n",
              "      <th>fruits.veggies</th>\n",
              "      <th>snacks</th>\n",
              "      <th>sugar.sweets</th>\n",
              "      <th>Integral.milk.risk</th>\n",
              "      <th>red.meat.risk</th>\n",
              "      <th>snack.time.risk</th>\n",
              "      <th>salt.risk</th>\n",
              "      <th>disease.risk.aggregated</th>\n",
              "      <th>total.risk</th>\n",
              "    </tr>\n",
              "  </thead>\n",
              "  <tbody>\n",
              "    <tr>\n",
              "      <th>0</th>\n",
              "      <td>1</td>\n",
              "      <td>0</td>\n",
              "      <td>76.16</td>\n",
              "      <td>0.0</td>\n",
              "      <td>0</td>\n",
              "      <td>76.16</td>\n",
              "      <td>1</td>\n",
              "      <td>0.00</td>\n",
              "      <td>0</td>\n",
              "      <td>0</td>\n",
              "      <td>0</td>\n",
              "      <td>0.00</td>\n",
              "      <td>0</td>\n",
              "      <td>0</td>\n",
              "      <td>0.00</td>\n",
              "      <td>0</td>\n",
              "      <td>0.00</td>\n",
              "      <td>0</td>\n",
              "      <td>0.00</td>\n",
              "      <td>0</td>\n",
              "      <td>0.0</td>\n",
              "      <td>0</td>\n",
              "      <td>0.00</td>\n",
              "      <td>0</td>\n",
              "      <td>2</td>\n",
              "      <td>1</td>\n",
              "      <td>1</td>\n",
              "      <td>29</td>\n",
              "      <td>4</td>\n",
              "      <td>2</td>\n",
              "      <td>0</td>\n",
              "      <td>0</td>\n",
              "      <td>0</td>\n",
              "      <td>0</td>\n",
              "      <td>0</td>\n",
              "      <td>0</td>\n",
              "      <td>0</td>\n",
              "      <td>0</td>\n",
              "      <td>0</td>\n",
              "      <td>0</td>\n",
              "      <td>0</td>\n",
              "      <td>0</td>\n",
              "      <td>0</td>\n",
              "      <td>0</td>\n",
              "      <td>0</td>\n",
              "      <td>0</td>\n",
              "      <td>0</td>\n",
              "      <td>0</td>\n",
              "      <td>0</td>\n",
              "      <td>0</td>\n",
              "      <td>0</td>\n",
              "      <td>0</td>\n",
              "      <td>0</td>\n",
              "      <td>0</td>\n",
              "      <td>0</td>\n",
              "      <td>0</td>\n",
              "      <td>0</td>\n",
              "      <td>1</td>\n",
              "      <td>1</td>\n",
              "      <td>0</td>\n",
              "      <td>0</td>\n",
              "      <td>1</td>\n",
              "      <td>0</td>\n",
              "      <td>0</td>\n",
              "      <td>0</td>\n",
              "      <td>1</td>\n",
              "      <td>0</td>\n",
              "      <td>1</td>\n",
              "      <td>1</td>\n",
              "      <td>1</td>\n",
              "      <td>0</td>\n",
              "      <td>0</td>\n",
              "      <td>1</td>\n",
              "      <td>7</td>\n",
              "    </tr>\n",
              "    <tr>\n",
              "      <th>1</th>\n",
              "      <td>2</td>\n",
              "      <td>0</td>\n",
              "      <td>0.00</td>\n",
              "      <td>0.0</td>\n",
              "      <td>0</td>\n",
              "      <td>0.00</td>\n",
              "      <td>0</td>\n",
              "      <td>0.00</td>\n",
              "      <td>0</td>\n",
              "      <td>0</td>\n",
              "      <td>0</td>\n",
              "      <td>0.00</td>\n",
              "      <td>0</td>\n",
              "      <td>0</td>\n",
              "      <td>750.90</td>\n",
              "      <td>9</td>\n",
              "      <td>794.66</td>\n",
              "      <td>3</td>\n",
              "      <td>2436.59</td>\n",
              "      <td>88</td>\n",
              "      <td>0.0</td>\n",
              "      <td>0</td>\n",
              "      <td>499.93</td>\n",
              "      <td>3</td>\n",
              "      <td>3</td>\n",
              "      <td>3</td>\n",
              "      <td>0</td>\n",
              "      <td>34</td>\n",
              "      <td>6</td>\n",
              "      <td>4</td>\n",
              "      <td>1</td>\n",
              "      <td>0</td>\n",
              "      <td>1</td>\n",
              "      <td>0</td>\n",
              "      <td>0</td>\n",
              "      <td>0</td>\n",
              "      <td>0</td>\n",
              "      <td>0</td>\n",
              "      <td>0</td>\n",
              "      <td>0</td>\n",
              "      <td>0</td>\n",
              "      <td>0</td>\n",
              "      <td>0</td>\n",
              "      <td>0</td>\n",
              "      <td>0</td>\n",
              "      <td>0</td>\n",
              "      <td>0</td>\n",
              "      <td>0</td>\n",
              "      <td>0</td>\n",
              "      <td>1</td>\n",
              "      <td>0</td>\n",
              "      <td>0</td>\n",
              "      <td>0</td>\n",
              "      <td>0</td>\n",
              "      <td>0</td>\n",
              "      <td>0</td>\n",
              "      <td>0</td>\n",
              "      <td>0</td>\n",
              "      <td>4</td>\n",
              "      <td>0</td>\n",
              "      <td>0</td>\n",
              "      <td>1</td>\n",
              "      <td>0</td>\n",
              "      <td>0</td>\n",
              "      <td>0</td>\n",
              "      <td>1</td>\n",
              "      <td>0</td>\n",
              "      <td>0</td>\n",
              "      <td>0</td>\n",
              "      <td>0</td>\n",
              "      <td>0</td>\n",
              "      <td>0</td>\n",
              "      <td>1</td>\n",
              "      <td>5</td>\n",
              "    </tr>\n",
              "    <tr>\n",
              "      <th>2</th>\n",
              "      <td>3</td>\n",
              "      <td>0</td>\n",
              "      <td>2668.70</td>\n",
              "      <td>377.4</td>\n",
              "      <td>5</td>\n",
              "      <td>551.61</td>\n",
              "      <td>2</td>\n",
              "      <td>1187.06</td>\n",
              "      <td>44</td>\n",
              "      <td>0</td>\n",
              "      <td>0</td>\n",
              "      <td>552.63</td>\n",
              "      <td>11</td>\n",
              "      <td>0</td>\n",
              "      <td>313.64</td>\n",
              "      <td>4</td>\n",
              "      <td>274.68</td>\n",
              "      <td>1</td>\n",
              "      <td>346.84</td>\n",
              "      <td>7</td>\n",
              "      <td>0.0</td>\n",
              "      <td>0</td>\n",
              "      <td>12.16</td>\n",
              "      <td>1</td>\n",
              "      <td>13</td>\n",
              "      <td>0</td>\n",
              "      <td>0</td>\n",
              "      <td>42</td>\n",
              "      <td>4</td>\n",
              "      <td>4</td>\n",
              "      <td>0</td>\n",
              "      <td>0</td>\n",
              "      <td>0</td>\n",
              "      <td>0</td>\n",
              "      <td>0</td>\n",
              "      <td>0</td>\n",
              "      <td>0</td>\n",
              "      <td>0</td>\n",
              "      <td>0</td>\n",
              "      <td>0</td>\n",
              "      <td>0</td>\n",
              "      <td>0</td>\n",
              "      <td>0</td>\n",
              "      <td>0</td>\n",
              "      <td>0</td>\n",
              "      <td>0</td>\n",
              "      <td>0</td>\n",
              "      <td>0</td>\n",
              "      <td>0</td>\n",
              "      <td>0</td>\n",
              "      <td>0</td>\n",
              "      <td>0</td>\n",
              "      <td>0</td>\n",
              "      <td>0</td>\n",
              "      <td>0</td>\n",
              "      <td>0</td>\n",
              "      <td>0</td>\n",
              "      <td>1</td>\n",
              "      <td>2</td>\n",
              "      <td>0</td>\n",
              "      <td>0</td>\n",
              "      <td>0</td>\n",
              "      <td>0</td>\n",
              "      <td>0</td>\n",
              "      <td>0</td>\n",
              "      <td>1</td>\n",
              "      <td>0</td>\n",
              "      <td>0</td>\n",
              "      <td>1</td>\n",
              "      <td>0</td>\n",
              "      <td>0</td>\n",
              "      <td>0</td>\n",
              "      <td>0</td>\n",
              "      <td>3</td>\n",
              "    </tr>\n",
              "    <tr>\n",
              "      <th>3</th>\n",
              "      <td>4</td>\n",
              "      <td>0</td>\n",
              "      <td>605.97</td>\n",
              "      <td>228.3</td>\n",
              "      <td>3</td>\n",
              "      <td>0.00</td>\n",
              "      <td>0</td>\n",
              "      <td>303.74</td>\n",
              "      <td>9</td>\n",
              "      <td>0</td>\n",
              "      <td>0</td>\n",
              "      <td>73.93</td>\n",
              "      <td>1</td>\n",
              "      <td>0</td>\n",
              "      <td>470.49</td>\n",
              "      <td>6</td>\n",
              "      <td>316.77</td>\n",
              "      <td>2</td>\n",
              "      <td>533.61</td>\n",
              "      <td>18</td>\n",
              "      <td>0.0</td>\n",
              "      <td>0</td>\n",
              "      <td>452.94</td>\n",
              "      <td>8</td>\n",
              "      <td>2</td>\n",
              "      <td>1</td>\n",
              "      <td>0</td>\n",
              "      <td>23</td>\n",
              "      <td>7</td>\n",
              "      <td>3</td>\n",
              "      <td>0</td>\n",
              "      <td>0</td>\n",
              "      <td>0</td>\n",
              "      <td>0</td>\n",
              "      <td>0</td>\n",
              "      <td>0</td>\n",
              "      <td>0</td>\n",
              "      <td>0</td>\n",
              "      <td>0</td>\n",
              "      <td>0</td>\n",
              "      <td>0</td>\n",
              "      <td>0</td>\n",
              "      <td>0</td>\n",
              "      <td>0</td>\n",
              "      <td>0</td>\n",
              "      <td>0</td>\n",
              "      <td>0</td>\n",
              "      <td>0</td>\n",
              "      <td>0</td>\n",
              "      <td>0</td>\n",
              "      <td>0</td>\n",
              "      <td>0</td>\n",
              "      <td>0</td>\n",
              "      <td>0</td>\n",
              "      <td>0</td>\n",
              "      <td>0</td>\n",
              "      <td>0</td>\n",
              "      <td>0</td>\n",
              "      <td>4</td>\n",
              "      <td>0</td>\n",
              "      <td>0</td>\n",
              "      <td>1</td>\n",
              "      <td>0</td>\n",
              "      <td>0</td>\n",
              "      <td>0</td>\n",
              "      <td>1</td>\n",
              "      <td>0</td>\n",
              "      <td>0</td>\n",
              "      <td>0</td>\n",
              "      <td>0</td>\n",
              "      <td>0</td>\n",
              "      <td>0</td>\n",
              "      <td>1</td>\n",
              "      <td>3</td>\n",
              "    </tr>\n",
              "    <tr>\n",
              "      <th>4</th>\n",
              "      <td>5</td>\n",
              "      <td>0</td>\n",
              "      <td>226.90</td>\n",
              "      <td>72.2</td>\n",
              "      <td>1</td>\n",
              "      <td>103.13</td>\n",
              "      <td>1</td>\n",
              "      <td>51.57</td>\n",
              "      <td>3</td>\n",
              "      <td>0</td>\n",
              "      <td>0</td>\n",
              "      <td>0.00</td>\n",
              "      <td>0</td>\n",
              "      <td>0</td>\n",
              "      <td>308.99</td>\n",
              "      <td>4</td>\n",
              "      <td>534.67</td>\n",
              "      <td>2</td>\n",
              "      <td>805.26</td>\n",
              "      <td>42</td>\n",
              "      <td>0.0</td>\n",
              "      <td>0</td>\n",
              "      <td>0.00</td>\n",
              "      <td>0</td>\n",
              "      <td>2</td>\n",
              "      <td>1</td>\n",
              "      <td>0</td>\n",
              "      <td>21</td>\n",
              "      <td>4</td>\n",
              "      <td>4</td>\n",
              "      <td>0</td>\n",
              "      <td>0</td>\n",
              "      <td>0</td>\n",
              "      <td>0</td>\n",
              "      <td>0</td>\n",
              "      <td>0</td>\n",
              "      <td>0</td>\n",
              "      <td>0</td>\n",
              "      <td>0</td>\n",
              "      <td>0</td>\n",
              "      <td>0</td>\n",
              "      <td>0</td>\n",
              "      <td>0</td>\n",
              "      <td>0</td>\n",
              "      <td>0</td>\n",
              "      <td>0</td>\n",
              "      <td>0</td>\n",
              "      <td>0</td>\n",
              "      <td>0</td>\n",
              "      <td>0</td>\n",
              "      <td>0</td>\n",
              "      <td>0</td>\n",
              "      <td>0</td>\n",
              "      <td>0</td>\n",
              "      <td>0</td>\n",
              "      <td>0</td>\n",
              "      <td>0</td>\n",
              "      <td>1</td>\n",
              "      <td>1</td>\n",
              "      <td>0</td>\n",
              "      <td>0</td>\n",
              "      <td>0</td>\n",
              "      <td>0</td>\n",
              "      <td>0</td>\n",
              "      <td>0</td>\n",
              "      <td>1</td>\n",
              "      <td>1</td>\n",
              "      <td>1</td>\n",
              "      <td>1</td>\n",
              "      <td>0</td>\n",
              "      <td>1</td>\n",
              "      <td>0</td>\n",
              "      <td>1</td>\n",
              "      <td>7</td>\n",
              "    </tr>\n",
              "  </tbody>\n",
              "</table>\n",
              "</div>"
            ],
            "text/plain": [
              "   id  type  ...  disease.risk.aggregated  total.risk\n",
              "0   1     0  ...                        1           7\n",
              "1   2     0  ...                        1           5\n",
              "2   3     0  ...                        0           3\n",
              "3   4     0  ...                        1           3\n",
              "4   5     0  ...                        1           7\n",
              "\n",
              "[5 rows x 74 columns]"
            ]
          },
          "metadata": {
            "tags": []
          },
          "execution_count": 3
        }
      ]
    },
    {
      "cell_type": "code",
      "metadata": {
        "id": "Ne0YnRQgCRpx",
        "colab_type": "code",
        "outputId": "e26aca78-d34b-4379-8645-08aa696e1d30",
        "colab": {
          "base_uri": "https://localhost:8080/",
          "height": 1000
        }
      },
      "source": [
        "# Obter informações sobre os tipos de variáveis\n",
        "# do banco de dados\n",
        "data.info()"
      ],
      "execution_count": 4,
      "outputs": [
        {
          "output_type": "stream",
          "text": [
            "<class 'pandas.core.frame.DataFrame'>\n",
            "RangeIndex: 300 entries, 0 to 299\n",
            "Data columns (total 74 columns):\n",
            " #   Column                                   Non-Null Count  Dtype  \n",
            "---  ------                                   --------------  -----  \n",
            " 0   id                                       300 non-null    int64  \n",
            " 1   type                                     300 non-null    int64  \n",
            " 2   before.hra.12m.claims.total              300 non-null    float64\n",
            " 3   before.hra.12m.elective.encounter.cost   300 non-null    float64\n",
            " 4   before.hra.12m.elective.encounter.event  300 non-null    int64  \n",
            " 5   before.hra.12m.er.cost                   300 non-null    float64\n",
            " 6   before.hra.12m.er.event                  300 non-null    int64  \n",
            " 7   before.hra.12m.exams.cost                300 non-null    float64\n",
            " 8   before.hra.12m.exams.event               300 non-null    int64  \n",
            " 9   before.hra.12m.hospital.cost             300 non-null    int64  \n",
            " 10  before.hra.12m.hospital.events           300 non-null    int64  \n",
            " 11  before.hra.12m.outpatient.cost           300 non-null    float64\n",
            " 12  before.hra.12m.outpatient.events         300 non-null    int64  \n",
            " 13  after.hra.12m.claims.total               300 non-null    int64  \n",
            " 14  after.hra.12m.elective.encounter.cost    300 non-null    float64\n",
            " 15  after.hra.12m.elective.encounter.event   300 non-null    int64  \n",
            " 16  after.hra.12m.er.cost                    300 non-null    float64\n",
            " 17  after.hra.12m.er.event                   300 non-null    int64  \n",
            " 18  after.hra.12m.exams.cost                 300 non-null    float64\n",
            " 19  after.hra.12m.exams.event                300 non-null    int64  \n",
            " 20  after.hra.12m.hospital.cost              300 non-null    float64\n",
            " 21  after.hra.12m.hospital.events            300 non-null    int64  \n",
            " 22  after.hra.12m.outpatient.cost            300 non-null    float64\n",
            " 23  after.hra.12m.outpatient.events          300 non-null    int64  \n",
            " 24  time.on.company                          300 non-null    int64  \n",
            " 25  risk.factors.sum                         300 non-null    int64  \n",
            " 26  gender                                   300 non-null    int64  \n",
            " 27  age                                      300 non-null    int64  \n",
            " 28  educational.level                        300 non-null    int64  \n",
            " 29  househood.members                        300 non-null    int64  \n",
            " 30  asthma.bronquitis.emphysema              300 non-null    int64  \n",
            " 31  allergies                                300 non-null    int64  \n",
            " 32  migraine.headache                        300 non-null    int64  \n",
            " 33  insomnia                                 300 non-null    int64  \n",
            " 34  rhinitis.sinusitis                       300 non-null    int64  \n",
            " 35  colestherol                              300 non-null    int64  \n",
            " 36  dyslipidemia                             300 non-null    int64  \n",
            " 37  diabetes                                 300 non-null    int64  \n",
            " 38  thyroid                                  300 non-null    int64  \n",
            " 39  hepatitis                                300 non-null    int64  \n",
            " 40  blood.pressure                           300 non-null    int64  \n",
            " 41  heart.conditions                         300 non-null    int64  \n",
            " 42  stroke                                   300 non-null    int64  \n",
            " 43  ms                                       300 non-null    int64  \n",
            " 44  kidney                                   300 non-null    int64  \n",
            " 45  gastritits                               300 non-null    int64  \n",
            " 46  bowelsyndrome                            300 non-null    int64  \n",
            " 47  rheumatism                               300 non-null    int64  \n",
            " 48  low.back.pain                            300 non-null    int64  \n",
            " 49  back.pain                                300 non-null    int64  \n",
            " 50  osteoporosis                             300 non-null    int64  \n",
            " 51  cancer                                   300 non-null    int64  \n",
            " 52  anxietydisorders                         300 non-null    int64  \n",
            " 53  depression                               300 non-null    int64  \n",
            " 54  othermentalcondition                     300 non-null    int64  \n",
            " 55  stds                                     300 non-null    int64  \n",
            " 56  hiv                                      300 non-null    int64  \n",
            " 57  sedentary.lifestyle                      300 non-null    int64  \n",
            " 58  n.risk.health.risk.factors               300 non-null    int64  \n",
            " 59  risk.alcoholism                          300 non-null    int64  \n",
            " 60  mental.health.risk                       300 non-null    int64  \n",
            " 61  weight.risk                              300 non-null    int64  \n",
            " 62  smoking.risk                             300 non-null    int64  \n",
            " 63  orthopedic.risk                          300 non-null    int64  \n",
            " 64  beans.iron.risk                          300 non-null    int64  \n",
            " 65  fruits.veggies                           300 non-null    int64  \n",
            " 66  snacks                                   300 non-null    int64  \n",
            " 67  sugar.sweets                             300 non-null    int64  \n",
            " 68  Integral.milk.risk                       300 non-null    int64  \n",
            " 69  red.meat.risk                            300 non-null    int64  \n",
            " 70  snack.time.risk                          300 non-null    int64  \n",
            " 71  salt.risk                                300 non-null    int64  \n",
            " 72  disease.risk.aggregated                  300 non-null    int64  \n",
            " 73  total.risk                               300 non-null    int64  \n",
            "dtypes: float64(10), int64(64)\n",
            "memory usage: 173.6 KB\n"
          ],
          "name": "stdout"
        }
      ]
    },
    {
      "cell_type": "markdown",
      "metadata": {
        "id": "P5gKUB098pfr",
        "colab_type": "text"
      },
      "source": [
        "## **2.Validação dos dados**\n",
        "\n",
        "Antes de qualquer análise de dados, precisamos validar a integridade dos dados que recebemos. Esta é uma etapa crucial e precisa sempre ser feita de acordo com manuais de boas práticas. A dura experiência também nos mostrou isso também.\n",
        "\n",
        "Como fazer o teste? Verifique se seus dados possuem respostas faltantes, se as colunas estão com o tipo de dados adequado. Nós não esgotaremos os testes aqui, mas recomendamos que o os dados sejam validados por inúmeros testes e que uma crítica dos dados seja entregue junto com os resultados das análises."
      ]
    },
    {
      "cell_type": "code",
      "metadata": {
        "id": "qxXpCHgED24U",
        "colab_type": "code",
        "outputId": "7916e293-12d3-4e3e-ab17-0d579dda2ea3",
        "colab": {
          "base_uri": "https://localhost:8080/",
          "height": 170
        }
      },
      "source": [
        "# Validação:\n",
        "\n",
        "# Teste dos dados 1. Verificar se as variáveis de custo separadas por \n",
        "# CETIPO estão somadas corretamente na variável 'before.hra.12m.claims.total'\n",
        "# C - Consultas      - before.hra.12m.elective.encounter.cost\n",
        "# E - Exames         - before.hra.12m.exams.cost\n",
        "# T - Terapias       - before.hra.12m.er.cost\n",
        "# I - Internação     - before.hra.12m.hospital.cost\n",
        "# P - Procedimentos  - Não foi registrado na base.\n",
        "# O - Outros         - before.hra.12m.outpatient.cost \n",
        "\n",
        "(data.filter(regex=(\"before.*.cost\")).sum(axis=1) - data['before.hra.12m.claims.total']).describe()"
      ],
      "execution_count": 5,
      "outputs": [
        {
          "output_type": "execute_result",
          "data": {
            "text/plain": [
              "count    300.000000\n",
              "mean      -0.011167\n",
              "std        0.100252\n",
              "min       -0.470000\n",
              "25%        0.000000\n",
              "50%        0.000000\n",
              "75%        0.000000\n",
              "max        0.500000\n",
              "dtype: float64"
            ]
          },
          "metadata": {
            "tags": []
          },
          "execution_count": 5
        }
      ]
    },
    {
      "cell_type": "markdown",
      "metadata": {
        "id": "RX3Y1MBw-Kax",
        "colab_type": "text"
      },
      "source": [
        "**Conclusões**: A diferença entre a coluna com a soma das variáveis com de custo anteriores a entrevista de avaliação de risco é mínima. Muito provavelmente ligada a forma com que os arrendodamentos foram trabalhados no programa do analista (não vamos condená-lo por usar o Excel) e o Python. "
      ]
    },
    {
      "cell_type": "code",
      "metadata": {
        "id": "iVVZkeVQEM7a",
        "colab_type": "code",
        "colab": {}
      },
      "source": [
        "# Teste dos dados 2. Verificar se as variáveis de custo separadas por \n",
        "# CETIPO estão somadas corretamente na variável 'after.hra.12m.claims.total'\n",
        "# C - Consultas      - after.hra.12m.elective.encounter.cost\n",
        "# E - Exames         - after.hra.12m.exams.cost\n",
        "# T - Terapias       - after.hra.12m.er.cost\n",
        "# I - Internação     - after.hra.12m.hospital.cost\n",
        "# P - Procedimentos  - Não foi registrado na base.\n",
        "# O - Outros         - after.hra.12m.outpatient.cost \n",
        "\n",
        "# Agora é com você. Verifique se a soma está correta e defina quais serão \n",
        "# os próximos passos da análise\n",
        "\n",
        "# Seu código aqui:\n"
      ],
      "execution_count": 0,
      "outputs": []
    },
    {
      "cell_type": "markdown",
      "metadata": {
        "id": "IRVH_x0oB80i",
        "colab_type": "text"
      },
      "source": [
        "**Clique aqui para ver a resposta**\n",
        "\n",
        "<!-- \n",
        "```python\n",
        "(data.filter(regex=(\"after.*.cost\")).sum(axis=1) - data['after.hra.12m.claims.total']).describe()\n",
        "```\n",
        "Alguma coisa está errada porque a diferença das duas colunas está longe de ser zero. Se inspecionarmos a coluna 'after.hra.12m.claims.total', verificaremos que  todos os valores estão zerados. Erro do planilheiro do Excel.\n",
        "\n",
        "```python\n",
        "data['after.hra.12m.claims.total']).describe()\n",
        "```\n",
        "\n",
        "Assim, precisaremos criar uma nova variável no banco com os valores corretos.\n",
        "\n",
        "```\n",
        "data['after.hra.12m.claims.total.r']) = data.filter(regex=(\"after.*.cost\")).sum(axis=1)\n",
        "```\n",
        "-->"
      ]
    },
    {
      "cell_type": "markdown",
      "metadata": {
        "id": "-M611oVqoz3R",
        "colab_type": "text"
      },
      "source": [
        "## **3.Níveis de medida**\n",
        "\n",
        "## Escalas de medida não-métrica\n",
        "\n",
        "Medidas que descrevem diferenças em tipo ou natureza, indicando a presença ou ausência de uma característica ou propriedade.\n",
        "\n",
        "O analista não pode realizar nenhuma operação aritmética (somas, médias, multiplicações, divisões etc.), tornando assim todos os dados não-métricos bastante limitados em seu uso na estimação de coeficientes do modelo. \n",
        "\n",
        "### Escalas nominais\n",
        "\n",
        "Uma escala nominal designa números para rotular ou identificar indivíduos ou objetos.\n",
        "\n",
        "Dados nominais representam somente categorias ou classes, e não implicam quantias de um atributo ou característica. Exemplos freqüentemente usados de dados nominalmente escalonados incluem diversos **atributos demográficos (como sexo, religião, ocupação ou filiação partidária)**, muitas formas de comportamento (como comportamento de voto ou atividade de compra), **ou qualquer outra ação que seja discreta (que acontece ou não)**.\n",
        "\n",
        "### Escalas ordinais\n",
        "\n",
        "Escalas ordinais são o próximo nível “superior” de precisão em medida. No caso de escalas ordinais, variáveis **podem ser ordenadas ou ranqueadas** em relação à quantia do atributo possuída. Todo **indivíduo ou objeto pode ser comparado com outro em termos de uma relação da forma “maior que” ou “menor que”**. Os números empregados em escalas ordinais, contudo, são realmente não-quantitativos porque eles indicam apenas posições relativas em uma série ordenada. **Escalas ordinais não fornecem qualquer medida da quantia ou magnitude real em termos absolutos**, mas apenas a ordem dos valores. O pesquisador conhece a ordem, mas não a quantia de diferença entre os valores.\n",
        "\n",
        "<br>\n",
        "<br>\n",
        "<hr>"
      ]
    },
    {
      "cell_type": "markdown",
      "metadata": {
        "id": "OR9RAfXjCh7Q",
        "colab_type": "text"
      },
      "source": [
        "## **4.Plano de análise**\n",
        "\n",
        "Toda análise exploratória precisa começar com algumas perguntas que podem ser respondidas pelos dados.\n",
        "\n",
        "### Descrição dos dados sociodemográficos\n",
        "Primeiro, iremos descrever o perfil de nossa amostra com as seguintes perguntas:\n",
        "\n",
        "1. Qual a distribuição de sexo (variável 'gender') da amostra?\n",
        "2. Qual a distribuição de idade (variável 'age') da amostra?\n",
        "3. Qual a distribuição do tipo de beneficiário (variável 'type) na amostra?\n",
        "4. Qual o nível socioeducacional dos participantes da amostra (variável 'educational.level')?\n",
        "\n",
        "Fique a vontade para explorar os dados também.\n",
        "\n",
        "\n"
      ]
    },
    {
      "cell_type": "markdown",
      "metadata": {
        "id": "kVTHMCVoJ96i",
        "colab_type": "text"
      },
      "source": [
        "**01. Qual a distribuição de sexo (variável 'gender') da amostra?**"
      ]
    },
    {
      "cell_type": "code",
      "metadata": {
        "id": "MOO_x04JGY7D",
        "colab_type": "code",
        "outputId": "a5bf3e49-2bed-4843-c3bd-4470b797ad4c",
        "colab": {
          "base_uri": "https://localhost:8080/",
          "height": 68
        }
      },
      "source": [
        "# 1.a Qual a distribuição de sexo (variável 'gender') da amostra?\n",
        "\n",
        "# Antes de fazer a conta, vamos mapear recodificar as variáveis para\n",
        "# facilitar a interpretação da tabela.\n",
        "data['gender_r'] = data['gender'].map({0: 'female', 1: 'male'})\n",
        "data['gender_r'].value_counts()"
      ],
      "execution_count": 6,
      "outputs": [
        {
          "output_type": "execute_result",
          "data": {
            "text/plain": [
              "female    223\n",
              "male       77\n",
              "Name: gender_r, dtype: int64"
            ]
          },
          "metadata": {
            "tags": []
          },
          "execution_count": 6
        }
      ]
    },
    {
      "cell_type": "code",
      "metadata": {
        "id": "Ur5WLlW9HmAD",
        "colab_type": "code",
        "outputId": "f5f72e49-6536-4a95-9e69-3f74912c70e3",
        "colab": {
          "base_uri": "https://localhost:8080/",
          "height": 68
        }
      },
      "source": [
        "# 1.b Que tal calcular as porcentagens em vez dos números brutos?\n",
        "\n",
        "# Simples, é só usar o parâmetro 'normalize' do método value_counts()\n",
        "data['gender_r'].value_counts(normalize=True)"
      ],
      "execution_count": 7,
      "outputs": [
        {
          "output_type": "execute_result",
          "data": {
            "text/plain": [
              "female    0.743333\n",
              "male      0.256667\n",
              "Name: gender_r, dtype: float64"
            ]
          },
          "metadata": {
            "tags": []
          },
          "execution_count": 7
        }
      ]
    },
    {
      "cell_type": "code",
      "metadata": {
        "id": "WFqxMrUQr9dH",
        "colab_type": "code",
        "outputId": "e6c181c0-47a9-4482-95b6-8242ae877509",
        "colab": {
          "base_uri": "https://localhost:8080/",
          "height": 306
        }
      },
      "source": [
        "# Podemos visualizar melhor essa distribuição em um gráfico de barras.\n",
        "import matplotlib.pyplot as plt\n",
        "\n",
        "# Com o parâmetro 'kind' da função plot() você define o tipo do gráfico.\n",
        "data['gender_r'].value_counts(normalize=True).plot(kind='bar')\n",
        "\n",
        "plt.title('Distribuição de Sexo em Porcentagem')\n",
        "plt.show()"
      ],
      "execution_count": 8,
      "outputs": [
        {
          "output_type": "display_data",
          "data": {
            "image/png": "[encoded data removed]",
            "text/plain": [
              "<Figure size 432x288 with 1 Axes>"
            ]
          },
          "metadata": {
            "tags": []
          }
        }
      ]
    },
    {
      "cell_type": "markdown",
      "metadata": {
        "id": "TItaAleBpJQ-",
        "colab_type": "text"
      },
      "source": [
        "### **A. Descrição das características de saúde**\n",
        "\n",
        "1. Quantas pessoas não fizeram uso do plano de saúde nos 12 meses que antecederam a pesquisa?\n",
        "2. Existem diferenças em condições de saúde (variáveis entre 'asthma.bronquitis.emphysema' e 'hiv') na vida entre aqueles que usaram o plano de saúde e aqueles que não fizeram uso do plano de saúde nos 12 meses que antecederam a pesquisa?  \n",
        "    a. Criar uma variável (coluna) para classificar pessoas que não fizeram uso do plano de saúde nos 12 meses que antecederam a pesquisa.  \n",
        "    b. Avaliar a diferença para uma condição de saúde 'asthma.bronquitis.emphysema'  \n",
        "  c. Fazer para todas as variáveis entre 'asthma.bronquitis.emphysema' e 'hiv'\n",
        "\n"
      ]
    },
    {
      "cell_type": "markdown",
      "metadata": {
        "id": "N4na4DvVzVGT",
        "colab_type": "text"
      },
      "source": [
        "**01. Quantas pessoas não fizeram uso do plano de saúde nos 12 meses que antecederam a pesquisa?**"
      ]
    },
    {
      "cell_type": "code",
      "metadata": {
        "id": "lqwHFPEHzZ0Q",
        "colab_type": "code",
        "outputId": "1003e81b-ba63-401d-c79f-1ab9fd2fc26d",
        "colab": {
          "base_uri": "https://localhost:8080/",
          "height": 68
        }
      },
      "source": [
        "data['has_used_prior_ha'] = np.where(data['before.hra.12m.claims.total'] > 0,\n",
        "                                     'Yes', 'No')\n",
        "                                     \n",
        "data['has_used_prior_ha'].value_counts()"
      ],
      "execution_count": 9,
      "outputs": [
        {
          "output_type": "execute_result",
          "data": {
            "text/plain": [
              "Yes    249\n",
              "No      51\n",
              "Name: has_used_prior_ha, dtype: int64"
            ]
          },
          "metadata": {
            "tags": []
          },
          "execution_count": 9
        }
      ]
    },
    {
      "cell_type": "markdown",
      "metadata": {
        "id": "hn7V-Rbfz2zX",
        "colab_type": "text"
      },
      "source": [
        "**02. Existem diferenças em condições de saúde (variáveis entre 'asthma.bronquitis.emphysema' e 'hiv') na vida entre aqueles que usaram o plano de saúde e aqueles que não fizeram uso do plano de saúde nos 12 meses que antecederam a pesquisa?** "
      ]
    },
    {
      "cell_type": "code",
      "metadata": {
        "id": "Ifj8apU50DQO",
        "colab_type": "code",
        "outputId": "e658a0bb-c3e9-40f8-d317-4d375460c3a0",
        "colab": {
          "base_uri": "https://localhost:8080/",
          "height": 142
        }
      },
      "source": [
        "# 2a.  Resolvido na célula de código acima. :)\n",
        "# 2b.  Avaliar 'asthma.bronquitis.emphysema'\n",
        "# 2b1. Tabela de frequência\n",
        "pd.crosstab(data['asthma.bronquitis.emphysema'], data['has_used_prior_ha'])"
      ],
      "execution_count": 10,
      "outputs": [
        {
          "output_type": "execute_result",
          "data": {
            "text/html": [
              "<div>\n",
              "<style scoped>\n",
              "    .dataframe tbody tr th:only-of-type {\n",
              "        vertical-align: middle;\n",
              "    }\n",
              "\n",
              "    .dataframe tbody tr th {\n",
              "        vertical-align: top;\n",
              "    }\n",
              "\n",
              "    .dataframe thead th {\n",
              "        text-align: right;\n",
              "    }\n",
              "</style>\n",
              "<table border=\"1\" class=\"dataframe\">\n",
              "  <thead>\n",
              "    <tr style=\"text-align: right;\">\n",
              "      <th>has_used_prior_ha</th>\n",
              "      <th>No</th>\n",
              "      <th>Yes</th>\n",
              "    </tr>\n",
              "    <tr>\n",
              "      <th>asthma.bronquitis.emphysema</th>\n",
              "      <th></th>\n",
              "      <th></th>\n",
              "    </tr>\n",
              "  </thead>\n",
              "  <tbody>\n",
              "    <tr>\n",
              "      <th>0</th>\n",
              "      <td>43</td>\n",
              "      <td>228</td>\n",
              "    </tr>\n",
              "    <tr>\n",
              "      <th>1</th>\n",
              "      <td>8</td>\n",
              "      <td>21</td>\n",
              "    </tr>\n",
              "  </tbody>\n",
              "</table>\n",
              "</div>"
            ],
            "text/plain": [
              "has_used_prior_ha            No  Yes\n",
              "asthma.bronquitis.emphysema         \n",
              "0                            43  228\n",
              "1                             8   21"
            ]
          },
          "metadata": {
            "tags": []
          },
          "execution_count": 10
        }
      ]
    },
    {
      "cell_type": "code",
      "metadata": {
        "id": "Pb0zEEv_6JZl",
        "colab_type": "code",
        "outputId": "f4e461cd-f697-4f87-a108-71fb2d49ee5e",
        "colab": {
          "base_uri": "https://localhost:8080/",
          "height": 138
        }
      },
      "source": [
        "# 2b2. Tabela de frequência com porcentagens\n",
        "pd.crosstab(data['asthma.bronquitis.emphysema'], data['has_used_prior_ha'],  \n",
        "            normalize='columns').round(3) * 100"
      ],
      "execution_count": 0,
      "outputs": [
        {
          "output_type": "execute_result",
          "data": {
            "text/html": [
              "<div>\n",
              "<style scoped>\n",
              "    .dataframe tbody tr th:only-of-type {\n",
              "        vertical-align: middle;\n",
              "    }\n",
              "\n",
              "    .dataframe tbody tr th {\n",
              "        vertical-align: top;\n",
              "    }\n",
              "\n",
              "    .dataframe thead th {\n",
              "        text-align: right;\n",
              "    }\n",
              "</style>\n",
              "<table border=\"1\" class=\"dataframe\">\n",
              "  <thead>\n",
              "    <tr style=\"text-align: right;\">\n",
              "      <th>has_used_prior_ha</th>\n",
              "      <th>No</th>\n",
              "      <th>Yes</th>\n",
              "    </tr>\n",
              "    <tr>\n",
              "      <th>asthma.bronquitis.emphysema</th>\n",
              "      <th></th>\n",
              "      <th></th>\n",
              "    </tr>\n",
              "  </thead>\n",
              "  <tbody>\n",
              "    <tr>\n",
              "      <th>0</th>\n",
              "      <td>84.3</td>\n",
              "      <td>91.6</td>\n",
              "    </tr>\n",
              "    <tr>\n",
              "      <th>1</th>\n",
              "      <td>15.7</td>\n",
              "      <td>8.4</td>\n",
              "    </tr>\n",
              "  </tbody>\n",
              "</table>\n",
              "</div>"
            ],
            "text/plain": [
              "has_used_prior_ha              No   Yes\n",
              "asthma.bronquitis.emphysema            \n",
              "0                            84.3  91.6\n",
              "1                            15.7   8.4"
            ]
          },
          "metadata": {
            "tags": []
          },
          "execution_count": 30
        }
      ]
    },
    {
      "cell_type": "markdown",
      "metadata": {
        "id": "3K9ew_sjd2yf",
        "colab_type": "text"
      },
      "source": [
        "Esta última letra é a mais repetitiva de todas. Você poderia repetir os passos acima para todas as variáveis. Repetir tem dois pontos negativos: repetição de código e tamanho do notebook.\n",
        "\n",
        "De maneira geral, toda vez que você começar a repetir um código de análise, pense se seria melhor usar seus superpoderes de programação já aprendidos. \n",
        "\n",
        "É uma ótima hora para colocar à prova nossos nossos conhecimentos de python. Vamos lá!"
      ]
    },
    {
      "cell_type": "code",
      "metadata": {
        "id": "IB0Jzmy964L5",
        "colab_type": "code",
        "outputId": "90b18c9b-bbcb-429f-98ed-49aef493a15d",
        "colab": {
          "base_uri": "https://localhost:8080/",
          "height": 68
        }
      },
      "source": [
        "# 2.. Combinar Múltiplas tabelas\n",
        "# Primeiro, vamos criar uma função que retorna um dicionário com algumas\n",
        "# informações da função crosstab do pandas. Depois iremos combiná-las \n",
        "# em num dicionário que possui o nome da coluna, informações em números\n",
        "# absolutos e percentagens combinadas. Caso não exista nenhuma pessoa por\n",
        "# condição de saúde iremos retornar um dicionário com 0 casos.\n",
        "\n",
        "def create_table_row(col_name):\n",
        "  # Criar tabelas de frequência e percentagens para uma dada \n",
        "  # coluna 'col_name'.\n",
        "  table_freq = pd.crosstab(data[col_name], data['has_used_prior_ha'])\n",
        "  table_perc = pd.crosstab(data[col_name], data['has_used_prior_ha'],  \n",
        "                          normalize='columns').round(3) * 100\n",
        "  try:\n",
        "    # Selecionar trechos das tabelas e combiná-los no dicionário.\n",
        "    my_dict = {'condicao_de_saude': col_name + ' [Yes]', \n",
        "              'usou_plano': str(table_perc.T.loc['Yes'][1].round(1)) + \n",
        "              ' (' + str(table_freq.T.loc['Yes'][1]) + ')',\n",
        "              'nao_usou_plano': str(table_perc.T.loc['No'][1].round(1)) + \n",
        "              ' (' + str(table_freq.T.loc['No'][1]) + ')'}\n",
        "  except:\n",
        "    # Se os trechos tiverem zero, retornar dicionário com zero.\n",
        "    my_dict = {'condicao_de_saude': col_name + ' [Yes]', \n",
        "              'usou_plano': str(0),\n",
        "              'nao_usou_plano': str(0)}\n",
        "  \n",
        "  return my_dict\n",
        "\n",
        "# Testar para uma condição de saúde\n",
        "create_table_row('asthma.bronquitis.emphysema')"
      ],
      "execution_count": 61,
      "outputs": [
        {
          "output_type": "execute_result",
          "data": {
            "text/plain": [
              "{'condicao_de_saude': 'asthma.bronquitis.emphysema [Yes]',\n",
              " 'nao_usou_plano': '15.7 (8)',\n",
              " 'usou_plano': '8.4 (21)'}"
            ]
          },
          "metadata": {
            "tags": []
          },
          "execution_count": 61
        }
      ]
    },
    {
      "cell_type": "markdown",
      "metadata": {
        "id": "pcBut_g-f9X_",
        "colab_type": "text"
      },
      "source": [
        "Wow! Criamos uma função que retorna um dicionário para uma dada coluna do banco de dados (DataFrame do pandas). Hora de fazer para todas colunas de uma vez usando um loop."
      ]
    },
    {
      "cell_type": "code",
      "metadata": {
        "id": "hwwJnlTx-7OE",
        "colab_type": "code",
        "colab": {
          "base_uri": "https://localhost:8080/",
          "height": 886
        },
        "outputId": "cb525036-f114-4c76-a504-0495a27dee0d"
      },
      "source": [
        "# Primeiro vamos criar uma lista vazia e adicionar os dicionários com valores \n",
        "# para cada coluna usando as colunas. As colunas sobre presença de risco estão\n",
        "# entre os índices 30 a 56. Como os slices no python são não inclusivos, \n",
        "# iremos até 57.\n",
        "list_of_rows = []                                   # 1.Cria lista vazia\n",
        "for row in data.columns[30:57]:                     # 2.Cria iteração para colunas\n",
        "  list_of_rows.append(create_table_row(row))        # 3.Adiciona dicionário à lista\n",
        "final_df = pd.DataFrame(list_of_rows)               # 4.Converte lista de dicionários\n",
        "final_df                                            #   em lista."
      ],
      "execution_count": 64,
      "outputs": [
        {
          "output_type": "execute_result",
          "data": {
            "text/html": [
              "<div>\n",
              "<style scoped>\n",
              "    .dataframe tbody tr th:only-of-type {\n",
              "        vertical-align: middle;\n",
              "    }\n",
              "\n",
              "    .dataframe tbody tr th {\n",
              "        vertical-align: top;\n",
              "    }\n",
              "\n",
              "    .dataframe thead th {\n",
              "        text-align: right;\n",
              "    }\n",
              "</style>\n",
              "<table border=\"1\" class=\"dataframe\">\n",
              "  <thead>\n",
              "    <tr style=\"text-align: right;\">\n",
              "      <th></th>\n",
              "      <th>condicao_de_saude</th>\n",
              "      <th>usou_plano</th>\n",
              "      <th>nao_usou_plano</th>\n",
              "    </tr>\n",
              "  </thead>\n",
              "  <tbody>\n",
              "    <tr>\n",
              "      <th>0</th>\n",
              "      <td>asthma.bronquitis.emphysema [Yes]</td>\n",
              "      <td>8.4 (21)</td>\n",
              "      <td>15.7 (8)</td>\n",
              "    </tr>\n",
              "    <tr>\n",
              "      <th>1</th>\n",
              "      <td>allergies [Yes]</td>\n",
              "      <td>15.7 (39)</td>\n",
              "      <td>17.6 (9)</td>\n",
              "    </tr>\n",
              "    <tr>\n",
              "      <th>2</th>\n",
              "      <td>migraine.headache [Yes]</td>\n",
              "      <td>26.1 (65)</td>\n",
              "      <td>29.4 (15)</td>\n",
              "    </tr>\n",
              "    <tr>\n",
              "      <th>3</th>\n",
              "      <td>insomnia [Yes]</td>\n",
              "      <td>8.4 (21)</td>\n",
              "      <td>9.8 (5)</td>\n",
              "    </tr>\n",
              "    <tr>\n",
              "      <th>4</th>\n",
              "      <td>rhinitis.sinusitis [Yes]</td>\n",
              "      <td>45.4 (113)</td>\n",
              "      <td>31.4 (16)</td>\n",
              "    </tr>\n",
              "    <tr>\n",
              "      <th>5</th>\n",
              "      <td>colestherol [Yes]</td>\n",
              "      <td>7.2 (18)</td>\n",
              "      <td>11.8 (6)</td>\n",
              "    </tr>\n",
              "    <tr>\n",
              "      <th>6</th>\n",
              "      <td>dyslipidemia [Yes]</td>\n",
              "      <td>0.4 (1)</td>\n",
              "      <td>0.0 (0)</td>\n",
              "    </tr>\n",
              "    <tr>\n",
              "      <th>7</th>\n",
              "      <td>diabetes [Yes]</td>\n",
              "      <td>1.2 (3)</td>\n",
              "      <td>5.9 (3)</td>\n",
              "    </tr>\n",
              "    <tr>\n",
              "      <th>8</th>\n",
              "      <td>thyroid [Yes]</td>\n",
              "      <td>5.6 (14)</td>\n",
              "      <td>3.9 (2)</td>\n",
              "    </tr>\n",
              "    <tr>\n",
              "      <th>9</th>\n",
              "      <td>hepatitis [Yes]</td>\n",
              "      <td>0</td>\n",
              "      <td>0</td>\n",
              "    </tr>\n",
              "    <tr>\n",
              "      <th>10</th>\n",
              "      <td>blood.pressure [Yes]</td>\n",
              "      <td>7.6 (19)</td>\n",
              "      <td>5.9 (3)</td>\n",
              "    </tr>\n",
              "    <tr>\n",
              "      <th>11</th>\n",
              "      <td>heart.conditions [Yes]</td>\n",
              "      <td>0.8 (2)</td>\n",
              "      <td>0.0 (0)</td>\n",
              "    </tr>\n",
              "    <tr>\n",
              "      <th>12</th>\n",
              "      <td>stroke [Yes]</td>\n",
              "      <td>0</td>\n",
              "      <td>0</td>\n",
              "    </tr>\n",
              "    <tr>\n",
              "      <th>13</th>\n",
              "      <td>ms [Yes]</td>\n",
              "      <td>0.4 (1)</td>\n",
              "      <td>0.0 (0)</td>\n",
              "    </tr>\n",
              "    <tr>\n",
              "      <th>14</th>\n",
              "      <td>kidney [Yes]</td>\n",
              "      <td>5.6 (14)</td>\n",
              "      <td>0.0 (0)</td>\n",
              "    </tr>\n",
              "    <tr>\n",
              "      <th>15</th>\n",
              "      <td>gastritits [Yes]</td>\n",
              "      <td>15.3 (38)</td>\n",
              "      <td>3.9 (2)</td>\n",
              "    </tr>\n",
              "    <tr>\n",
              "      <th>16</th>\n",
              "      <td>bowelsyndrome [Yes]</td>\n",
              "      <td>2.4 (6)</td>\n",
              "      <td>0.0 (0)</td>\n",
              "    </tr>\n",
              "    <tr>\n",
              "      <th>17</th>\n",
              "      <td>rheumatism [Yes]</td>\n",
              "      <td>1.6 (4)</td>\n",
              "      <td>0.0 (0)</td>\n",
              "    </tr>\n",
              "    <tr>\n",
              "      <th>18</th>\n",
              "      <td>low.back.pain [Yes]</td>\n",
              "      <td>11.6 (29)</td>\n",
              "      <td>5.9 (3)</td>\n",
              "    </tr>\n",
              "    <tr>\n",
              "      <th>19</th>\n",
              "      <td>back.pain [Yes]</td>\n",
              "      <td>12.9 (32)</td>\n",
              "      <td>5.9 (3)</td>\n",
              "    </tr>\n",
              "    <tr>\n",
              "      <th>20</th>\n",
              "      <td>osteoporosis [Yes]</td>\n",
              "      <td>1.6 (4)</td>\n",
              "      <td>0.0 (0)</td>\n",
              "    </tr>\n",
              "    <tr>\n",
              "      <th>21</th>\n",
              "      <td>cancer [Yes]</td>\n",
              "      <td>0</td>\n",
              "      <td>0</td>\n",
              "    </tr>\n",
              "    <tr>\n",
              "      <th>22</th>\n",
              "      <td>anxietydisorders [Yes]</td>\n",
              "      <td>4.4 (11)</td>\n",
              "      <td>2.0 (1)</td>\n",
              "    </tr>\n",
              "    <tr>\n",
              "      <th>23</th>\n",
              "      <td>depression [Yes]</td>\n",
              "      <td>4.4 (11)</td>\n",
              "      <td>0.0 (0)</td>\n",
              "    </tr>\n",
              "    <tr>\n",
              "      <th>24</th>\n",
              "      <td>othermentalcondition [Yes]</td>\n",
              "      <td>0</td>\n",
              "      <td>0</td>\n",
              "    </tr>\n",
              "    <tr>\n",
              "      <th>25</th>\n",
              "      <td>stds [Yes]</td>\n",
              "      <td>0.4 (1)</td>\n",
              "      <td>2.0 (1)</td>\n",
              "    </tr>\n",
              "    <tr>\n",
              "      <th>26</th>\n",
              "      <td>hiv [Yes]</td>\n",
              "      <td>0</td>\n",
              "      <td>0</td>\n",
              "    </tr>\n",
              "  </tbody>\n",
              "</table>\n",
              "</div>"
            ],
            "text/plain": [
              "                    condicao_de_saude  usou_plano nao_usou_plano\n",
              "0   asthma.bronquitis.emphysema [Yes]    8.4 (21)       15.7 (8)\n",
              "1                     allergies [Yes]   15.7 (39)       17.6 (9)\n",
              "2             migraine.headache [Yes]   26.1 (65)      29.4 (15)\n",
              "3                      insomnia [Yes]    8.4 (21)        9.8 (5)\n",
              "4            rhinitis.sinusitis [Yes]  45.4 (113)      31.4 (16)\n",
              "5                   colestherol [Yes]    7.2 (18)       11.8 (6)\n",
              "6                  dyslipidemia [Yes]     0.4 (1)        0.0 (0)\n",
              "7                      diabetes [Yes]     1.2 (3)        5.9 (3)\n",
              "8                       thyroid [Yes]    5.6 (14)        3.9 (2)\n",
              "9                     hepatitis [Yes]           0              0\n",
              "10               blood.pressure [Yes]    7.6 (19)        5.9 (3)\n",
              "11             heart.conditions [Yes]     0.8 (2)        0.0 (0)\n",
              "12                       stroke [Yes]           0              0\n",
              "13                           ms [Yes]     0.4 (1)        0.0 (0)\n",
              "14                       kidney [Yes]    5.6 (14)        0.0 (0)\n",
              "15                   gastritits [Yes]   15.3 (38)        3.9 (2)\n",
              "16                bowelsyndrome [Yes]     2.4 (6)        0.0 (0)\n",
              "17                   rheumatism [Yes]     1.6 (4)        0.0 (0)\n",
              "18                low.back.pain [Yes]   11.6 (29)        5.9 (3)\n",
              "19                    back.pain [Yes]   12.9 (32)        5.9 (3)\n",
              "20                 osteoporosis [Yes]     1.6 (4)        0.0 (0)\n",
              "21                       cancer [Yes]           0              0\n",
              "22             anxietydisorders [Yes]    4.4 (11)        2.0 (1)\n",
              "23                   depression [Yes]    4.4 (11)        0.0 (0)\n",
              "24         othermentalcondition [Yes]           0              0\n",
              "25                         stds [Yes]     0.4 (1)        2.0 (1)\n",
              "26                          hiv [Yes]           0              0"
            ]
          },
          "metadata": {
            "tags": []
          },
          "execution_count": 64
        }
      ]
    },
    {
      "cell_type": "markdown",
      "metadata": {
        "id": "uoTUp53YjgaZ",
        "colab_type": "text"
      },
      "source": [
        "**Interpretação** \n",
        "\n",
        "Percebemos que algumas condições de saúde são inexistentes entre os beneficiários (e.g., câncer, hiv, derrrame [stroke]). Podemos também usar\n",
        "as informações acima para testar nosso conhecimento sobre saúde.\n",
        "\n",
        "Esperaríamos beneficiários com doenças usando mais o plano de saúde. Enquanto isso é verdade para quem tem sinusite, 45,4% (113) usaram o plano e 31.4% (16) não usaram, isso não é verdade diabetes, 1,2% (3) usaram o plano e 5,9% (3). Qual seria uma explicação para isso? \n",
        "\n",
        "Talvez porque as frequências são muito pequenas. Poderíamos comparar usando estatística inferencial qual a probabilidade destes números serem encontrados por acaso. Para quem quiser saber mais, o teste do qui-quadrado poderia usado nesta situação. [Documentação aqui](https://docs.scipy.org/doc/scipy/reference/generated/scipy.stats.chi2_contingency.html). "
      ]
    },
    {
      "cell_type": "markdown",
      "metadata": {
        "id": "_MEqx69fm4n6",
        "colab_type": "text"
      },
      "source": [
        "### **B.Descrição dos custos em saúde (sinistro)**\n",
        "\n",
        "1. Retirar as pessoas que não usaram o plano de saúde da base de dados; \n",
        "2. Fazer uma matriz de correlação entre as variáveis de custo antes e depois;\n",
        "3. Gerar um heatmap das correlações;\n",
        "4. Transformar usando log as variáveis de custo total antes e depois. Após, aplicar uma correlação de Pearson."
      ]
    },
    {
      "cell_type": "markdown",
      "metadata": {
        "id": "H7eyXJ71m_nn",
        "colab_type": "text"
      },
      "source": [
        "### **C.Regressão múltipla (sinistro)**"
      ]
    },
    {
      "cell_type": "code",
      "metadata": {
        "id": "aqVZEMB7nAkj",
        "colab_type": "code",
        "colab": {}
      },
      "source": [
        ""
      ],
      "execution_count": 0,
      "outputs": []
    }
  ]
}