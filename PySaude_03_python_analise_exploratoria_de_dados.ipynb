{
  "nbformat": 4,
  "nbformat_minor": 0,
  "metadata": {
    "colab": {
      "name": "IESS-Premio.ipynb",
      "provenance": [],
      "toc_visible": true,
      "include_colab_link": true
    },
    "kernelspec": {
      "name": "python3",
      "display_name": "Python 3"
    }
  },
  "cells": [
    {
      "cell_type": "markdown",
      "metadata": {
        "id": "view-in-github",
        "colab_type": "text"
      },
      "source": [
        "<a href=\"https://colab.research.google.com/github/zetta-health/exp-curso-python-saude/blob/master/PySaude_03_python_analise_exploratoria_de_dados.ipynb\" target=\"_parent\"><img src=\"https://colab.research.google.com/assets/colab-badge.svg\" alt=\"Open In Colab\"/></a>"
      ]
    },
    {
      "cell_type": "markdown",
      "metadata": {
        "id": "F6DEQAupD9_G",
        "colab_type": "text"
      },
      "source": [
        "# Análise exploratória de dados"
      ]
    },
    {
      "cell_type": "markdown",
      "metadata": {
        "id": "OeOteGbVEC-2",
        "colab_type": "text"
      },
      "source": [
        "## Abrir banco de dados e avaliar estrutura"
      ]
    },
    {
      "cell_type": "code",
      "metadata": {
        "id": "BZzyUEj0BcAj",
        "colab_type": "code",
        "colab": {}
      },
      "source": [
        "import pandas as pd\n",
        "import numpy as np\n",
        "import io"
      ],
      "execution_count": 0,
      "outputs": []
    },
    {
      "cell_type": "code",
      "metadata": {
        "id": "WMS5zalRCijg",
        "colab_type": "code",
        "outputId": "186de8a1-5549-4784-c54c-b2763ffbc257",
        "colab": {
          "base_uri": "https://localhost:8080/",
          "height": 361
        }
      },
      "source": [
        "from google.colab import files\n",
        "uploaded = files.upload()"
      ],
      "execution_count": 0,
      "outputs": [
        {
          "output_type": "display_data",
          "data": {
            "text/html": [
              "\n",
              "     <input type=\"file\" id=\"files-4a492b92-a6f7-4a02-a7b0-1210d72e9671\" name=\"files[]\" multiple disabled />\n",
              "     <output id=\"result-4a492b92-a6f7-4a02-a7b0-1210d72e9671\">\n",
              "      Upload widget is only available when the cell has been executed in the\n",
              "      current browser session. Please rerun this cell to enable.\n",
              "      </output>\n",
              "      <script src=\"/nbextensions/google.colab/files.js\"></script> "
            ],
            "text/plain": [
              "<IPython.core.display.HTML object>"
            ]
          },
          "metadata": {
            "tags": []
          }
        },
        {
          "output_type": "error",
          "ename": "MessageError",
          "evalue": "ignored",
          "traceback": [
            "\u001b[0;31m---------------------------------------------------------------------------\u001b[0m",
            "\u001b[0;31mMessageError\u001b[0m                              Traceback (most recent call last)",
            "\u001b[0;32m<ipython-input-7-21dc3c638f66>\u001b[0m in \u001b[0;36m<module>\u001b[0;34m()\u001b[0m\n\u001b[1;32m      1\u001b[0m \u001b[0;32mfrom\u001b[0m \u001b[0mgoogle\u001b[0m\u001b[0;34m.\u001b[0m\u001b[0mcolab\u001b[0m \u001b[0;32mimport\u001b[0m \u001b[0mfiles\u001b[0m\u001b[0;34m\u001b[0m\u001b[0;34m\u001b[0m\u001b[0m\n\u001b[0;32m----> 2\u001b[0;31m \u001b[0muploaded\u001b[0m \u001b[0;34m=\u001b[0m \u001b[0mfiles\u001b[0m\u001b[0;34m.\u001b[0m\u001b[0mupload\u001b[0m\u001b[0;34m(\u001b[0m\u001b[0;34m)\u001b[0m\u001b[0;34m\u001b[0m\u001b[0;34m\u001b[0m\u001b[0m\n\u001b[0m",
            "\u001b[0;32m/usr/local/lib/python3.6/dist-packages/google/colab/files.py\u001b[0m in \u001b[0;36mupload\u001b[0;34m()\u001b[0m\n\u001b[1;32m     62\u001b[0m   result = _output.eval_js(\n\u001b[1;32m     63\u001b[0m       'google.colab._files._uploadFiles(\"{input_id}\", \"{output_id}\")'.format(\n\u001b[0;32m---> 64\u001b[0;31m           input_id=input_id, output_id=output_id))\n\u001b[0m\u001b[1;32m     65\u001b[0m   \u001b[0mfiles\u001b[0m \u001b[0;34m=\u001b[0m \u001b[0m_collections\u001b[0m\u001b[0;34m.\u001b[0m\u001b[0mdefaultdict\u001b[0m\u001b[0;34m(\u001b[0m\u001b[0m_six\u001b[0m\u001b[0;34m.\u001b[0m\u001b[0mbinary_type\u001b[0m\u001b[0;34m)\u001b[0m\u001b[0;34m\u001b[0m\u001b[0;34m\u001b[0m\u001b[0m\n\u001b[1;32m     66\u001b[0m   \u001b[0;31m# Mapping from original filename to filename as saved locally.\u001b[0m\u001b[0;34m\u001b[0m\u001b[0;34m\u001b[0m\u001b[0;34m\u001b[0m\u001b[0m\n",
            "\u001b[0;32m/usr/local/lib/python3.6/dist-packages/google/colab/output/_js.py\u001b[0m in \u001b[0;36meval_js\u001b[0;34m(script, ignore_result)\u001b[0m\n\u001b[1;32m     37\u001b[0m   \u001b[0;32mif\u001b[0m \u001b[0mignore_result\u001b[0m\u001b[0;34m:\u001b[0m\u001b[0;34m\u001b[0m\u001b[0;34m\u001b[0m\u001b[0m\n\u001b[1;32m     38\u001b[0m     \u001b[0;32mreturn\u001b[0m\u001b[0;34m\u001b[0m\u001b[0;34m\u001b[0m\u001b[0m\n\u001b[0;32m---> 39\u001b[0;31m   \u001b[0;32mreturn\u001b[0m \u001b[0m_message\u001b[0m\u001b[0;34m.\u001b[0m\u001b[0mread_reply_from_input\u001b[0m\u001b[0;34m(\u001b[0m\u001b[0mrequest_id\u001b[0m\u001b[0;34m)\u001b[0m\u001b[0;34m\u001b[0m\u001b[0;34m\u001b[0m\u001b[0m\n\u001b[0m\u001b[1;32m     40\u001b[0m \u001b[0;34m\u001b[0m\u001b[0m\n\u001b[1;32m     41\u001b[0m \u001b[0;34m\u001b[0m\u001b[0m\n",
            "\u001b[0;32m/usr/local/lib/python3.6/dist-packages/google/colab/_message.py\u001b[0m in \u001b[0;36mread_reply_from_input\u001b[0;34m(message_id, timeout_sec)\u001b[0m\n\u001b[1;32m    104\u001b[0m         reply.get('colab_msg_id') == message_id):\n\u001b[1;32m    105\u001b[0m       \u001b[0;32mif\u001b[0m \u001b[0;34m'error'\u001b[0m \u001b[0;32min\u001b[0m \u001b[0mreply\u001b[0m\u001b[0;34m:\u001b[0m\u001b[0;34m\u001b[0m\u001b[0;34m\u001b[0m\u001b[0m\n\u001b[0;32m--> 106\u001b[0;31m         \u001b[0;32mraise\u001b[0m \u001b[0mMessageError\u001b[0m\u001b[0;34m(\u001b[0m\u001b[0mreply\u001b[0m\u001b[0;34m[\u001b[0m\u001b[0;34m'error'\u001b[0m\u001b[0;34m]\u001b[0m\u001b[0;34m)\u001b[0m\u001b[0;34m\u001b[0m\u001b[0;34m\u001b[0m\u001b[0m\n\u001b[0m\u001b[1;32m    107\u001b[0m       \u001b[0;32mreturn\u001b[0m \u001b[0mreply\u001b[0m\u001b[0;34m.\u001b[0m\u001b[0mget\u001b[0m\u001b[0;34m(\u001b[0m\u001b[0;34m'data'\u001b[0m\u001b[0;34m,\u001b[0m \u001b[0;32mNone\u001b[0m\u001b[0;34m)\u001b[0m\u001b[0;34m\u001b[0m\u001b[0;34m\u001b[0m\u001b[0m\n\u001b[1;32m    108\u001b[0m \u001b[0;34m\u001b[0m\u001b[0m\n",
            "\u001b[0;31mMessageError\u001b[0m: TypeError: google.colab._files is undefined"
          ]
        }
      ]
    },
    {
      "cell_type": "code",
      "metadata": {
        "id": "acvPBArOBkB9",
        "colab_type": "code",
        "colab": {}
      },
      "source": [
        "data = pd.read_csv(io.BytesIO(uploaded['df_health_assessment_12m_v2.csv']))"
      ],
      "execution_count": 0,
      "outputs": []
    },
    {
      "cell_type": "code",
      "metadata": {
        "id": "dQ1HSk8VCfr_",
        "colab_type": "code",
        "outputId": "098833df-a828-41f6-cd75-69fd22d73dbd",
        "colab": {
          "base_uri": "https://localhost:8080/",
          "height": 287
        }
      },
      "source": [
        "data.head()"
      ],
      "execution_count": 0,
      "outputs": [
        {
          "output_type": "execute_result",
          "data": {
            "text/html": [
              "<div>\n",
              "<style scoped>\n",
              "    .dataframe tbody tr th:only-of-type {\n",
              "        vertical-align: middle;\n",
              "    }\n",
              "\n",
              "    .dataframe tbody tr th {\n",
              "        vertical-align: top;\n",
              "    }\n",
              "\n",
              "    .dataframe thead th {\n",
              "        text-align: right;\n",
              "    }\n",
              "</style>\n",
              "<table border=\"1\" class=\"dataframe\">\n",
              "  <thead>\n",
              "    <tr style=\"text-align: right;\">\n",
              "      <th></th>\n",
              "      <th>id</th>\n",
              "      <th>type</th>\n",
              "      <th>before.hra.12m.claims.total</th>\n",
              "      <th>before.hra.12m.elective.encounter.cost</th>\n",
              "      <th>before.hra.12m.elective.encounter.event</th>\n",
              "      <th>before.hra.12m.er.cost</th>\n",
              "      <th>before.hra.12m.er.event</th>\n",
              "      <th>before.hra.12m.exams.cost</th>\n",
              "      <th>before.hra.12m.exams.event</th>\n",
              "      <th>before.hra.12m.hospital.cost</th>\n",
              "      <th>before.hra.12m.hospital.events</th>\n",
              "      <th>before.hra.12m.outpatient.cost</th>\n",
              "      <th>before.hra.12m.outpatient.events</th>\n",
              "      <th>after.hra.12m.claims.total</th>\n",
              "      <th>after.hra.12m.elective.encounter.cost</th>\n",
              "      <th>after.hra.12m.elective.encounter.event</th>\n",
              "      <th>after.hra.12m.er.cost</th>\n",
              "      <th>after.hra.12m.er.event</th>\n",
              "      <th>after.hra.12m.exams.cost</th>\n",
              "      <th>after.hra.12m.exams.event</th>\n",
              "      <th>after.hra.12m.hospital.cost</th>\n",
              "      <th>after.hra.12m.hospital.events</th>\n",
              "      <th>after.hra.12m.outpatient.cost</th>\n",
              "      <th>after.hra.12m.outpatient.events</th>\n",
              "      <th>time.on.company</th>\n",
              "      <th>risk.factors.sum</th>\n",
              "      <th>gender</th>\n",
              "      <th>age</th>\n",
              "      <th>educational level</th>\n",
              "      <th>househood.members</th>\n",
              "      <th>asthma.bronquitis.emphysema</th>\n",
              "      <th>allergies</th>\n",
              "      <th>migraine.headache</th>\n",
              "      <th>insomnia</th>\n",
              "      <th>rhinitis.sinusitis</th>\n",
              "      <th>colestherol</th>\n",
              "      <th>dyslipidemia</th>\n",
              "      <th>diabetes</th>\n",
              "      <th>thyroid</th>\n",
              "      <th>hepatitis</th>\n",
              "      <th>...</th>\n",
              "      <th>pos_5_Elective Appointment QT_z_norm</th>\n",
              "      <th>pos_6_Emergency room $$_z_norm</th>\n",
              "      <th>pos_7_Emergency room QT_z_norm</th>\n",
              "      <th>pos_8_Diagnoses $$_z_norm</th>\n",
              "      <th>pos_9_Diagnoses QT_z_norm</th>\n",
              "      <th>pos_10_Hospitalization $$_z_norm</th>\n",
              "      <th>pos_11_Hospitalization QT_z_norm</th>\n",
              "      <th>pos_12_Outpatient and Therapies $$_z_norm</th>\n",
              "      <th>pos_13_Outpatient and Therapies QT_z_norm</th>\n",
              "      <th>pre_Time of job_z_norm</th>\n",
              "      <th>maior_que_outlier_pre_4_Elective Appointment  $$</th>\n",
              "      <th>maior_que_outlier_pre_6_Emergency room $$</th>\n",
              "      <th>maior_que_outlier_pre_8_Diagnoses $$</th>\n",
              "      <th>maior_que_outlier_pre_10_Hospitalization $$</th>\n",
              "      <th>maior_que_outlier_pre_12_Outpatient and Therapies $$</th>\n",
              "      <th>maior_que_outlier_pos_4_Elective Appointment  $$</th>\n",
              "      <th>maior_que_outlier_pos_6_Emergency room $$</th>\n",
              "      <th>maior_que_outlier_pos_8_Diagnoses $$</th>\n",
              "      <th>maior_que_outlier_pos_10_Hospitalization $$</th>\n",
              "      <th>maior_que_outlier_pos_12_Outpatient and Therapies $$</th>\n",
              "      <th>fez_pre_5_Elective Appointment QT</th>\n",
              "      <th>fez_&gt;4_pre_5_Elective Appointment QT</th>\n",
              "      <th>fez_pos_5_Elective Appointment QT</th>\n",
              "      <th>fez_&gt;4_pos_5_Elective Appointment QT</th>\n",
              "      <th>fez_pre_7_Emergency room QT</th>\n",
              "      <th>fez_&gt;3_pre_7_Emergency room QT</th>\n",
              "      <th>fez_pos_7_Emergency room QT</th>\n",
              "      <th>fez_&gt;3_pos_7_Emergency room QT</th>\n",
              "      <th>fez_pre_9_Diagnoses QT</th>\n",
              "      <th>fez_&gt;20pre_9_Diagnoses QT</th>\n",
              "      <th>fez_pos_9_Diagnoses QT</th>\n",
              "      <th>fez_&gt;20pos_9_Diagnoses QT</th>\n",
              "      <th>fez_pre_11_Hospitalization QT</th>\n",
              "      <th>fez_&gt;2_pre_11_Hospitalization QT</th>\n",
              "      <th>fez_pos_11_Hospitalization QT</th>\n",
              "      <th>fez_&gt;2_pos_11_Hospitalization QT</th>\n",
              "      <th>fez_pre_13_Outpatient and Therapies QT</th>\n",
              "      <th>fez_&gt;7_pre_13_Outpatient and Therapies QT</th>\n",
              "      <th>fez_pos_13_Outpatient and Therapies QT</th>\n",
              "      <th>fez_&gt;7_pos_13_Outpatient and Therapies QT</th>\n",
              "    </tr>\n",
              "  </thead>\n",
              "  <tbody>\n",
              "    <tr>\n",
              "      <th>0</th>\n",
              "      <td>3652800</td>\n",
              "      <td>0</td>\n",
              "      <td>197.58</td>\n",
              "      <td>0.0</td>\n",
              "      <td>0</td>\n",
              "      <td>197.58</td>\n",
              "      <td>1</td>\n",
              "      <td>0.00</td>\n",
              "      <td>0</td>\n",
              "      <td>0</td>\n",
              "      <td>0</td>\n",
              "      <td>0.00</td>\n",
              "      <td>0</td>\n",
              "      <td>0</td>\n",
              "      <td>441.89</td>\n",
              "      <td>7</td>\n",
              "      <td>721.83</td>\n",
              "      <td>3</td>\n",
              "      <td>1455.62</td>\n",
              "      <td>60</td>\n",
              "      <td>0.0</td>\n",
              "      <td>0</td>\n",
              "      <td>328.29</td>\n",
              "      <td>4</td>\n",
              "      <td>0</td>\n",
              "      <td>1</td>\n",
              "      <td>0</td>\n",
              "      <td>33</td>\n",
              "      <td>8</td>\n",
              "      <td>2</td>\n",
              "      <td>0</td>\n",
              "      <td>0</td>\n",
              "      <td>0</td>\n",
              "      <td>0</td>\n",
              "      <td>0</td>\n",
              "      <td>0</td>\n",
              "      <td>0</td>\n",
              "      <td>0</td>\n",
              "      <td>0</td>\n",
              "      <td>0</td>\n",
              "      <td>...</td>\n",
              "      <td>1.090946</td>\n",
              "      <td>0.434083</td>\n",
              "      <td>0.414105</td>\n",
              "      <td>1.212804</td>\n",
              "      <td>2.184204</td>\n",
              "      <td>-0.19442</td>\n",
              "      <td>-0.334169</td>\n",
              "      <td>-0.100002</td>\n",
              "      <td>0.189490</td>\n",
              "      <td>-0.791543</td>\n",
              "      <td>0.0</td>\n",
              "      <td>0.0</td>\n",
              "      <td>0.0</td>\n",
              "      <td>0.0</td>\n",
              "      <td>0.0</td>\n",
              "      <td>0.0</td>\n",
              "      <td>0.0</td>\n",
              "      <td>0.0</td>\n",
              "      <td>0.0</td>\n",
              "      <td>0.0</td>\n",
              "      <td>0.0</td>\n",
              "      <td>0.0</td>\n",
              "      <td>1.0</td>\n",
              "      <td>1.0</td>\n",
              "      <td>1.0</td>\n",
              "      <td>0.0</td>\n",
              "      <td>1.0</td>\n",
              "      <td>0.0</td>\n",
              "      <td>0.0</td>\n",
              "      <td>0.0</td>\n",
              "      <td>1.0</td>\n",
              "      <td>1.0</td>\n",
              "      <td>0.0</td>\n",
              "      <td>0.0</td>\n",
              "      <td>0.0</td>\n",
              "      <td>0.0</td>\n",
              "      <td>0.0</td>\n",
              "      <td>0.0</td>\n",
              "      <td>1.0</td>\n",
              "      <td>0.0</td>\n",
              "    </tr>\n",
              "    <tr>\n",
              "      <th>1</th>\n",
              "      <td>3323500</td>\n",
              "      <td>0</td>\n",
              "      <td>943.37</td>\n",
              "      <td>255.3</td>\n",
              "      <td>3</td>\n",
              "      <td>493.89</td>\n",
              "      <td>4</td>\n",
              "      <td>194.18</td>\n",
              "      <td>8</td>\n",
              "      <td>0</td>\n",
              "      <td>0</td>\n",
              "      <td>0.00</td>\n",
              "      <td>0</td>\n",
              "      <td>0</td>\n",
              "      <td>631.10</td>\n",
              "      <td>7</td>\n",
              "      <td>1056.00</td>\n",
              "      <td>4</td>\n",
              "      <td>1328.75</td>\n",
              "      <td>50</td>\n",
              "      <td>0.0</td>\n",
              "      <td>0</td>\n",
              "      <td>35.90</td>\n",
              "      <td>3</td>\n",
              "      <td>1</td>\n",
              "      <td>0</td>\n",
              "      <td>1</td>\n",
              "      <td>28</td>\n",
              "      <td>5</td>\n",
              "      <td>1</td>\n",
              "      <td>0</td>\n",
              "      <td>0</td>\n",
              "      <td>0</td>\n",
              "      <td>0</td>\n",
              "      <td>0</td>\n",
              "      <td>0</td>\n",
              "      <td>0</td>\n",
              "      <td>0</td>\n",
              "      <td>0</td>\n",
              "      <td>0</td>\n",
              "      <td>...</td>\n",
              "      <td>1.090946</td>\n",
              "      <td>0.961129</td>\n",
              "      <td>0.784905</td>\n",
              "      <td>1.036480</td>\n",
              "      <td>1.679602</td>\n",
              "      <td>-0.19442</td>\n",
              "      <td>-0.334169</td>\n",
              "      <td>-0.288714</td>\n",
              "      <td>0.009924</td>\n",
              "      <td>-0.678885</td>\n",
              "      <td>0.0</td>\n",
              "      <td>0.0</td>\n",
              "      <td>0.0</td>\n",
              "      <td>0.0</td>\n",
              "      <td>0.0</td>\n",
              "      <td>0.0</td>\n",
              "      <td>0.0</td>\n",
              "      <td>0.0</td>\n",
              "      <td>0.0</td>\n",
              "      <td>0.0</td>\n",
              "      <td>1.0</td>\n",
              "      <td>0.0</td>\n",
              "      <td>1.0</td>\n",
              "      <td>1.0</td>\n",
              "      <td>1.0</td>\n",
              "      <td>1.0</td>\n",
              "      <td>1.0</td>\n",
              "      <td>1.0</td>\n",
              "      <td>1.0</td>\n",
              "      <td>0.0</td>\n",
              "      <td>1.0</td>\n",
              "      <td>1.0</td>\n",
              "      <td>0.0</td>\n",
              "      <td>0.0</td>\n",
              "      <td>0.0</td>\n",
              "      <td>0.0</td>\n",
              "      <td>0.0</td>\n",
              "      <td>0.0</td>\n",
              "      <td>1.0</td>\n",
              "      <td>0.0</td>\n",
              "    </tr>\n",
              "    <tr>\n",
              "      <th>2</th>\n",
              "      <td>2258600</td>\n",
              "      <td>0</td>\n",
              "      <td>666.85</td>\n",
              "      <td>148.3</td>\n",
              "      <td>2</td>\n",
              "      <td>518.55</td>\n",
              "      <td>1</td>\n",
              "      <td>0.00</td>\n",
              "      <td>0</td>\n",
              "      <td>0</td>\n",
              "      <td>0</td>\n",
              "      <td>0.00</td>\n",
              "      <td>0</td>\n",
              "      <td>0</td>\n",
              "      <td>309.23</td>\n",
              "      <td>4</td>\n",
              "      <td>274.68</td>\n",
              "      <td>1</td>\n",
              "      <td>431.80</td>\n",
              "      <td>19</td>\n",
              "      <td>0.0</td>\n",
              "      <td>0</td>\n",
              "      <td>0.00</td>\n",
              "      <td>0</td>\n",
              "      <td>4</td>\n",
              "      <td>3</td>\n",
              "      <td>0</td>\n",
              "      <td>31</td>\n",
              "      <td>7</td>\n",
              "      <td>4</td>\n",
              "      <td>0</td>\n",
              "      <td>1</td>\n",
              "      <td>0</td>\n",
              "      <td>0</td>\n",
              "      <td>1</td>\n",
              "      <td>0</td>\n",
              "      <td>0</td>\n",
              "      <td>0</td>\n",
              "      <td>0</td>\n",
              "      <td>0</td>\n",
              "      <td>...</td>\n",
              "      <td>0.210292</td>\n",
              "      <td>-0.271152</td>\n",
              "      <td>-0.327495</td>\n",
              "      <td>-0.210106</td>\n",
              "      <td>0.115337</td>\n",
              "      <td>-0.19442</td>\n",
              "      <td>-0.334169</td>\n",
              "      <td>-0.311884</td>\n",
              "      <td>-0.528774</td>\n",
              "      <td>-0.340911</td>\n",
              "      <td>0.0</td>\n",
              "      <td>0.0</td>\n",
              "      <td>0.0</td>\n",
              "      <td>0.0</td>\n",
              "      <td>0.0</td>\n",
              "      <td>0.0</td>\n",
              "      <td>0.0</td>\n",
              "      <td>0.0</td>\n",
              "      <td>0.0</td>\n",
              "      <td>0.0</td>\n",
              "      <td>1.0</td>\n",
              "      <td>0.0</td>\n",
              "      <td>1.0</td>\n",
              "      <td>0.0</td>\n",
              "      <td>1.0</td>\n",
              "      <td>0.0</td>\n",
              "      <td>1.0</td>\n",
              "      <td>0.0</td>\n",
              "      <td>0.0</td>\n",
              "      <td>0.0</td>\n",
              "      <td>1.0</td>\n",
              "      <td>0.0</td>\n",
              "      <td>0.0</td>\n",
              "      <td>0.0</td>\n",
              "      <td>0.0</td>\n",
              "      <td>0.0</td>\n",
              "      <td>0.0</td>\n",
              "      <td>0.0</td>\n",
              "      <td>0.0</td>\n",
              "      <td>0.0</td>\n",
              "    </tr>\n",
              "    <tr>\n",
              "      <th>3</th>\n",
              "      <td>1512100</td>\n",
              "      <td>0</td>\n",
              "      <td>954.29</td>\n",
              "      <td>76.1</td>\n",
              "      <td>1</td>\n",
              "      <td>72.25</td>\n",
              "      <td>1</td>\n",
              "      <td>545.95</td>\n",
              "      <td>33</td>\n",
              "      <td>0</td>\n",
              "      <td>0</td>\n",
              "      <td>259.99</td>\n",
              "      <td>1</td>\n",
              "      <td>0</td>\n",
              "      <td>0.00</td>\n",
              "      <td>0</td>\n",
              "      <td>1227.12</td>\n",
              "      <td>5</td>\n",
              "      <td>0.00</td>\n",
              "      <td>0</td>\n",
              "      <td>0.0</td>\n",
              "      <td>0</td>\n",
              "      <td>0.00</td>\n",
              "      <td>0</td>\n",
              "      <td>4</td>\n",
              "      <td>2</td>\n",
              "      <td>0</td>\n",
              "      <td>36</td>\n",
              "      <td>7</td>\n",
              "      <td>4</td>\n",
              "      <td>1</td>\n",
              "      <td>0</td>\n",
              "      <td>0</td>\n",
              "      <td>0</td>\n",
              "      <td>0</td>\n",
              "      <td>0</td>\n",
              "      <td>0</td>\n",
              "      <td>0</td>\n",
              "      <td>0</td>\n",
              "      <td>0</td>\n",
              "      <td>...</td>\n",
              "      <td>-0.963914</td>\n",
              "      <td>1.231016</td>\n",
              "      <td>1.155705</td>\n",
              "      <td>-0.810224</td>\n",
              "      <td>-0.843405</td>\n",
              "      <td>-0.19442</td>\n",
              "      <td>-0.334169</td>\n",
              "      <td>-0.311884</td>\n",
              "      <td>-0.528774</td>\n",
              "      <td>-0.340911</td>\n",
              "      <td>0.0</td>\n",
              "      <td>0.0</td>\n",
              "      <td>0.0</td>\n",
              "      <td>0.0</td>\n",
              "      <td>0.0</td>\n",
              "      <td>0.0</td>\n",
              "      <td>0.0</td>\n",
              "      <td>0.0</td>\n",
              "      <td>0.0</td>\n",
              "      <td>0.0</td>\n",
              "      <td>1.0</td>\n",
              "      <td>0.0</td>\n",
              "      <td>0.0</td>\n",
              "      <td>0.0</td>\n",
              "      <td>1.0</td>\n",
              "      <td>0.0</td>\n",
              "      <td>1.0</td>\n",
              "      <td>1.0</td>\n",
              "      <td>1.0</td>\n",
              "      <td>1.0</td>\n",
              "      <td>0.0</td>\n",
              "      <td>0.0</td>\n",
              "      <td>0.0</td>\n",
              "      <td>0.0</td>\n",
              "      <td>0.0</td>\n",
              "      <td>0.0</td>\n",
              "      <td>1.0</td>\n",
              "      <td>0.0</td>\n",
              "      <td>0.0</td>\n",
              "      <td>0.0</td>\n",
              "    </tr>\n",
              "    <tr>\n",
              "      <th>4</th>\n",
              "      <td>123600</td>\n",
              "      <td>0</td>\n",
              "      <td>6315.04</td>\n",
              "      <td>631.8</td>\n",
              "      <td>9</td>\n",
              "      <td>72.25</td>\n",
              "      <td>1</td>\n",
              "      <td>2772.80</td>\n",
              "      <td>38</td>\n",
              "      <td>0</td>\n",
              "      <td>0</td>\n",
              "      <td>2838.19</td>\n",
              "      <td>22</td>\n",
              "      <td>0</td>\n",
              "      <td>1137.26</td>\n",
              "      <td>16</td>\n",
              "      <td>534.67</td>\n",
              "      <td>2</td>\n",
              "      <td>1640.66</td>\n",
              "      <td>53</td>\n",
              "      <td>0.0</td>\n",
              "      <td>0</td>\n",
              "      <td>2974.73</td>\n",
              "      <td>32</td>\n",
              "      <td>22</td>\n",
              "      <td>5</td>\n",
              "      <td>0</td>\n",
              "      <td>47</td>\n",
              "      <td>7</td>\n",
              "      <td>3</td>\n",
              "      <td>1</td>\n",
              "      <td>1</td>\n",
              "      <td>0</td>\n",
              "      <td>1</td>\n",
              "      <td>1</td>\n",
              "      <td>0</td>\n",
              "      <td>0</td>\n",
              "      <td>0</td>\n",
              "      <td>1</td>\n",
              "      <td>0</td>\n",
              "      <td>...</td>\n",
              "      <td>3.732908</td>\n",
              "      <td>0.138899</td>\n",
              "      <td>0.043305</td>\n",
              "      <td>1.469974</td>\n",
              "      <td>1.830983</td>\n",
              "      <td>-0.19442</td>\n",
              "      <td>-0.334169</td>\n",
              "      <td>1.608039</td>\n",
              "      <td>5.217333</td>\n",
              "      <td>1.686934</td>\n",
              "      <td>0.0</td>\n",
              "      <td>0.0</td>\n",
              "      <td>1.0</td>\n",
              "      <td>0.0</td>\n",
              "      <td>1.0</td>\n",
              "      <td>1.0</td>\n",
              "      <td>0.0</td>\n",
              "      <td>0.0</td>\n",
              "      <td>0.0</td>\n",
              "      <td>1.0</td>\n",
              "      <td>1.0</td>\n",
              "      <td>1.0</td>\n",
              "      <td>1.0</td>\n",
              "      <td>1.0</td>\n",
              "      <td>1.0</td>\n",
              "      <td>0.0</td>\n",
              "      <td>1.0</td>\n",
              "      <td>0.0</td>\n",
              "      <td>1.0</td>\n",
              "      <td>1.0</td>\n",
              "      <td>1.0</td>\n",
              "      <td>1.0</td>\n",
              "      <td>0.0</td>\n",
              "      <td>0.0</td>\n",
              "      <td>0.0</td>\n",
              "      <td>0.0</td>\n",
              "      <td>1.0</td>\n",
              "      <td>1.0</td>\n",
              "      <td>1.0</td>\n",
              "      <td>1.0</td>\n",
              "    </tr>\n",
              "  </tbody>\n",
              "</table>\n",
              "<p>5 rows × 126 columns</p>\n",
              "</div>"
            ],
            "text/plain": [
              "        id  ...  fez_>7_pos_13_Outpatient and Therapies QT\n",
              "0  3652800  ...                                        0.0\n",
              "1  3323500  ...                                        0.0\n",
              "2  2258600  ...                                        0.0\n",
              "3  1512100  ...                                        0.0\n",
              "4   123600  ...                                        1.0\n",
              "\n",
              "[5 rows x 126 columns]"
            ]
          },
          "metadata": {
            "tags": []
          },
          "execution_count": 9
        }
      ]
    },
    {
      "cell_type": "code",
      "metadata": {
        "id": "Ne0YnRQgCRpx",
        "colab_type": "code",
        "outputId": "94a5620b-1585-441e-e1d5-2e4ac2d71ec0",
        "colab": {
          "base_uri": "https://localhost:8080/",
          "height": 102
        }
      },
      "source": [
        "data.info()"
      ],
      "execution_count": 0,
      "outputs": [
        {
          "output_type": "stream",
          "text": [
            "<class 'pandas.core.frame.DataFrame'>\n",
            "RangeIndex: 959 entries, 0 to 958\n",
            "Columns: 126 entries, id to fez_>7_pos_13_Outpatient and Therapies QT\n",
            "dtypes: float64(62), int64(64)\n",
            "memory usage: 944.1 KB\n"
          ],
          "name": "stdout"
        }
      ]
    },
    {
      "cell_type": "code",
      "metadata": {
        "id": "qxXpCHgED24U",
        "colab_type": "code",
        "outputId": "d6fb5f74-9845-4275-faa6-7679db2d5199",
        "colab": {
          "base_uri": "https://localhost:8080/",
          "height": 34
        }
      },
      "source": [
        "data.shape"
      ],
      "execution_count": 0,
      "outputs": [
        {
          "output_type": "execute_result",
          "data": {
            "text/plain": [
              "(959, 126)"
            ]
          },
          "metadata": {
            "tags": []
          },
          "execution_count": 12
        }
      ]
    },
    {
      "cell_type": "code",
      "metadata": {
        "id": "iVVZkeVQEM7a",
        "colab_type": "code",
        "outputId": "e0f0845f-9e8b-4933-b2bd-3486a95557fa",
        "colab": {
          "base_uri": "https://localhost:8080/",
          "height": 221
        }
      },
      "source": [
        "data.filter(regex=(\"after.*.cost\")).sum(axis=1)"
      ],
      "execution_count": 0,
      "outputs": [
        {
          "output_type": "execute_result",
          "data": {
            "text/plain": [
              "0       2947.63\n",
              "1       3051.75\n",
              "2       1015.71\n",
              "3       1227.12\n",
              "4       6287.32\n",
              "         ...   \n",
              "954    76907.34\n",
              "955      347.57\n",
              "956    12150.25\n",
              "957     1631.09\n",
              "958    11240.67\n",
              "Length: 959, dtype: float64"
            ]
          },
          "metadata": {
            "tags": []
          },
          "execution_count": 19
        }
      ]
    },
    {
      "cell_type": "code",
      "metadata": {
        "id": "MTO9aJqsF29V",
        "colab_type": "code",
        "outputId": "7fc301d5-47b3-481d-bed3-60d48ce207fc",
        "colab": {
          "base_uri": "https://localhost:8080/",
          "height": 122
        }
      },
      "source": [
        "from google.colab import drive\n",
        "drive.mount('/content/drive')"
      ],
      "execution_count": 0,
      "outputs": [
        {
          "output_type": "stream",
          "text": [
            "Go to this URL in a browser: https://accounts.google.com/o/oauth2/auth?client_id=947318989803-6bn6qk8qdgf4n4g3pfee6491hc0brc4i.apps.googleusercontent.com&redirect_uri=urn%3aietf%3awg%3aoauth%3a2.0%3aoob&response_type=code&scope=email%20https%3a%2f%2fwww.googleapis.com%2fauth%2fdocs.test%20https%3a%2f%2fwww.googleapis.com%2fauth%2fdrive%20https%3a%2f%2fwww.googleapis.com%2fauth%2fdrive.photos.readonly%20https%3a%2f%2fwww.googleapis.com%2fauth%2fpeopleapi.readonly\n",
            "\n",
            "Enter your authorization code:\n",
            "··········\n",
            "Mounted at /content/drive\n"
          ],
          "name": "stdout"
        }
      ]
    },
    {
      "cell_type": "code",
      "metadata": {
        "id": "fAOBqAqnF5Df",
        "colab_type": "code",
        "outputId": "c5f0d16d-78e3-48cb-c7bb-6c0dba51771a",
        "colab": {
          "base_uri": "https://localhost:8080/",
          "height": 34
        }
      },
      "source": [
        "77 * 100"
      ],
      "execution_count": 0,
      "outputs": [
        {
          "output_type": "execute_result",
          "data": {
            "text/plain": [
              "7700"
            ]
          },
          "metadata": {
            "tags": []
          },
          "execution_count": 20
        }
      ]
    },
    {
      "cell_type": "code",
      "metadata": {
        "id": "nyogsTb9WDVE",
        "colab_type": "code",
        "colab": {}
      },
      "source": [
        ""
      ],
      "execution_count": 0,
      "outputs": []
    }
  ]
}