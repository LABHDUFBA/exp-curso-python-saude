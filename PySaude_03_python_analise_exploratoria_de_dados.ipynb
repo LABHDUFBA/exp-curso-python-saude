{
  "nbformat": 4,
  "nbformat_minor": 0,
  "metadata": {
    "colab": {
      "name": "PySaude_03_python_analise_exploratoria_de_dados.ipynb",
      "provenance": [],
      "toc_visible": true,
      "include_colab_link": true
    },
    "kernelspec": {
      "display_name": "Python 3",
      "language": "python",
      "name": "python3"
    },
    "language_info": {
      "codemirror_mode": {
        "name": "ipython",
        "version": 3
      },
      "file_extension": ".py",
      "mimetype": "text/x-python",
      "name": "python",
      "nbconvert_exporter": "python",
      "pygments_lexer": "ipython3",
      "version": "3.8.3"
    }
  },
  "cells": [
    {
      "cell_type": "markdown",
      "metadata": {
        "id": "view-in-github",
        "colab_type": "text"
      },
      "source": [
        "<a href=\"https://colab.research.google.com/github/zetta-health/exp-curso-python-saude/blob/master/PySaude_03_python_analise_exploratoria_de_dados.ipynb\" target=\"_parent\"><img src=\"https://colab.research.google.com/assets/colab-badge.svg\" alt=\"Open In Colab\"/></a>"
      ]
    },
    {
      "cell_type": "markdown",
      "metadata": {
        "colab_type": "text",
        "id": "Sympw-_Fo-k-"
      },
      "source": [
        " <a href=\"https://www.linkedin.com/company/zetta-health-analytics/\" align=\"center\"><img src=\"https://raw.githubusercontent.com/zetta-health/exp-curso-python-saude/master/assets/zetta-exp-logo.jpg\" width=\"400\" align=\"center\"></a>"
      ]
    },
    {
      "cell_type": "markdown",
      "metadata": {
        "colab_type": "text",
        "id": "F6DEQAupD9_G"
      },
      "source": [
        "# **Análise exploratória de dados**\n",
        "\n",
        "Já vencemos as etapas de conhecer e usar Colab do Google, Markdown e das noções introdutórias do Python. Parabéns!\n",
        "\n",
        "Agora é a hora de trabalharmos com dados reais da saúde suplementar! Fantástico, não? O banco de dados que iremos trabalhar é de uma amostra de 300 beneficiários (quem tem plano de saúde). Os dados aqui tem propósito de estudo e não devem ser usados para pesquisa.\n",
        "\n",
        "As 74 colunas possuem informações a respeito do uso de plano (custo e frequência) de 12 meses anteriores e posteriores a resposta de um questionário de auto-avaliação de risco e problemas de saúde. Cada linha representa um beneficiário.\n",
        "\n",
        "O dicionário da base de dados pode ser acessado neste [link](https://raw.githubusercontent.com/zetta-health/exp-curso-python-saude/master/data/data_dictionary.md). Vamos discutir mais sobre o banco de dados ao longo deste notebook.\n",
        "\n",
        "Ao trabalho!\n"
      ]
    },
    {
      "cell_type": "markdown",
      "metadata": {
        "colab_type": "text",
        "id": "OeOteGbVEC-2"
      },
      "source": [
        "## **1.Abrir banco de dados e avaliar estrutura**"
      ]
    },
    {
      "cell_type": "code",
      "metadata": {
        "colab_type": "code",
        "id": "BZzyUEj0BcAj",
        "colab": {}
      },
      "source": [
        "# Carregar bibliotecas para análise de dados\n",
        "import pandas as pd # Pandas\n",
        "import numpy as np  # Numpy"
      ],
      "execution_count": 0,
      "outputs": []
    },
    {
      "cell_type": "code",
      "metadata": {
        "colab_type": "code",
        "id": "WMS5zalRCijg",
        "colab": {}
      },
      "source": [
        "# Abrir banco de dados\n",
        "url = 'https://raw.githubusercontent.com/zetta-health/exp-curso-python-saude/master/data/sample_data.csv'\n",
        "data = pd.read_csv(url)"
      ],
      "execution_count": 0,
      "outputs": []
    },
    {
      "cell_type": "code",
      "metadata": {
        "colab_type": "code",
        "id": "dQ1HSk8VCfr_",
        "outputId": "3f39064b-1a2b-4a3a-d46a-65ba85c7689b",
        "colab": {
          "base_uri": "https://localhost:8080/",
          "height": 224
        }
      },
      "source": [
        "# Verificar os primeiros casos\n",
        "# do banco de dados\n",
        "data.head()"
      ],
      "execution_count": 0,
      "outputs": [
        {
          "output_type": "execute_result",
          "data": {
            "text/html": [
              "<div>\n",
              "<style scoped>\n",
              "    .dataframe tbody tr th:only-of-type {\n",
              "        vertical-align: middle;\n",
              "    }\n",
              "\n",
              "    .dataframe tbody tr th {\n",
              "        vertical-align: top;\n",
              "    }\n",
              "\n",
              "    .dataframe thead th {\n",
              "        text-align: right;\n",
              "    }\n",
              "</style>\n",
              "<table border=\"1\" class=\"dataframe\">\n",
              "  <thead>\n",
              "    <tr style=\"text-align: right;\">\n",
              "      <th></th>\n",
              "      <th>id</th>\n",
              "      <th>type</th>\n",
              "      <th>before.hra.12m.claims.total</th>\n",
              "      <th>before.hra.12m.elective.encounter.cost</th>\n",
              "      <th>before.hra.12m.elective.encounter.event</th>\n",
              "      <th>before.hra.12m.er.cost</th>\n",
              "      <th>before.hra.12m.er.event</th>\n",
              "      <th>before.hra.12m.exams.cost</th>\n",
              "      <th>before.hra.12m.exams.event</th>\n",
              "      <th>before.hra.12m.hospital.cost</th>\n",
              "      <th>...</th>\n",
              "      <th>beans.iron.risk</th>\n",
              "      <th>fruits.veggies</th>\n",
              "      <th>snacks</th>\n",
              "      <th>sugar.sweets</th>\n",
              "      <th>Integral.milk.risk</th>\n",
              "      <th>red.meat.risk</th>\n",
              "      <th>snack.time.risk</th>\n",
              "      <th>salt.risk</th>\n",
              "      <th>disease.risk.aggregated</th>\n",
              "      <th>total.risk</th>\n",
              "    </tr>\n",
              "  </thead>\n",
              "  <tbody>\n",
              "    <tr>\n",
              "      <th>0</th>\n",
              "      <td>1</td>\n",
              "      <td>0</td>\n",
              "      <td>76.16</td>\n",
              "      <td>0.0</td>\n",
              "      <td>0</td>\n",
              "      <td>76.16</td>\n",
              "      <td>1</td>\n",
              "      <td>0.00</td>\n",
              "      <td>0</td>\n",
              "      <td>0</td>\n",
              "      <td>...</td>\n",
              "      <td>0</td>\n",
              "      <td>1</td>\n",
              "      <td>0</td>\n",
              "      <td>1</td>\n",
              "      <td>1</td>\n",
              "      <td>1</td>\n",
              "      <td>0</td>\n",
              "      <td>0</td>\n",
              "      <td>1</td>\n",
              "      <td>7</td>\n",
              "    </tr>\n",
              "    <tr>\n",
              "      <th>1</th>\n",
              "      <td>2</td>\n",
              "      <td>0</td>\n",
              "      <td>0.00</td>\n",
              "      <td>0.0</td>\n",
              "      <td>0</td>\n",
              "      <td>0.00</td>\n",
              "      <td>0</td>\n",
              "      <td>0.00</td>\n",
              "      <td>0</td>\n",
              "      <td>0</td>\n",
              "      <td>...</td>\n",
              "      <td>0</td>\n",
              "      <td>1</td>\n",
              "      <td>0</td>\n",
              "      <td>0</td>\n",
              "      <td>0</td>\n",
              "      <td>0</td>\n",
              "      <td>0</td>\n",
              "      <td>0</td>\n",
              "      <td>1</td>\n",
              "      <td>5</td>\n",
              "    </tr>\n",
              "    <tr>\n",
              "      <th>2</th>\n",
              "      <td>3</td>\n",
              "      <td>0</td>\n",
              "      <td>2668.70</td>\n",
              "      <td>377.4</td>\n",
              "      <td>5</td>\n",
              "      <td>551.61</td>\n",
              "      <td>2</td>\n",
              "      <td>1187.06</td>\n",
              "      <td>44</td>\n",
              "      <td>0</td>\n",
              "      <td>...</td>\n",
              "      <td>0</td>\n",
              "      <td>1</td>\n",
              "      <td>0</td>\n",
              "      <td>0</td>\n",
              "      <td>1</td>\n",
              "      <td>0</td>\n",
              "      <td>0</td>\n",
              "      <td>0</td>\n",
              "      <td>0</td>\n",
              "      <td>3</td>\n",
              "    </tr>\n",
              "    <tr>\n",
              "      <th>3</th>\n",
              "      <td>4</td>\n",
              "      <td>0</td>\n",
              "      <td>605.97</td>\n",
              "      <td>228.3</td>\n",
              "      <td>3</td>\n",
              "      <td>0.00</td>\n",
              "      <td>0</td>\n",
              "      <td>303.74</td>\n",
              "      <td>9</td>\n",
              "      <td>0</td>\n",
              "      <td>...</td>\n",
              "      <td>0</td>\n",
              "      <td>1</td>\n",
              "      <td>0</td>\n",
              "      <td>0</td>\n",
              "      <td>0</td>\n",
              "      <td>0</td>\n",
              "      <td>0</td>\n",
              "      <td>0</td>\n",
              "      <td>1</td>\n",
              "      <td>3</td>\n",
              "    </tr>\n",
              "    <tr>\n",
              "      <th>4</th>\n",
              "      <td>5</td>\n",
              "      <td>0</td>\n",
              "      <td>226.90</td>\n",
              "      <td>72.2</td>\n",
              "      <td>1</td>\n",
              "      <td>103.13</td>\n",
              "      <td>1</td>\n",
              "      <td>51.57</td>\n",
              "      <td>3</td>\n",
              "      <td>0</td>\n",
              "      <td>...</td>\n",
              "      <td>0</td>\n",
              "      <td>1</td>\n",
              "      <td>1</td>\n",
              "      <td>1</td>\n",
              "      <td>1</td>\n",
              "      <td>0</td>\n",
              "      <td>1</td>\n",
              "      <td>0</td>\n",
              "      <td>1</td>\n",
              "      <td>7</td>\n",
              "    </tr>\n",
              "  </tbody>\n",
              "</table>\n",
              "<p>5 rows × 74 columns</p>\n",
              "</div>"
            ],
            "text/plain": [
              "   id  type  before.hra.12m.claims.total  \\\n",
              "0   1     0                        76.16   \n",
              "1   2     0                         0.00   \n",
              "2   3     0                      2668.70   \n",
              "3   4     0                       605.97   \n",
              "4   5     0                       226.90   \n",
              "\n",
              "   before.hra.12m.elective.encounter.cost  \\\n",
              "0                                     0.0   \n",
              "1                                     0.0   \n",
              "2                                   377.4   \n",
              "3                                   228.3   \n",
              "4                                    72.2   \n",
              "\n",
              "   before.hra.12m.elective.encounter.event  before.hra.12m.er.cost  \\\n",
              "0                                        0                   76.16   \n",
              "1                                        0                    0.00   \n",
              "2                                        5                  551.61   \n",
              "3                                        3                    0.00   \n",
              "4                                        1                  103.13   \n",
              "\n",
              "   before.hra.12m.er.event  before.hra.12m.exams.cost  \\\n",
              "0                        1                       0.00   \n",
              "1                        0                       0.00   \n",
              "2                        2                    1187.06   \n",
              "3                        0                     303.74   \n",
              "4                        1                      51.57   \n",
              "\n",
              "   before.hra.12m.exams.event  before.hra.12m.hospital.cost  ...  \\\n",
              "0                           0                             0  ...   \n",
              "1                           0                             0  ...   \n",
              "2                          44                             0  ...   \n",
              "3                           9                             0  ...   \n",
              "4                           3                             0  ...   \n",
              "\n",
              "   beans.iron.risk  fruits.veggies  snacks  sugar.sweets  Integral.milk.risk  \\\n",
              "0                0               1       0             1                   1   \n",
              "1                0               1       0             0                   0   \n",
              "2                0               1       0             0                   1   \n",
              "3                0               1       0             0                   0   \n",
              "4                0               1       1             1                   1   \n",
              "\n",
              "   red.meat.risk  snack.time.risk  salt.risk  disease.risk.aggregated  \\\n",
              "0              1                0          0                        1   \n",
              "1              0                0          0                        1   \n",
              "2              0                0          0                        0   \n",
              "3              0                0          0                        1   \n",
              "4              0                1          0                        1   \n",
              "\n",
              "   total.risk  \n",
              "0           7  \n",
              "1           5  \n",
              "2           3  \n",
              "3           3  \n",
              "4           7  \n",
              "\n",
              "[5 rows x 74 columns]"
            ]
          },
          "metadata": {
            "tags": []
          },
          "execution_count": 3
        }
      ]
    },
    {
      "cell_type": "code",
      "metadata": {
        "colab_type": "code",
        "id": "Ne0YnRQgCRpx",
        "outputId": "cab9989c-b075-4208-99a6-d0c80b13947b",
        "colab": {
          "base_uri": "https://localhost:8080/",
          "height": 1000
        }
      },
      "source": [
        "# Obter informações sobre os tipos de variáveis\n",
        "# do banco de dados\n",
        "data.info()"
      ],
      "execution_count": 0,
      "outputs": [
        {
          "output_type": "stream",
          "text": [
            "<class 'pandas.core.frame.DataFrame'>\n",
            "RangeIndex: 300 entries, 0 to 299\n",
            "Data columns (total 74 columns):\n",
            " #   Column                                   Non-Null Count  Dtype  \n",
            "---  ------                                   --------------  -----  \n",
            " 0   id                                       300 non-null    int64  \n",
            " 1   type                                     300 non-null    int64  \n",
            " 2   before.hra.12m.claims.total              300 non-null    float64\n",
            " 3   before.hra.12m.elective.encounter.cost   300 non-null    float64\n",
            " 4   before.hra.12m.elective.encounter.event  300 non-null    int64  \n",
            " 5   before.hra.12m.er.cost                   300 non-null    float64\n",
            " 6   before.hra.12m.er.event                  300 non-null    int64  \n",
            " 7   before.hra.12m.exams.cost                300 non-null    float64\n",
            " 8   before.hra.12m.exams.event               300 non-null    int64  \n",
            " 9   before.hra.12m.hospital.cost             300 non-null    int64  \n",
            " 10  before.hra.12m.hospital.events           300 non-null    int64  \n",
            " 11  before.hra.12m.outpatient.cost           300 non-null    float64\n",
            " 12  before.hra.12m.outpatient.events         300 non-null    int64  \n",
            " 13  after.hra.12m.claims.total               300 non-null    int64  \n",
            " 14  after.hra.12m.elective.encounter.cost    300 non-null    float64\n",
            " 15  after.hra.12m.elective.encounter.event   300 non-null    int64  \n",
            " 16  after.hra.12m.er.cost                    300 non-null    float64\n",
            " 17  after.hra.12m.er.event                   300 non-null    int64  \n",
            " 18  after.hra.12m.exams.cost                 300 non-null    float64\n",
            " 19  after.hra.12m.exams.event                300 non-null    int64  \n",
            " 20  after.hra.12m.hospital.cost              300 non-null    float64\n",
            " 21  after.hra.12m.hospital.events            300 non-null    int64  \n",
            " 22  after.hra.12m.outpatient.cost            300 non-null    float64\n",
            " 23  after.hra.12m.outpatient.events          300 non-null    int64  \n",
            " 24  time.on.company                          300 non-null    int64  \n",
            " 25  risk.factors.sum                         300 non-null    int64  \n",
            " 26  gender                                   300 non-null    int64  \n",
            " 27  age                                      300 non-null    int64  \n",
            " 28  educational.level                        300 non-null    int64  \n",
            " 29  househood.members                        300 non-null    int64  \n",
            " 30  asthma.bronquitis.emphysema              300 non-null    int64  \n",
            " 31  allergies                                300 non-null    int64  \n",
            " 32  migraine.headache                        300 non-null    int64  \n",
            " 33  insomnia                                 300 non-null    int64  \n",
            " 34  rhinitis.sinusitis                       300 non-null    int64  \n",
            " 35  colestherol                              300 non-null    int64  \n",
            " 36  dyslipidemia                             300 non-null    int64  \n",
            " 37  diabetes                                 300 non-null    int64  \n",
            " 38  thyroid                                  300 non-null    int64  \n",
            " 39  hepatitis                                300 non-null    int64  \n",
            " 40  blood.pressure                           300 non-null    int64  \n",
            " 41  heart.conditions                         300 non-null    int64  \n",
            " 42  stroke                                   300 non-null    int64  \n",
            " 43  ms                                       300 non-null    int64  \n",
            " 44  kidney                                   300 non-null    int64  \n",
            " 45  gastritits                               300 non-null    int64  \n",
            " 46  bowelsyndrome                            300 non-null    int64  \n",
            " 47  rheumatism                               300 non-null    int64  \n",
            " 48  low.back.pain                            300 non-null    int64  \n",
            " 49  back.pain                                300 non-null    int64  \n",
            " 50  osteoporosis                             300 non-null    int64  \n",
            " 51  cancer                                   300 non-null    int64  \n",
            " 52  anxietydisorders                         300 non-null    int64  \n",
            " 53  depression                               300 non-null    int64  \n",
            " 54  othermentalcondition                     300 non-null    int64  \n",
            " 55  stds                                     300 non-null    int64  \n",
            " 56  hiv                                      300 non-null    int64  \n",
            " 57  sedentary.lifestyle                      300 non-null    int64  \n",
            " 58  n.risk.health.risk.factors               300 non-null    int64  \n",
            " 59  risk.alcoholism                          300 non-null    int64  \n",
            " 60  mental.health.risk                       300 non-null    int64  \n",
            " 61  weight.risk                              300 non-null    int64  \n",
            " 62  smoking.risk                             300 non-null    int64  \n",
            " 63  orthopedic.risk                          300 non-null    int64  \n",
            " 64  beans.iron.risk                          300 non-null    int64  \n",
            " 65  fruits.veggies                           300 non-null    int64  \n",
            " 66  snacks                                   300 non-null    int64  \n",
            " 67  sugar.sweets                             300 non-null    int64  \n",
            " 68  Integral.milk.risk                       300 non-null    int64  \n",
            " 69  red.meat.risk                            300 non-null    int64  \n",
            " 70  snack.time.risk                          300 non-null    int64  \n",
            " 71  salt.risk                                300 non-null    int64  \n",
            " 72  disease.risk.aggregated                  300 non-null    int64  \n",
            " 73  total.risk                               300 non-null    int64  \n",
            "dtypes: float64(10), int64(64)\n",
            "memory usage: 173.6 KB\n"
          ],
          "name": "stdout"
        }
      ]
    },
    {
      "cell_type": "markdown",
      "metadata": {
        "colab_type": "text",
        "id": "P5gKUB098pfr"
      },
      "source": [
        "## **2.Validação dos dados**\n",
        "\n",
        "Antes de qualquer análise de dados, precisamos validar a integridade dos dados que recebemos. Esta é uma etapa crucial e precisa sempre ser feita de acordo com manuais de boas práticas. A dura experiência nos mostrou isso também.\n",
        "\n",
        "Como fazer o teste? Verifique se seus dados possuem respostas faltantes, se as colunas estão com os tipos de dados adequados. Nós não esgotaremos os testes aqui, mas recomendamos que os dados sejam validados por inúmeros testes e que uma crítica dos dados seja entregue junto com os resultados das análises."
      ]
    },
    {
      "cell_type": "code",
      "metadata": {
        "colab_type": "code",
        "id": "qxXpCHgED24U",
        "outputId": "97b87951-ee70-4b12-9d21-d25b588a9c6f",
        "colab": {
          "base_uri": "https://localhost:8080/",
          "height": 170
        }
      },
      "source": [
        "# Validação:\n",
        "\n",
        "# Teste dos dados 1. Verificar se as variáveis de custo separadas por \n",
        "# CETIPO estão somadas corretamente na variável 'before.hra.12m.claims.total'\n",
        "# C - Consultas      - before.hra.12m.elective.encounter.cost\n",
        "# E - Exames         - before.hra.12m.exams.cost\n",
        "# T - Terapias       - before.hra.12m.er.cost\n",
        "# I - Internação     - before.hra.12m.hospital.cost\n",
        "# P - Procedimentos  - Não foi registrado na base.\n",
        "# O - Outros         - before.hra.12m.outpatient.cost \n",
        "\n",
        "(data.filter(regex=(\"before.*cost\")).sum(axis=1) - data['before.hra.12m.claims.total']).describe()"
      ],
      "execution_count": 0,
      "outputs": [
        {
          "output_type": "execute_result",
          "data": {
            "text/plain": [
              "count    300.000000\n",
              "mean      -0.011167\n",
              "std        0.100252\n",
              "min       -0.470000\n",
              "25%        0.000000\n",
              "50%        0.000000\n",
              "75%        0.000000\n",
              "max        0.500000\n",
              "dtype: float64"
            ]
          },
          "metadata": {
            "tags": []
          },
          "execution_count": 5
        }
      ]
    },
    {
      "cell_type": "markdown",
      "metadata": {
        "colab_type": "text",
        "id": "RX3Y1MBw-Kax"
      },
      "source": [
        "**Conclusões**: A diferença entre a coluna com a soma das variáveis com de custo anteriores a entrevista de avaliação de risco é mínima. Muito provavelmente ligada a forma com que os arredondamentos foram trabalhados no programa do analista (não vamos condená-lo por usar o Excel) e no Python. "
      ]
    },
    {
      "cell_type": "code",
      "metadata": {
        "colab_type": "code",
        "id": "iVVZkeVQEM7a",
        "colab": {}
      },
      "source": [
        "# Teste dos dados 2. Verificar se as variáveis de custo separadas por \n",
        "# CETIPO estão somadas corretamente na variável 'after.hra.12m.claims.total'\n",
        "# C - Consultas      - after.hra.12m.elective.encounter.cost\n",
        "# E - Exames         - after.hra.12m.exams.cost\n",
        "# T - Terapias       - after.hra.12m.er.cost\n",
        "# I - Internação     - after.hra.12m.hospital.cost\n",
        "# P - Procedimentos  - Não foi registrado na base.\n",
        "# O - Outros         - after.hra.12m.outpatient.cost \n",
        "\n",
        "# Agora é com você. Verifique se a soma está correta e defina quais serão \n",
        "# os próximos passos da análise\n",
        "\n",
        "# Seu código aqui:"
      ],
      "execution_count": 0,
      "outputs": []
    },
    {
      "cell_type": "markdown",
      "metadata": {
        "colab_type": "text",
        "id": "IRVH_x0oB80i"
      },
      "source": [
        "**Clique aqui para ver a resposta**\n",
        "\n",
        "<!-- \n",
        "```python\n",
        "(data.filter(regex=(\"after.*.cost\")).sum(axis=1) - data['after.hra.12m.claims.total']).describe()\n",
        "```\n",
        "Alguma coisa está errada porque a diferença das duas colunas está longe de ser zero. Se inspecionarmos a coluna 'after.hra.12m.claims.total', verificaremos que  todos os valores estão zerados. Erro do planilheiro do Excel.\n",
        "\n",
        "```python\n",
        "data['after.hra.12m.claims.total']).describe()\n",
        "```\n",
        "\n",
        "Assim, precisaremos criar uma nova variável no banco com os valores corretos.\n",
        "\n",
        "```\n",
        "data['after.hra.12m.claims.total.r'] = data.filter(regex=(\"after.*.cost\")).sum(axis=1)\n",
        "```\n",
        "-->"
      ]
    },
    {
      "cell_type": "markdown",
      "metadata": {
        "colab_type": "text",
        "id": "-M611oVqoz3R"
      },
      "source": [
        "## **3.Níveis de medida**\n",
        "\n",
        "## Escalas de medida não-métrica\n",
        "\n",
        "Medidas que descrevem diferenças em tipo ou natureza, indicando a presença ou ausência de uma característica ou propriedade.\n",
        "\n",
        "O analista não pode realizar nenhuma operação aritmética (somas, médias, multiplicações, divisões etc.), tornando assim todos os dados não-métricos bastante limitados em seu uso na estimação de coeficientes do modelo. \n",
        "\n",
        "### Escalas nominais\n",
        "\n",
        "Uma escala nominal designa números para rotular ou identificar indivíduos ou objetos.\n",
        "\n",
        "Dados nominais representam somente categorias ou classes, e não implicam quantias de um atributo ou característica. Exemplos frequentemente usados de dados nominalmente escalonados incluem diversos **atributos demográficos (como sexo, religião, ocupação ou filiação partidária)**, muitas formas de comportamento (como comportamento de voto ou atividade de compra), **ou qualquer outra ação que seja discreta (que acontece ou não)**.\n",
        "\n",
        "### Escalas ordinais\n",
        "\n",
        "Escalas ordinais são o próximo nível “superior” de precisão em medida. No caso de escalas ordinais, variáveis **podem ser ordenadas ou ranqueadas** em relação à quantia do atributo possuída. Todo **indivíduo ou objeto pode ser comparado com outro em termos de uma relação da forma “maior que” ou “menor que”**. Os números empregados em escalas ordinais, contudo, são realmente não-quantitativos porque eles indicam apenas posições relativas em uma série ordenada. **Escalas ordinais não fornecem qualquer medida da quantia ou magnitude real em termos absolutos**, mas apenas a ordem dos valores. O pesquisador conhece a ordem, mas não a quantia de diferença entre os valores.\n",
        "\n",
        "<br>\n",
        "<br>\n",
        "<hr>"
      ]
    },
    {
      "cell_type": "markdown",
      "metadata": {
        "colab_type": "text",
        "id": "OR9RAfXjCh7Q"
      },
      "source": [
        "## **4.Plano de análise**\n",
        "\n",
        "Toda análise exploratória precisa começar com algumas perguntas que podem ser respondidas pelos dados.\n",
        "\n",
        "### Descrição dos dados sociodemográficos\n",
        "Primeiro, iremos descrever o perfil de nossa amostra com as seguintes perguntas:\n",
        "\n",
        "1. Qual a distribuição de sexo (variável 'gender') da amostra?\n",
        "2. Qual a distribuição de idade (variável 'age') da amostra?\n",
        "3. Qual a distribuição do tipo de beneficiário (variável 'type') na amostra?\n",
        "4. Qual o nível socioeducacional dos participantes da amostra (variável 'educational.level')?\n",
        "\n",
        "Fique a vontade para explorar os dados também.\n",
        "\n",
        "\n"
      ]
    },
    {
      "cell_type": "markdown",
      "metadata": {
        "colab_type": "text",
        "id": "kVTHMCVoJ96i"
      },
      "source": [
        "**01. Qual a distribuição de sexo (variável 'gender') da amostra?**"
      ]
    },
    {
      "cell_type": "code",
      "metadata": {
        "colab_type": "code",
        "id": "MOO_x04JGY7D",
        "outputId": "61811c21-e6a9-44d5-9431-3cae33307a1c",
        "colab": {
          "base_uri": "https://localhost:8080/",
          "height": 68
        }
      },
      "source": [
        "# 1.a Qual a distribuição de sexo (variável 'gender') da amostra?\n",
        "\n",
        "# Antes de fazer a conta, vamos mapear e recodificar as variáveis para\n",
        "# facilitar a interpretação da tabela.\n",
        "data['gender_r'] = data['gender'].map({0: 'female', 1: 'male'})\n",
        "data['gender_r'].value_counts()"
      ],
      "execution_count": 0,
      "outputs": [
        {
          "output_type": "execute_result",
          "data": {
            "text/plain": [
              "female    223\n",
              "male       77\n",
              "Name: gender_r, dtype: int64"
            ]
          },
          "metadata": {
            "tags": []
          },
          "execution_count": 7
        }
      ]
    },
    {
      "cell_type": "code",
      "metadata": {
        "colab_type": "code",
        "id": "Ur5WLlW9HmAD",
        "outputId": "0322d7bd-1a45-4ba7-e578-e4d6d6043580",
        "colab": {
          "base_uri": "https://localhost:8080/",
          "height": 68
        }
      },
      "source": [
        "# 1.b Que tal calcular as porcentagens em vez dos números brutos?\n",
        "\n",
        "# Simples, é só usar o parâmetro 'normalize' do método value_counts()\n",
        "data['gender_r'].value_counts(normalize=True)"
      ],
      "execution_count": 0,
      "outputs": [
        {
          "output_type": "execute_result",
          "data": {
            "text/plain": [
              "female    0.743333\n",
              "male      0.256667\n",
              "Name: gender_r, dtype: float64"
            ]
          },
          "metadata": {
            "tags": []
          },
          "execution_count": 8
        }
      ]
    },
    {
      "cell_type": "code",
      "metadata": {
        "colab_type": "code",
        "id": "WFqxMrUQr9dH",
        "outputId": "e6a29b2d-40b4-4eba-9f51-e510b72ab7bd",
        "colab": {
          "base_uri": "https://localhost:8080/",
          "height": 306
        }
      },
      "source": [
        "# Podemos visualizar melhor essa distribuição em um gráfico de barras.\n",
        "import matplotlib.pyplot as plt\n",
        "\n",
        "# Com o parâmetro 'kind' da função plot() você define o tipo do gráfico.\n",
        "data['gender_r'].value_counts(normalize=True).plot(kind='bar')\n",
        "\n",
        "plt.title('Distribuição de Sexo em Porcentagem')\n",
        "plt.show()"
      ],
      "execution_count": 0,
      "outputs": [
        {
          "output_type": "display_data",
          "data": {
            "image/png": "[encoded data removed]",
            "text/plain": [
              "<Figure size 432x288 with 1 Axes>"
            ]
          },
          "metadata": {
            "tags": [],
            "needs_background": "light"
          }
        }
      ]
    },
    {
      "cell_type": "markdown",
      "metadata": {
        "colab_type": "text",
        "id": "TItaAleBpJQ-"
      },
      "source": [
        "### **A. Descrição das características de saúde**\n",
        "\n",
        "1. Quantas pessoas não fizeram uso do plano de saúde nos 12 meses que antecederam a pesquisa?\n",
        "2. Existem diferenças em condições de saúde (variáveis entre 'asthma.bronquitis.emphysema' e 'hiv') na vida entre aqueles que usaram o plano de saúde e aqueles que não fizeram uso do plano de saúde nos 12 meses que antecederam a pesquisa?  \n",
        "    a. Criar uma variável (coluna) para classificar pessoas que não fizeram uso do plano de saúde nos 12 meses que antecederam a pesquisa.  \n",
        "    b. Avaliar a diferença para uma condição de saúde 'asthma.bronquitis.emphysema'  \n",
        "  c. Fazer para todas as variáveis entre 'asthma.bronquitis.emphysema' e 'hiv'\n",
        "\n"
      ]
    },
    {
      "cell_type": "markdown",
      "metadata": {
        "colab_type": "text",
        "id": "N4na4DvVzVGT"
      },
      "source": [
        "**01. Quantas pessoas não fizeram uso do plano de saúde nos 12 meses que antecederam a pesquisa?**"
      ]
    },
    {
      "cell_type": "code",
      "metadata": {
        "colab_type": "code",
        "id": "lqwHFPEHzZ0Q",
        "outputId": "9495bcbe-dc5c-4aeb-cc39-9a065612f81c",
        "colab": {
          "base_uri": "https://localhost:8080/",
          "height": 68
        }
      },
      "source": [
        "data['has_used_prior_ha'] = np.where(data['before.hra.12m.claims.total'] > 0,\n",
        "                                     'Yes', 'No')\n",
        "                                     \n",
        "data['has_used_prior_ha'].value_counts()"
      ],
      "execution_count": 0,
      "outputs": [
        {
          "output_type": "execute_result",
          "data": {
            "text/plain": [
              "Yes    249\n",
              "No      51\n",
              "Name: has_used_prior_ha, dtype: int64"
            ]
          },
          "metadata": {
            "tags": []
          },
          "execution_count": 10
        }
      ]
    },
    {
      "cell_type": "markdown",
      "metadata": {
        "colab_type": "text",
        "id": "hn7V-Rbfz2zX"
      },
      "source": [
        "**02. Existem diferenças em condições de saúde (variáveis entre 'asthma.bronquitis.emphysema' e 'hiv') na vida entre aqueles que usaram o plano de saúde e aqueles que não fizeram uso do plano de saúde nos 12 meses que antecederam a pesquisa?** "
      ]
    },
    {
      "cell_type": "code",
      "metadata": {
        "colab_type": "code",
        "id": "Ifj8apU50DQO",
        "outputId": "37722a46-42f7-4d5d-a7eb-3dbe46c2971e",
        "colab": {
          "base_uri": "https://localhost:8080/",
          "height": 142
        }
      },
      "source": [
        "# 2a.  Resolvido na célula de código acima. :)\n",
        "# 2b.  Avaliar 'asthma.bronquitis.emphysema'\n",
        "# 2b1. Tabela de frequência\n",
        "pd.crosstab(data['asthma.bronquitis.emphysema'], data['has_used_prior_ha'])"
      ],
      "execution_count": 0,
      "outputs": [
        {
          "output_type": "execute_result",
          "data": {
            "text/html": [
              "<div>\n",
              "<style scoped>\n",
              "    .dataframe tbody tr th:only-of-type {\n",
              "        vertical-align: middle;\n",
              "    }\n",
              "\n",
              "    .dataframe tbody tr th {\n",
              "        vertical-align: top;\n",
              "    }\n",
              "\n",
              "    .dataframe thead th {\n",
              "        text-align: right;\n",
              "    }\n",
              "</style>\n",
              "<table border=\"1\" class=\"dataframe\">\n",
              "  <thead>\n",
              "    <tr style=\"text-align: right;\">\n",
              "      <th>has_used_prior_ha</th>\n",
              "      <th>No</th>\n",
              "      <th>Yes</th>\n",
              "    </tr>\n",
              "    <tr>\n",
              "      <th>asthma.bronquitis.emphysema</th>\n",
              "      <th></th>\n",
              "      <th></th>\n",
              "    </tr>\n",
              "  </thead>\n",
              "  <tbody>\n",
              "    <tr>\n",
              "      <th>0</th>\n",
              "      <td>43</td>\n",
              "      <td>228</td>\n",
              "    </tr>\n",
              "    <tr>\n",
              "      <th>1</th>\n",
              "      <td>8</td>\n",
              "      <td>21</td>\n",
              "    </tr>\n",
              "  </tbody>\n",
              "</table>\n",
              "</div>"
            ],
            "text/plain": [
              "has_used_prior_ha            No  Yes\n",
              "asthma.bronquitis.emphysema         \n",
              "0                            43  228\n",
              "1                             8   21"
            ]
          },
          "metadata": {
            "tags": []
          },
          "execution_count": 11
        }
      ]
    },
    {
      "cell_type": "code",
      "metadata": {
        "colab_type": "code",
        "id": "Pb0zEEv_6JZl",
        "outputId": "71b62498-e2c2-4392-ff36-bde4a41bd7fe",
        "colab": {
          "base_uri": "https://localhost:8080/",
          "height": 142
        }
      },
      "source": [
        "# 2b2. Tabela de frequência com porcentagens\n",
        "pd.crosstab(data['asthma.bronquitis.emphysema'], data['has_used_prior_ha'],  \n",
        "            normalize='columns').round(3) * 100"
      ],
      "execution_count": 0,
      "outputs": [
        {
          "output_type": "execute_result",
          "data": {
            "text/html": [
              "<div>\n",
              "<style scoped>\n",
              "    .dataframe tbody tr th:only-of-type {\n",
              "        vertical-align: middle;\n",
              "    }\n",
              "\n",
              "    .dataframe tbody tr th {\n",
              "        vertical-align: top;\n",
              "    }\n",
              "\n",
              "    .dataframe thead th {\n",
              "        text-align: right;\n",
              "    }\n",
              "</style>\n",
              "<table border=\"1\" class=\"dataframe\">\n",
              "  <thead>\n",
              "    <tr style=\"text-align: right;\">\n",
              "      <th>has_used_prior_ha</th>\n",
              "      <th>No</th>\n",
              "      <th>Yes</th>\n",
              "    </tr>\n",
              "    <tr>\n",
              "      <th>asthma.bronquitis.emphysema</th>\n",
              "      <th></th>\n",
              "      <th></th>\n",
              "    </tr>\n",
              "  </thead>\n",
              "  <tbody>\n",
              "    <tr>\n",
              "      <th>0</th>\n",
              "      <td>84.3</td>\n",
              "      <td>91.6</td>\n",
              "    </tr>\n",
              "    <tr>\n",
              "      <th>1</th>\n",
              "      <td>15.7</td>\n",
              "      <td>8.4</td>\n",
              "    </tr>\n",
              "  </tbody>\n",
              "</table>\n",
              "</div>"
            ],
            "text/plain": [
              "has_used_prior_ha              No   Yes\n",
              "asthma.bronquitis.emphysema            \n",
              "0                            84.3  91.6\n",
              "1                            15.7   8.4"
            ]
          },
          "metadata": {
            "tags": []
          },
          "execution_count": 12
        }
      ]
    },
    {
      "cell_type": "markdown",
      "metadata": {
        "colab_type": "text",
        "id": "3K9ew_sjd2yf"
      },
      "source": [
        "Esta última letra é a mais repetitiva de todas. Você poderia repetir os passos acima para todas as variáveis. Repetir tem dois pontos negativos: repetição de código e tamanho do notebook.\n",
        "\n",
        "De maneira geral, toda vez que você começar a repetir um código de análise, pense se seria melhor usar seus superpoderes de programação já aprendidos. \n",
        "\n",
        "É uma ótima hora para colocar à prova nossos nossos conhecimentos de python. Vamos lá!"
      ]
    },
    {
      "cell_type": "code",
      "metadata": {
        "colab_type": "code",
        "id": "IB0Jzmy964L5",
        "outputId": "fd7599db-a8b0-4af1-c0a9-c31cf79076ac",
        "colab": {
          "base_uri": "https://localhost:8080/",
          "height": 68
        }
      },
      "source": [
        "# 2.. Combinar Múltiplas tabelas\n",
        "# Primeiro, vamos criar uma função que retorna um dicionário com algumas\n",
        "# informações da função crosstab do pandas. Depois iremos combiná-las \n",
        "# em num dicionário que possui o nome da coluna, informações em números\n",
        "# absolutos e percentagens combinadas. Caso não exista nenhuma pessoa por\n",
        "# condição de saúde iremos retornar um dicionário com 0 casos.\n",
        "\n",
        "def create_table_row(col_name):\n",
        "  # Criar tabelas de frequência e percentagens para uma dada \n",
        "  # coluna 'col_name'.\n",
        "  table_freq = pd.crosstab(data[col_name], data['has_used_prior_ha'])\n",
        "  table_perc = pd.crosstab(data[col_name], data['has_used_prior_ha'],  \n",
        "                          normalize='columns').round(3) * 100\n",
        "  try:\n",
        "    # Selecionar trechos das tabelas e combiná-los no dicionário.\n",
        "    my_dict = {'condicao_de_saude': col_name + ' [Yes]', \n",
        "              'usou_plano': str(table_perc.T.loc['Yes'][1].round(1)) + \n",
        "              ' (' + str(table_freq.T.loc['Yes'][1]) + ')',\n",
        "              'nao_usou_plano': str(table_perc.T.loc['No'][1].round(1)) + \n",
        "              ' (' + str(table_freq.T.loc['No'][1]) + ')'}\n",
        "  except:\n",
        "    # Se os trechos tiverem zero, retornar dicionário com zero.\n",
        "    my_dict = {'condicao_de_saude': col_name + ' [Yes]', \n",
        "              'usou_plano': str(0),\n",
        "              'nao_usou_plano': str(0)}\n",
        "  \n",
        "  return my_dict\n",
        "\n",
        "# Testar para uma condição de saúde\n",
        "create_table_row('asthma.bronquitis.emphysema')"
      ],
      "execution_count": 0,
      "outputs": [
        {
          "output_type": "execute_result",
          "data": {
            "text/plain": [
              "{'condicao_de_saude': 'asthma.bronquitis.emphysema [Yes]',\n",
              " 'usou_plano': '8.4 (21)',\n",
              " 'nao_usou_plano': '15.7 (8)'}"
            ]
          },
          "metadata": {
            "tags": []
          },
          "execution_count": 13
        }
      ]
    },
    {
      "cell_type": "markdown",
      "metadata": {
        "colab_type": "text",
        "id": "pcBut_g-f9X_"
      },
      "source": [
        "Wow! Criamos uma função que retorna um dicionário para uma dada coluna do banco de dados (DataFrame do pandas). Hora de fazer para todas colunas de uma vez usando um loop."
      ]
    },
    {
      "cell_type": "code",
      "metadata": {
        "colab_type": "code",
        "id": "hwwJnlTx-7OE",
        "outputId": "f9022377-238c-457e-fa77-dc826641b076",
        "colab": {
          "base_uri": "https://localhost:8080/",
          "height": 886
        }
      },
      "source": [
        "# Primeiro vamos criar uma lista vazia e adicionar os dicionários com valores \n",
        "# para cada coluna usando as colunas. As colunas sobre presença de risco estão\n",
        "# entre os índices 30 a 56. Como os slices no python são não inclusivos, \n",
        "# iremos até 57.\n",
        "list_of_rows = []                                   # 1.Cria lista vazia\n",
        "for row in data.columns[30:57]:                     # 2.Cria iteração para colunas\n",
        "  list_of_rows.append(create_table_row(row))        # 3.Adiciona dicionário à lista\n",
        "final_df = pd.DataFrame(list_of_rows)               # 4.Converte lista de dicionários\n",
        "final_df                                            #   em lista."
      ],
      "execution_count": 0,
      "outputs": [
        {
          "output_type": "execute_result",
          "data": {
            "text/html": [
              "<div>\n",
              "<style scoped>\n",
              "    .dataframe tbody tr th:only-of-type {\n",
              "        vertical-align: middle;\n",
              "    }\n",
              "\n",
              "    .dataframe tbody tr th {\n",
              "        vertical-align: top;\n",
              "    }\n",
              "\n",
              "    .dataframe thead th {\n",
              "        text-align: right;\n",
              "    }\n",
              "</style>\n",
              "<table border=\"1\" class=\"dataframe\">\n",
              "  <thead>\n",
              "    <tr style=\"text-align: right;\">\n",
              "      <th></th>\n",
              "      <th>condicao_de_saude</th>\n",
              "      <th>usou_plano</th>\n",
              "      <th>nao_usou_plano</th>\n",
              "    </tr>\n",
              "  </thead>\n",
              "  <tbody>\n",
              "    <tr>\n",
              "      <th>0</th>\n",
              "      <td>asthma.bronquitis.emphysema [Yes]</td>\n",
              "      <td>8.4 (21)</td>\n",
              "      <td>15.7 (8)</td>\n",
              "    </tr>\n",
              "    <tr>\n",
              "      <th>1</th>\n",
              "      <td>allergies [Yes]</td>\n",
              "      <td>15.7 (39)</td>\n",
              "      <td>17.6 (9)</td>\n",
              "    </tr>\n",
              "    <tr>\n",
              "      <th>2</th>\n",
              "      <td>migraine.headache [Yes]</td>\n",
              "      <td>26.1 (65)</td>\n",
              "      <td>29.4 (15)</td>\n",
              "    </tr>\n",
              "    <tr>\n",
              "      <th>3</th>\n",
              "      <td>insomnia [Yes]</td>\n",
              "      <td>8.4 (21)</td>\n",
              "      <td>9.8 (5)</td>\n",
              "    </tr>\n",
              "    <tr>\n",
              "      <th>4</th>\n",
              "      <td>rhinitis.sinusitis [Yes]</td>\n",
              "      <td>45.4 (113)</td>\n",
              "      <td>31.4 (16)</td>\n",
              "    </tr>\n",
              "    <tr>\n",
              "      <th>5</th>\n",
              "      <td>colestherol [Yes]</td>\n",
              "      <td>7.2 (18)</td>\n",
              "      <td>11.8 (6)</td>\n",
              "    </tr>\n",
              "    <tr>\n",
              "      <th>6</th>\n",
              "      <td>dyslipidemia [Yes]</td>\n",
              "      <td>0.4 (1)</td>\n",
              "      <td>0.0 (0)</td>\n",
              "    </tr>\n",
              "    <tr>\n",
              "      <th>7</th>\n",
              "      <td>diabetes [Yes]</td>\n",
              "      <td>1.2 (3)</td>\n",
              "      <td>5.9 (3)</td>\n",
              "    </tr>\n",
              "    <tr>\n",
              "      <th>8</th>\n",
              "      <td>thyroid [Yes]</td>\n",
              "      <td>5.6 (14)</td>\n",
              "      <td>3.9 (2)</td>\n",
              "    </tr>\n",
              "    <tr>\n",
              "      <th>9</th>\n",
              "      <td>hepatitis [Yes]</td>\n",
              "      <td>0</td>\n",
              "      <td>0</td>\n",
              "    </tr>\n",
              "    <tr>\n",
              "      <th>10</th>\n",
              "      <td>blood.pressure [Yes]</td>\n",
              "      <td>7.6 (19)</td>\n",
              "      <td>5.9 (3)</td>\n",
              "    </tr>\n",
              "    <tr>\n",
              "      <th>11</th>\n",
              "      <td>heart.conditions [Yes]</td>\n",
              "      <td>0.8 (2)</td>\n",
              "      <td>0.0 (0)</td>\n",
              "    </tr>\n",
              "    <tr>\n",
              "      <th>12</th>\n",
              "      <td>stroke [Yes]</td>\n",
              "      <td>0</td>\n",
              "      <td>0</td>\n",
              "    </tr>\n",
              "    <tr>\n",
              "      <th>13</th>\n",
              "      <td>ms [Yes]</td>\n",
              "      <td>0.4 (1)</td>\n",
              "      <td>0.0 (0)</td>\n",
              "    </tr>\n",
              "    <tr>\n",
              "      <th>14</th>\n",
              "      <td>kidney [Yes]</td>\n",
              "      <td>5.6 (14)</td>\n",
              "      <td>0.0 (0)</td>\n",
              "    </tr>\n",
              "    <tr>\n",
              "      <th>15</th>\n",
              "      <td>gastritits [Yes]</td>\n",
              "      <td>15.3 (38)</td>\n",
              "      <td>3.9 (2)</td>\n",
              "    </tr>\n",
              "    <tr>\n",
              "      <th>16</th>\n",
              "      <td>bowelsyndrome [Yes]</td>\n",
              "      <td>2.4 (6)</td>\n",
              "      <td>0.0 (0)</td>\n",
              "    </tr>\n",
              "    <tr>\n",
              "      <th>17</th>\n",
              "      <td>rheumatism [Yes]</td>\n",
              "      <td>1.6 (4)</td>\n",
              "      <td>0.0 (0)</td>\n",
              "    </tr>\n",
              "    <tr>\n",
              "      <th>18</th>\n",
              "      <td>low.back.pain [Yes]</td>\n",
              "      <td>11.6 (29)</td>\n",
              "      <td>5.9 (3)</td>\n",
              "    </tr>\n",
              "    <tr>\n",
              "      <th>19</th>\n",
              "      <td>back.pain [Yes]</td>\n",
              "      <td>12.9 (32)</td>\n",
              "      <td>5.9 (3)</td>\n",
              "    </tr>\n",
              "    <tr>\n",
              "      <th>20</th>\n",
              "      <td>osteoporosis [Yes]</td>\n",
              "      <td>1.6 (4)</td>\n",
              "      <td>0.0 (0)</td>\n",
              "    </tr>\n",
              "    <tr>\n",
              "      <th>21</th>\n",
              "      <td>cancer [Yes]</td>\n",
              "      <td>0</td>\n",
              "      <td>0</td>\n",
              "    </tr>\n",
              "    <tr>\n",
              "      <th>22</th>\n",
              "      <td>anxietydisorders [Yes]</td>\n",
              "      <td>4.4 (11)</td>\n",
              "      <td>2.0 (1)</td>\n",
              "    </tr>\n",
              "    <tr>\n",
              "      <th>23</th>\n",
              "      <td>depression [Yes]</td>\n",
              "      <td>4.4 (11)</td>\n",
              "      <td>0.0 (0)</td>\n",
              "    </tr>\n",
              "    <tr>\n",
              "      <th>24</th>\n",
              "      <td>othermentalcondition [Yes]</td>\n",
              "      <td>0</td>\n",
              "      <td>0</td>\n",
              "    </tr>\n",
              "    <tr>\n",
              "      <th>25</th>\n",
              "      <td>stds [Yes]</td>\n",
              "      <td>0.4 (1)</td>\n",
              "      <td>2.0 (1)</td>\n",
              "    </tr>\n",
              "    <tr>\n",
              "      <th>26</th>\n",
              "      <td>hiv [Yes]</td>\n",
              "      <td>0</td>\n",
              "      <td>0</td>\n",
              "    </tr>\n",
              "  </tbody>\n",
              "</table>\n",
              "</div>"
            ],
            "text/plain": [
              "                    condicao_de_saude  usou_plano nao_usou_plano\n",
              "0   asthma.bronquitis.emphysema [Yes]    8.4 (21)       15.7 (8)\n",
              "1                     allergies [Yes]   15.7 (39)       17.6 (9)\n",
              "2             migraine.headache [Yes]   26.1 (65)      29.4 (15)\n",
              "3                      insomnia [Yes]    8.4 (21)        9.8 (5)\n",
              "4            rhinitis.sinusitis [Yes]  45.4 (113)      31.4 (16)\n",
              "5                   colestherol [Yes]    7.2 (18)       11.8 (6)\n",
              "6                  dyslipidemia [Yes]     0.4 (1)        0.0 (0)\n",
              "7                      diabetes [Yes]     1.2 (3)        5.9 (3)\n",
              "8                       thyroid [Yes]    5.6 (14)        3.9 (2)\n",
              "9                     hepatitis [Yes]           0              0\n",
              "10               blood.pressure [Yes]    7.6 (19)        5.9 (3)\n",
              "11             heart.conditions [Yes]     0.8 (2)        0.0 (0)\n",
              "12                       stroke [Yes]           0              0\n",
              "13                           ms [Yes]     0.4 (1)        0.0 (0)\n",
              "14                       kidney [Yes]    5.6 (14)        0.0 (0)\n",
              "15                   gastritits [Yes]   15.3 (38)        3.9 (2)\n",
              "16                bowelsyndrome [Yes]     2.4 (6)        0.0 (0)\n",
              "17                   rheumatism [Yes]     1.6 (4)        0.0 (0)\n",
              "18                low.back.pain [Yes]   11.6 (29)        5.9 (3)\n",
              "19                    back.pain [Yes]   12.9 (32)        5.9 (3)\n",
              "20                 osteoporosis [Yes]     1.6 (4)        0.0 (0)\n",
              "21                       cancer [Yes]           0              0\n",
              "22             anxietydisorders [Yes]    4.4 (11)        2.0 (1)\n",
              "23                   depression [Yes]    4.4 (11)        0.0 (0)\n",
              "24         othermentalcondition [Yes]           0              0\n",
              "25                         stds [Yes]     0.4 (1)        2.0 (1)\n",
              "26                          hiv [Yes]           0              0"
            ]
          },
          "metadata": {
            "tags": []
          },
          "execution_count": 14
        }
      ]
    },
    {
      "cell_type": "markdown",
      "metadata": {
        "colab_type": "text",
        "id": "uoTUp53YjgaZ"
      },
      "source": [
        "**Interpretação** \n",
        "\n",
        "Percebemos que algumas condições de saúde são inexistentes entre os beneficiários (e.g., câncer, hiv, derrrame [stroke]). Podemos também usar\n",
        "as informações acima para testar nosso conhecimento sobre saúde.\n",
        "\n",
        "Esperaríamos beneficiários com doenças usando mais o plano de saúde. Enquanto isso é verdade para quem tem sinusite, 45,4% (113) usaram o plano e 31.4% (16) não usaram, isso não é verdade diabetes, 1,2% (3) usaram o plano e 5,9% (3). Qual seria uma explicação para isso? \n",
        "\n",
        "Talvez porque as frequências são muito pequenas. Poderíamos comparar usando estatística inferencial qual a probabilidade destes números serem encontrados por acaso. Para quem quiser saber mais, o teste do qui-quadrado poderia usado nesta situação. [Documentação aqui](https://docs.scipy.org/doc/scipy/reference/generated/scipy.stats.chi2_contingency.html). "
      ]
    },
    {
      "cell_type": "markdown",
      "metadata": {
        "colab_type": "text",
        "id": "_MEqx69fm4n6"
      },
      "source": [
        "### **B.Descrição dos custos em saúde (sinistro)**\n",
        "\n",
        "1. Criar um banco somente com beneficiários que usaram o plano de saúde da base de dados nos 12 meses anteriores à pesquisa\n",
        "2. Fazer uma matriz de correlação entre as variáveis de custo antes e depois;\n",
        "3. Gerar um heatmap das correlações;\n",
        "4. Transformar usando log as variáveis de custo total antes e depois. Após, aplicar uma correlação de Pearson."
      ]
    },
    {
      "cell_type": "markdown",
      "metadata": {
        "colab_type": "text",
        "id": "K9fMpZDLYO5V"
      },
      "source": [
        "**1.Criar um banco somente com beneficiários que usaram o plano de saúde da base de dados nos 12 meses anteriores à pesquisa**"
      ]
    },
    {
      "cell_type": "code",
      "metadata": {
        "colab_type": "code",
        "id": "E4tiMAeDYbaZ",
        "colab": {}
      },
      "source": [
        "# Seu código aqui:\n",
        "# Dica: use a variável 'has_used_prior_ha'"
      ],
      "execution_count": 0,
      "outputs": []
    },
    {
      "cell_type": "markdown",
      "metadata": {
        "colab_type": "text",
        "id": "iXHyN1QAaE4G"
      },
      "source": [
        "**Clique aqui para ver a resposta**\n",
        "<!--\n",
        "data_b = data[data['has_used_prior_ha'] == 'Yes']\n",
        "-->"
      ]
    },
    {
      "cell_type": "markdown",
      "metadata": {
        "colab_type": "text",
        "id": "vElKshMsZMDx"
      },
      "source": [
        "**2.Fazer uma matriz de correlação entre as variáveis de custo antes e depois**\n"
      ]
    },
    {
      "cell_type": "code",
      "metadata": {
        "colab_type": "code",
        "id": "3dp2cTO6afoj",
        "outputId": "f60cc487-020f-4f31-82a3-faffa32ca7dc",
        "colab": {
          "base_uri": "https://localhost:8080/",
          "height": 224
        }
      },
      "source": [
        "# Dica: A resposta para esta pergunta depende do exercício 1 acima.\n",
        "# Dica: Use a função 'filter' do pandas para selecionar as variáveis\n",
        "# Seu código aqui:\n",
        "correlations = data_b.filter(regex='before.hra.*.cost').corr(method='spearman').round(2)\n",
        "correlations"
      ],
      "execution_count": 0,
      "outputs": [
        {
          "output_type": "execute_result",
          "data": {
            "text/html": [
              "<div>\n",
              "<style scoped>\n",
              "    .dataframe tbody tr th:only-of-type {\n",
              "        vertical-align: middle;\n",
              "    }\n",
              "\n",
              "    .dataframe tbody tr th {\n",
              "        vertical-align: top;\n",
              "    }\n",
              "\n",
              "    .dataframe thead th {\n",
              "        text-align: right;\n",
              "    }\n",
              "</style>\n",
              "<table border=\"1\" class=\"dataframe\">\n",
              "  <thead>\n",
              "    <tr style=\"text-align: right;\">\n",
              "      <th></th>\n",
              "      <th>before.hra.12m.elective.encounter.cost</th>\n",
              "      <th>before.hra.12m.er.cost</th>\n",
              "      <th>before.hra.12m.exams.cost</th>\n",
              "      <th>before.hra.12m.hospital.cost</th>\n",
              "      <th>before.hra.12m.outpatient.cost</th>\n",
              "    </tr>\n",
              "  </thead>\n",
              "  <tbody>\n",
              "    <tr>\n",
              "      <th>before.hra.12m.elective.encounter.cost</th>\n",
              "      <td>1.00</td>\n",
              "      <td>0.13</td>\n",
              "      <td>0.66</td>\n",
              "      <td>0.32</td>\n",
              "      <td>0.42</td>\n",
              "    </tr>\n",
              "    <tr>\n",
              "      <th>before.hra.12m.er.cost</th>\n",
              "      <td>0.13</td>\n",
              "      <td>1.00</td>\n",
              "      <td>0.17</td>\n",
              "      <td>0.19</td>\n",
              "      <td>0.28</td>\n",
              "    </tr>\n",
              "    <tr>\n",
              "      <th>before.hra.12m.exams.cost</th>\n",
              "      <td>0.66</td>\n",
              "      <td>0.17</td>\n",
              "      <td>1.00</td>\n",
              "      <td>0.23</td>\n",
              "      <td>0.44</td>\n",
              "    </tr>\n",
              "    <tr>\n",
              "      <th>before.hra.12m.hospital.cost</th>\n",
              "      <td>0.32</td>\n",
              "      <td>0.19</td>\n",
              "      <td>0.23</td>\n",
              "      <td>1.00</td>\n",
              "      <td>0.21</td>\n",
              "    </tr>\n",
              "    <tr>\n",
              "      <th>before.hra.12m.outpatient.cost</th>\n",
              "      <td>0.42</td>\n",
              "      <td>0.28</td>\n",
              "      <td>0.44</td>\n",
              "      <td>0.21</td>\n",
              "      <td>1.00</td>\n",
              "    </tr>\n",
              "  </tbody>\n",
              "</table>\n",
              "</div>"
            ],
            "text/plain": [
              "                                        before.hra.12m.elective.encounter.cost  \\\n",
              "before.hra.12m.elective.encounter.cost                                    1.00   \n",
              "before.hra.12m.er.cost                                                    0.13   \n",
              "before.hra.12m.exams.cost                                                 0.66   \n",
              "before.hra.12m.hospital.cost                                              0.32   \n",
              "before.hra.12m.outpatient.cost                                            0.42   \n",
              "\n",
              "                                        before.hra.12m.er.cost  \\\n",
              "before.hra.12m.elective.encounter.cost                    0.13   \n",
              "before.hra.12m.er.cost                                    1.00   \n",
              "before.hra.12m.exams.cost                                 0.17   \n",
              "before.hra.12m.hospital.cost                              0.19   \n",
              "before.hra.12m.outpatient.cost                            0.28   \n",
              "\n",
              "                                        before.hra.12m.exams.cost  \\\n",
              "before.hra.12m.elective.encounter.cost                       0.66   \n",
              "before.hra.12m.er.cost                                       0.17   \n",
              "before.hra.12m.exams.cost                                    1.00   \n",
              "before.hra.12m.hospital.cost                                 0.23   \n",
              "before.hra.12m.outpatient.cost                               0.44   \n",
              "\n",
              "                                        before.hra.12m.hospital.cost  \\\n",
              "before.hra.12m.elective.encounter.cost                          0.32   \n",
              "before.hra.12m.er.cost                                          0.19   \n",
              "before.hra.12m.exams.cost                                       0.23   \n",
              "before.hra.12m.hospital.cost                                    1.00   \n",
              "before.hra.12m.outpatient.cost                                  0.21   \n",
              "\n",
              "                                        before.hra.12m.outpatient.cost  \n",
              "before.hra.12m.elective.encounter.cost                            0.42  \n",
              "before.hra.12m.er.cost                                            0.28  \n",
              "before.hra.12m.exams.cost                                         0.44  \n",
              "before.hra.12m.hospital.cost                                      0.21  \n",
              "before.hra.12m.outpatient.cost                                    1.00  "
            ]
          },
          "metadata": {
            "tags": []
          },
          "execution_count": 16
        }
      ]
    },
    {
      "cell_type": "markdown",
      "metadata": {
        "colab_type": "text",
        "id": "iq_ES5X_yAIf"
      },
      "source": [
        "**3. Gerar um heatmap das correlações**"
      ]
    },
    {
      "cell_type": "code",
      "metadata": {
        "colab_type": "code",
        "id": "R86jpiwscPHU",
        "outputId": "40cb1d09-ebed-462b-9b6a-dd830e2e301a",
        "colab": {
          "base_uri": "https://localhost:8080/",
          "height": 558
        }
      },
      "source": [
        "# Já temos uma ideia das associações. No entanto, existe uma forma melhor\n",
        "# de visualizar uma matriz de correlação usando o pandas.\n",
        "\n",
        "import seaborn as sns\n",
        "plt.figure(figsize=(20, 8))\n",
        "sns.heatmap(correlations, \n",
        "        xticklabels=correlations.columns,\n",
        "        yticklabels=correlations.columns,\n",
        "        annot=True,\n",
        "        cmap=\"PuBu\")"
      ],
      "execution_count": 0,
      "outputs": [
        {
          "output_type": "execute_result",
          "data": {
            "text/plain": [
              "<matplotlib.axes._subplots.AxesSubplot at 0x7f24ca1a9f10>"
            ]
          },
          "metadata": {
            "tags": []
          },
          "execution_count": 17
        },
        {
          "output_type": "display_data",
          "data": {
            "image/png": "[encoded data removed]",
            "text/plain": [
              "<Figure size 1440x576 with 2 Axes>"
            ]
          },
          "metadata": {
            "tags": [],
            "needs_background": "light"
          }
        }
      ]
    },
    {
      "cell_type": "markdown",
      "metadata": {
        "colab_type": "text",
        "id": "6raIKKK2yRNZ"
      },
      "source": [
        "**4. Transformar usando log as variáveis de custo total antes e depois. Após, aplicar uma correlação de Pearson.**\n",
        "\n",
        "Os dados de sinistro em planos de saúde tendem a seguir uma distribuição não paramétrica (são assimétricas e desviam de uma distribuição gaussiana). Isto é um desafio para o emprego de muitos testes estatísticos e modelos de aprendizagem de máquina. \n",
        "\n",
        "Usamos uma abordagem de cálculo das correlações já assumindo esta distribuição acima. Em vez de usarmos o cálculo de correlação de Pearson (usada para testes paramétricos), usamos a de Spearman.\n",
        "\n",
        "Como podemos contornar este tipo de situação? Existem diversas maneiras. Vamos começar explorando nosso problema.\n",
        "\n",
        "Para isso, iremos:\n",
        "\n",
        "1. Comparar uma distribuição normal contra a dos nossos dados usando dois métodos gráficos;\n",
        "2. Tentar resolver o problema, transformando nossos dados com uma função matemática."
      ]
    },
    {
      "cell_type": "code",
      "metadata": {
        "colab_type": "code",
        "id": "Vj3qeRGSzx8F",
        "outputId": "b58bf1f3-a669-4309-97a9-abfc699c2a9b",
        "colab": {
          "base_uri": "https://localhost:8080/",
          "height": 483
        }
      },
      "source": [
        "# Histograma das variáveis de custo antes e depois.\n",
        "from matplotlib import pyplot\n",
        "#bins = np.linspace(-10,10,100)\n",
        "plt.figure(figsize=(20, 8))\n",
        "pyplot.hist(data_b['after.hra.12m.claims.total.r'], bins=100, alpha=.5, label='Sinistro Após')\n",
        "pyplot.hist(data_b['before.hra.12m.claims.total'], bins=100, alpha=.5, label='Sinistro Pré')\n",
        "pyplot.legend(loc='upper right')\n",
        "pyplot.show()"
      ],
      "execution_count": 0,
      "outputs": [
        {
          "output_type": "display_data",
          "data": {
            "image/png": "[encoded data removed]",
            "text/plain": [
              "<Figure size 1440x576 with 1 Axes>"
            ]
          },
          "metadata": {
            "tags": [],
            "needs_background": "light"
          }
        }
      ]
    },
    {
      "cell_type": "markdown",
      "metadata": {
        "colab_type": "text",
        "id": "OW4VY8NE1w9h"
      },
      "source": [
        "Até aqui já podemos suspeitar que a distribuição não é simétrica, tampouco paramétrica. Podemos simular o que seria uma distribuição normal com a mesma média e desvio padrão de nossos dados e comparar os resultados. Vejamos."
      ]
    },
    {
      "cell_type": "code",
      "metadata": {
        "colab_type": "code",
        "id": "nkH61uwA2LD5",
        "outputId": "f114422e-e3c7-48f6-c271-9f159e959233",
        "colab": {
          "base_uri": "https://localhost:8080/",
          "height": 483
        }
      },
      "source": [
        "import random\n",
        "# Simular distribuições usando biblioteca random\n",
        "normal_pos = [random.gauss(data_b['after.hra.12m.claims.total.r'].mean(), \n",
        "                           data_b['after.hra.12m.claims.total.r'].std()) for \n",
        "              _ in range(data_b.shape[0])]\n",
        "\n",
        "normal_pre = [random.gauss(data_b['before.hra.12m.claims.total'].mean(), \n",
        "                           data_b['before.hra.12m.claims.total'].std()) for \n",
        "              _ in range(data_b.shape[0])]\n",
        "\n",
        "# Criar histograma\n",
        "plt.figure(figsize=(20, 8))\n",
        "pyplot.hist(normal_pre, bins=100, alpha=.5, label='Sim. Normal Pré')\n",
        "pyplot.hist(normal_pos, bins=100, alpha=.5, label='Sim. Normal Pós')\n",
        "pyplot.hist(data_b['after.hra.12m.claims.total.r'], bins=100, alpha=.5, label='Sinistro Após')\n",
        "pyplot.hist(data_b['before.hra.12m.claims.total'], bins=100, alpha=.5, label='Sinistro Pré')\n",
        "pyplot.legend(loc='upper right')\n",
        "pyplot.show()"
      ],
      "execution_count": 0,
      "outputs": [
        {
          "output_type": "display_data",
          "data": {
            "image/png": "[encoded data removed]",
            "text/plain": [
              "<Figure size 1440x576 with 1 Axes>"
            ]
          },
          "metadata": {
            "tags": [],
            "needs_background": "light"
          }
        }
      ]
    },
    {
      "cell_type": "markdown",
      "metadata": {
        "colab_type": "text",
        "id": "Ygu9906J3p9t"
      },
      "source": [
        "Wow! A distribuição de sinistro não são paramétricas em nenhum lugar do universo. Não temos sinistro negativo e as distribuições flutuam muito mais em valores do que teríamos. \n",
        "\n",
        "Vamos ainda tentar verificar o grau de associação entre as duas variáveis usando o gráfico de dispersão."
      ]
    },
    {
      "cell_type": "code",
      "metadata": {
        "colab_type": "code",
        "id": "jRfVgN8B4Hmm",
        "outputId": "1b4e0c30-a489-4b16-ef0a-47d3eb9d5183",
        "colab": {
          "base_uri": "https://localhost:8080/",
          "height": 483
        }
      },
      "source": [
        "# Diagrama de dispersão\n",
        "plt.figure(figsize=(12, 8))\n",
        "pyplot.scatter(x=data_b['after.hra.12m.claims.total.r'],\n",
        "               y=data_b['before.hra.12m.claims.total'],\n",
        "               alpha=0.4)\n",
        "pyplot.show()"
      ],
      "execution_count": 0,
      "outputs": [
        {
          "output_type": "display_data",
          "data": {
            "image/png": "[encoded data removed]",
            "text/plain": [
              "<Figure size 864x576 with 1 Axes>"
            ]
          },
          "metadata": {
            "tags": [],
            "needs_background": "light"
          }
        }
      ]
    },
    {
      "cell_type": "markdown",
      "metadata": {
        "colab_type": "text",
        "id": "3nSCCxcg5Bxu"
      },
      "source": [
        "Temos muito casos extremos. Vamos tentar plotar a região mais densa do gráfico\n",
        "para tentarmos buscar uma associação entre sinistro antes e depois da avaliação de risco."
      ]
    },
    {
      "cell_type": "code",
      "metadata": {
        "colab_type": "code",
        "id": "PIorU21U46mY",
        "outputId": "bf0d5cf7-aff0-4929-b9c1-7946aed9aed1",
        "colab": {
          "base_uri": "https://localhost:8080/",
          "height": 487
        }
      },
      "source": [
        "# Diagrama de dispersão entre sinistros com limites para eixos x e y\n",
        "plt.figure(figsize=(12, 8))\n",
        "pyplot.scatter(x=data_b['after.hra.12m.claims.total.r'],\n",
        "               y=data_b['before.hra.12m.claims.total'],\n",
        "               alpha=0.8,\n",
        "               s=64)\n",
        "pyplot.xlim((0,5000))\n",
        "pyplot.ylim((0,5000))\n",
        "pyplot.show()"
      ],
      "execution_count": 0,
      "outputs": [
        {
          "output_type": "display_data",
          "data": {
            "image/png": "[encoded data removed]",
            "text/plain": [
              "<Figure size 864x576 with 1 Axes>"
            ]
          },
          "metadata": {
            "tags": [],
            "needs_background": "light"
          }
        }
      ]
    },
    {
      "cell_type": "markdown",
      "metadata": {
        "colab_type": "text",
        "id": "V8mbVMnc6uMN"
      },
      "source": [
        "Para terminar, vamos usar o índice de correlação de Spearman para as duas variáveis."
      ]
    },
    {
      "cell_type": "code",
      "metadata": {
        "colab_type": "code",
        "id": "H6PCbkgd64mM",
        "outputId": "586913ed-2963-4bee-c0a1-f06c5531ab81",
        "colab": {
          "base_uri": "https://localhost:8080/",
          "height": 111
        }
      },
      "source": [
        "data_b[['before.hra.12m.claims.total', \n",
        "        'after.hra.12m.claims.total.r',]].corr(method='spearman').round(2)"
      ],
      "execution_count": 0,
      "outputs": [
        {
          "output_type": "execute_result",
          "data": {
            "text/html": [
              "<div>\n",
              "<style scoped>\n",
              "    .dataframe tbody tr th:only-of-type {\n",
              "        vertical-align: middle;\n",
              "    }\n",
              "\n",
              "    .dataframe tbody tr th {\n",
              "        vertical-align: top;\n",
              "    }\n",
              "\n",
              "    .dataframe thead th {\n",
              "        text-align: right;\n",
              "    }\n",
              "</style>\n",
              "<table border=\"1\" class=\"dataframe\">\n",
              "  <thead>\n",
              "    <tr style=\"text-align: right;\">\n",
              "      <th></th>\n",
              "      <th>before.hra.12m.claims.total</th>\n",
              "      <th>after.hra.12m.claims.total.r</th>\n",
              "    </tr>\n",
              "  </thead>\n",
              "  <tbody>\n",
              "    <tr>\n",
              "      <th>before.hra.12m.claims.total</th>\n",
              "      <td>1.00</td>\n",
              "      <td>0.46</td>\n",
              "    </tr>\n",
              "    <tr>\n",
              "      <th>after.hra.12m.claims.total.r</th>\n",
              "      <td>0.46</td>\n",
              "      <td>1.00</td>\n",
              "    </tr>\n",
              "  </tbody>\n",
              "</table>\n",
              "</div>"
            ],
            "text/plain": [
              "                              before.hra.12m.claims.total  \\\n",
              "before.hra.12m.claims.total                          1.00   \n",
              "after.hra.12m.claims.total.r                         0.46   \n",
              "\n",
              "                              after.hra.12m.claims.total.r  \n",
              "before.hra.12m.claims.total                           0.46  \n",
              "after.hra.12m.claims.total.r                          1.00  "
            ]
          },
          "metadata": {
            "tags": []
          },
          "execution_count": 22
        }
      ]
    },
    {
      "cell_type": "markdown",
      "metadata": {
        "colab_type": "text",
        "id": "N5Qo_U4v7hwq"
      },
      "source": [
        "Temos uma associação moderada (0.46), o que intuitivamente faz sentido. Gastos \n",
        "dos beneficiários dos 12 meses anteriores estão associados com os 12 meses\n",
        "posteriores a entrevista de saúde.\n",
        "\n",
        "Para terminar esta última parte, iremos converter as variáveis na escala log normal para ver o que acontece com nossa distribuição dos dados."
      ]
    },
    {
      "cell_type": "code",
      "metadata": {
        "colab_type": "code",
        "id": "FAeAuMDm8CUT",
        "outputId": "3038708b-16c1-4bd5-9e76-75540aec0269",
        "colab": {
          "base_uri": "https://localhost:8080/",
          "height": 534
        }
      },
      "source": [
        "#  \n",
        "plt.figure(figsize=(12, 8))\n",
        "pyplot.scatter(x=np.log(data_b['after.hra.12m.claims.total.r']),\n",
        "               y=np.log(data_b['before.hra.12m.claims.total']),\n",
        "               alpha=0.8,\n",
        "               s=64)"
      ],
      "execution_count": 0,
      "outputs": [
        {
          "output_type": "stream",
          "text": [
            "/home/day0/.local/lib/python3.8/site-packages/pandas/core/series.py:679: RuntimeWarning: divide by zero encountered in log\n",
            "  result = getattr(ufunc, method)(*inputs, **kwargs)\n"
          ],
          "name": "stderr"
        },
        {
          "output_type": "execute_result",
          "data": {
            "text/plain": [
              "<matplotlib.collections.PathCollection at 0x7f24c7859c40>"
            ]
          },
          "metadata": {
            "tags": []
          },
          "execution_count": 23
        },
        {
          "output_type": "display_data",
          "data": {
            "image/png": "[encoded data removed]",
            "text/plain": [
              "<Figure size 864x576 with 1 Axes>"
            ]
          },
          "metadata": {
            "tags": [],
            "needs_background": "light"
          }
        }
      ]
    },
    {
      "cell_type": "markdown",
      "metadata": {
        "colab_type": "text",
        "id": "H7eyXJ71m_nn"
      },
      "source": [
        "### **C.Regressão linear múltipla (sinistro)**"
      ]
    },
    {
      "cell_type": "code",
      "metadata": {
        "colab_type": "code",
        "id": "aqVZEMB7nAkj",
        "outputId": "d20c3f8e-355b-4fe0-da5b-1e1c8baa4f95",
        "colab": {
          "base_uri": "https://localhost:8080/",
          "height": 493
        }
      },
      "source": [
        "data_b.columns"
      ],
      "execution_count": 0,
      "outputs": [
        {
          "output_type": "execute_result",
          "data": {
            "text/plain": [
              "Index(['id', 'type', 'before.hra.12m.claims.total',\n",
              "       'before.hra.12m.elective.encounter.cost',\n",
              "       'before.hra.12m.elective.encounter.event', 'before.hra.12m.er.cost',\n",
              "       'before.hra.12m.er.event', 'before.hra.12m.exams.cost',\n",
              "       'before.hra.12m.exams.event', 'before.hra.12m.hospital.cost',\n",
              "       'before.hra.12m.hospital.events', 'before.hra.12m.outpatient.cost',\n",
              "       'before.hra.12m.outpatient.events', 'after.hra.12m.claims.total',\n",
              "       'after.hra.12m.elective.encounter.cost',\n",
              "       'after.hra.12m.elective.encounter.event', 'after.hra.12m.er.cost',\n",
              "       'after.hra.12m.er.event', 'after.hra.12m.exams.cost',\n",
              "       'after.hra.12m.exams.event', 'after.hra.12m.hospital.cost',\n",
              "       'after.hra.12m.hospital.events', 'after.hra.12m.outpatient.cost',\n",
              "       'after.hra.12m.outpatient.events', 'time.on.company',\n",
              "       'risk.factors.sum', 'gender', 'age', 'educational.level',\n",
              "       'househood.members', 'asthma.bronquitis.emphysema', 'allergies',\n",
              "       'migraine.headache', 'insomnia', 'rhinitis.sinusitis', 'colestherol',\n",
              "       'dyslipidemia', 'diabetes', 'thyroid', 'hepatitis', 'blood.pressure',\n",
              "       'heart.conditions', 'stroke', 'ms', 'kidney', 'gastritits',\n",
              "       'bowelsyndrome', 'rheumatism', 'low.back.pain', 'back.pain',\n",
              "       'osteoporosis', 'cancer', 'anxietydisorders', 'depression',\n",
              "       'othermentalcondition', 'stds', 'hiv', 'sedentary.lifestyle',\n",
              "       'n.risk.health.risk.factors', 'risk.alcoholism', 'mental.health.risk',\n",
              "       'weight.risk', 'smoking.risk', 'orthopedic.risk', 'beans.iron.risk',\n",
              "       'fruits.veggies', 'snacks', 'sugar.sweets', 'Integral.milk.risk',\n",
              "       'red.meat.risk', 'snack.time.risk', 'salt.risk',\n",
              "       'disease.risk.aggregated', 'total.risk', 'after.hra.12m.claims.total.r',\n",
              "       'gender_r', 'has_used_prior_ha'],\n",
              "      dtype='object')"
            ]
          },
          "metadata": {
            "tags": []
          },
          "execution_count": 24
        }
      ]
    },
    {
      "cell_type": "markdown",
      "metadata": {
        "colab_type": "text",
        "id": "m_35IWXNo-pY"
      },
      "source": [
        "Utilizaremos a biblioteca de machine learning [scikit-learn](https://scikit-learn.org/stable/) para fazer o modelo:"
      ]
    },
    {
      "cell_type": "code",
      "metadata": {
        "colab_type": "code",
        "id": "Vv2VwN7eo-pZ",
        "colab": {}
      },
      "source": [
        "from sklearn.linear_model import LinearRegression\n",
        "\n",
        "lm = LinearRegression() # inincializar o objeto do modelo linear"
      ],
      "execution_count": 0,
      "outputs": []
    },
    {
      "cell_type": "markdown",
      "metadata": {
        "colab_type": "text",
        "id": "Jc0nzlbYo-ph"
      },
      "source": [
        "Vamos selecionar as variáveis e dar uma olhada na sua distribuição"
      ]
    },
    {
      "cell_type": "code",
      "metadata": {
        "colab_type": "code",
        "id": "fXP87aOx0BXy",
        "colab": {}
      },
      "source": [
        "X = data_b.filter(regex='before.*cost').copy(deep=True) # Selecionar as variáveis de custo anterior\n",
        "y = data_b['after.hra.12m.claims.total.r']  # Selecionar o custo após"
      ],
      "execution_count": 0,
      "outputs": []
    },
    {
      "cell_type": "code",
      "metadata": {
        "colab_type": "code",
        "id": "vTzB4j71o-pm",
        "outputId": "9e99c42c-2966-4203-9eea-95162fb210be",
        "colab": {}
      },
      "source": [
        "X.hist(figsize=(8, 8)) # Plotar histograma para as variáveis"
      ],
      "execution_count": 0,
      "outputs": [
        {
          "output_type": "execute_result",
          "data": {
            "text/plain": [
              "array([[<matplotlib.axes._subplots.AxesSubplot object at 0x7f24c8063fd0>,\n",
              "        <matplotlib.axes._subplots.AxesSubplot object at 0x7f24c7b751c0>],\n",
              "       [<matplotlib.axes._subplots.AxesSubplot object at 0x7f24c7a7b640>,\n",
              "        <matplotlib.axes._subplots.AxesSubplot object at 0x7f24c7a71a90>],\n",
              "       [<matplotlib.axes._subplots.AxesSubplot object at 0x7f24c7873c10>,\n",
              "        <matplotlib.axes._subplots.AxesSubplot object at 0x7f24c78ce3d0>]],\n",
              "      dtype=object)"
            ]
          },
          "metadata": {
            "tags": []
          },
          "execution_count": 27
        },
        {
          "output_type": "display_data",
          "data": {
            "image/png": "[encoded data removed]",
            "text/plain": [
              "<Figure size 576x576 with 6 Axes>"
            ]
          },
          "metadata": {
            "tags": [],
            "needs_background": "light"
          }
        }
      ]
    },
    {
      "cell_type": "markdown",
      "metadata": {
        "colab_type": "text",
        "id": "xvHDc9ZQo-pq"
      },
      "source": [
        "Precisamos convertê-las para log"
      ]
    },
    {
      "cell_type": "code",
      "metadata": {
        "colab_type": "code",
        "id": "FQ6tcyVPo-pq",
        "colab": {}
      },
      "source": [
        "for col in X.columns.values:\n",
        "    X[col] = np.log(X[col] + 1)\n",
        "\n",
        "y = np.log(y + 1)"
      ],
      "execution_count": 0,
      "outputs": []
    },
    {
      "cell_type": "code",
      "metadata": {
        "colab_type": "code",
        "id": "r_xBkiSUo-pt",
        "outputId": "4cb70e2a-a4ab-4861-ae21-04d3343120f3",
        "colab": {}
      },
      "source": [
        "X.hist(figsize=(8, 8))"
      ],
      "execution_count": 0,
      "outputs": [
        {
          "output_type": "execute_result",
          "data": {
            "text/plain": [
              "array([[<matplotlib.axes._subplots.AxesSubplot object at 0x7f24c7401310>,\n",
              "        <matplotlib.axes._subplots.AxesSubplot object at 0x7f24c73a51f0>],\n",
              "       [<matplotlib.axes._subplots.AxesSubplot object at 0x7f24c73d1670>,\n",
              "        <matplotlib.axes._subplots.AxesSubplot object at 0x7f24c737bac0>],\n",
              "       [<matplotlib.axes._subplots.AxesSubplot object at 0x7f24c7327f10>,\n",
              "        <matplotlib.axes._subplots.AxesSubplot object at 0x7f24c72de400>]],\n",
              "      dtype=object)"
            ]
          },
          "metadata": {
            "tags": []
          },
          "execution_count": 29
        },
        {
          "output_type": "display_data",
          "data": {
            "image/png": "[encoded data removed]",
            "text/plain": [
              "<Figure size 576x576 with 6 Axes>"
            ]
          },
          "metadata": {
            "tags": [],
            "needs_background": "light"
          }
        }
      ]
    },
    {
      "cell_type": "markdown",
      "metadata": {
        "colab_type": "text",
        "id": "paS8GSWdo-px"
      },
      "source": [
        "Agora podemos ajustar o modelo e ver seus coeficientes, baseando se nas variáveis de custo dos 12 meses anteriores (que acabamos de transformar em log) para tentar prever o custo dos 12 meses após."
      ]
    },
    {
      "cell_type": "code",
      "metadata": {
        "colab_type": "code",
        "id": "riksOlWJo-py",
        "outputId": "de2f870a-28ce-417e-fd58-6874dca15f09",
        "colab": {}
      },
      "source": [
        "lm.fit(X, y)          # Ajustar o modelo\n",
        "\n",
        "yhat = lm.predict(X)  # Gerar predições para avaliarmos o desempenho\n",
        "\n",
        "print(f'Intercept: {lm.intercept_:.2f}')\n",
        "for col, coef in zip(X.columns.values, lm.coef_):\n",
        "    print(f'{coef:>.2f}: ', end='')\n",
        "    print(f'{col}')"
      ],
      "execution_count": 0,
      "outputs": [
        {
          "output_type": "stream",
          "text": [
            "Intercept: 4.56\n",
            "0.04: before.hra.12m.elective.encounter.cost\n",
            "0.17: before.hra.12m.er.cost\n",
            "0.18: before.hra.12m.exams.cost\n",
            "0.02: before.hra.12m.hospital.cost\n",
            "0.15: before.hra.12m.outpatient.cost\n"
          ],
          "name": "stdout"
        }
      ]
    },
    {
      "cell_type": "code",
      "metadata": {
        "colab_type": "code",
        "id": "K6DtKK-wo-p5",
        "outputId": "fc66e9cc-d0f3-4e68-bc25-b09ab887d7aa",
        "colab": {}
      },
      "source": [
        "print(f'R²: {lm.score(X, y):.2f}')"
      ],
      "execution_count": 0,
      "outputs": [
        {
          "output_type": "stream",
          "text": [
            "R²: 0.18\n"
          ],
          "name": "stdout"
        }
      ]
    },
    {
      "cell_type": "markdown",
      "metadata": {
        "colab_type": "text",
        "id": "Zil8_zmBo-qA"
      },
      "source": [
        "Vamos visualizar os valores reais e as predições do modelo."
      ]
    },
    {
      "cell_type": "code",
      "metadata": {
        "colab_type": "code",
        "id": "jZu9ebzOo-qB",
        "outputId": "ce20d859-7820-469d-c902-6f9842ce0d1a",
        "colab": {}
      },
      "source": [
        "plt.figure(figsize=(6, 6))\n",
        "plt.scatter(y, yhat, alpha=0.2)\n",
        "plt.xlim(0, 12)\n",
        "plt.ylim(0, 12)\n",
        "plt.xlabel('Real')\n",
        "plt.ylabel('Estimado')\n",
        "plt.title('Valores de Sinistro Reais vs Estimados')\n",
        "plt.figure\n",
        "plt.show()\n",
        "plt.close()"
      ],
      "execution_count": 0,
      "outputs": [
        {
          "output_type": "display_data",
          "data": {
            "image/png": "[encoded data removed]",
            "text/plain": [
              "<Figure size 432x432 with 1 Axes>"
            ]
          },
          "metadata": {
            "tags": [],
            "needs_background": "light"
          }
        }
      ]
    },
    {
      "cell_type": "markdown",
      "metadata": {
        "colab_type": "text",
        "id": "BxSwqy2jpBXq"
      },
      "source": [
        "# **Yey! Parabéns por ter completado este notebook!**\n",
        "\n",
        "\n",
        "Este notebook faz parte do curso de *Introdução ao Python para Análise de Dados em Saúde*, ministrado por [Caio Salgado](https://www.linkedin.com/in/caio-salgado-b5758312/) e oferecido pela [Zetta Exponential](https://www.linkedin.com/company/zetta-health-analytics/) e Universidade Federal de Viçosa. Foi escrito por:\n",
        "\n",
        "* [Ana Flávia Souza](https://www.linkedin.com/in/ana-fl%C3%A1via-souza-2b06151a5/): graduanda em Economia pela Universidade Federal de Viçosa e estagiária na Zetta Exponential.\n",
        "\n",
        "* [Gabriel Kakizaki](https://www.linkedin.com/in/gabriel-kakizaki-25b6311a5/): graduando em Administração pela Universidade Federal de Viçosa, membro do PET-ADM e estagiário na Zetta Exponential.\n",
        "\n",
        "Com supervisão de:\n",
        "\n",
        "* [Dr. Henrique Gomide](https://www.linkedin.com/in/hpgomide/?originalSubdomain=br): líder do comitê científico da empresa Zetta Health e professor da Universidade Federal de Viçosa. \n",
        "\n",
        "--- \n",
        "Copyright 2020, Zetta Exponential"
      ]
    }
  ]
}