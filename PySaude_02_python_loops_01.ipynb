{
  "nbformat": 4,
  "nbformat_minor": 0,
  "metadata": {
    "colab": {
      "name": "Curso_Python_para_Gestão_de_Saúde_02_python_loops.ipynb",
      "provenance": [],
      "collapsed_sections": [],
      "toc_visible": true,
      "include_colab_link": true
    },
    "kernelspec": {
      "name": "python3",
      "display_name": "Python 3"
    }
  },
  "cells": [
    {
      "cell_type": "markdown",
      "metadata": {
        "id": "view-in-github",
        "colab_type": "text"
      },
      "source": [
        "<a href=\"https://colab.research.google.com/github/zetta-health/exp-curso-python-saude/blob/master/Curso_Python_para_Gest%C3%A3o_de_Sa%C3%BAde_02_python_loops.ipynb\" target=\"_parent\"><img src=\"https://colab.research.google.com/assets/colab-badge.svg\" alt=\"Open In Colab\"/></a>"
      ]
    },
    {
      "cell_type": "markdown",
      "metadata": {
        "id": "3s-DEEQWWUk3",
        "colab_type": "text"
      },
      "source": [
        "# Loops (Repetições)\n",
        "\n",
        "Os **loops** são utilizados para repetir, diversas vezes, uma parte do programa sob uma determinada condição. Aqui, vamos mostrar algumas funções úteis para a criação de loops e como aplicá-los em seu código.\n",
        "\n"
      ]
    },
    {
      "cell_type": "markdown",
      "metadata": {
        "id": "tLG3vhCvahe-",
        "colab_type": "text"
      },
      "source": [
        "## For loops\n",
        "\n",
        "Usamos um **for loop** para repetir uma determinada ação sobre um objeto iterável, por um número fixo de vezes. \n",
        "\n",
        "Com o auxílio de algumas funções específicas, os for loops são bastante úteis para criar e manipular sequências iteráveis, como listas, dicionários e strings.\n",
        "\n",
        "\n"
      ]
    },
    {
      "cell_type": "code",
      "metadata": {
        "id": "E53WXPB3PGpW",
        "colab_type": "code",
        "outputId": "c770e4f6-821d-4763-f2fd-e1fb25b9af94",
        "colab": {
          "base_uri": "https://localhost:8080/",
          "height": 68
        }
      },
      "source": [
        "# Exemplo de for loop.\n",
        "lista_01 = ['amarelo', 'verde', 'azul']\n",
        "for i in lista_01: # Não esquecer do uso dos ':'.\n",
        "  print(i)"
      ],
      "execution_count": 0,
      "outputs": [
        {
          "output_type": "stream",
          "text": [
            "amarelo\n",
            "verde\n",
            "azul\n"
          ],
          "name": "stdout"
        }
      ]
    },
    {
      "cell_type": "markdown",
      "metadata": {
        "id": "joEa8nkfJOT8",
        "colab_type": "text"
      },
      "source": [
        "##Função range( )\n",
        "\n",
        "A função **range** nos ajuda a gerar listas no Python. Nela, é determinado o intervalo onde os elementos da lista estarão compreeendidos, e, a cada repetição, a estrutura **for** gera um elemento. \n",
        "\n",
        "Dentro da função, você pode definir, como parâmetros, o início do intervalo, o fim do intervalo e saltos dentro da sequência.\n"
      ]
    },
    {
      "cell_type": "markdown",
      "metadata": {
        "id": "mrCUD_hOCEVH",
        "colab_type": "text"
      },
      "source": [
        "####Exemplos"
      ]
    },
    {
      "cell_type": "code",
      "metadata": {
        "id": "zh19XZCbQP55",
        "colab_type": "code",
        "outputId": "b5482cb6-d85d-4d10-fe5e-c437f55c9620",
        "colab": {
          "base_uri": "https://localhost:8080/",
          "height": 153
        }
      },
      "source": [
        "# Quando temos apenas um parâmetro, o intervalo começa em 0. \n",
        "for i in range(8):\n",
        "  print(i)"
      ],
      "execution_count": 0,
      "outputs": [
        {
          "output_type": "stream",
          "text": [
            "0\n",
            "1\n",
            "2\n",
            "3\n",
            "4\n",
            "5\n",
            "6\n",
            "7\n"
          ],
          "name": "stdout"
        }
      ]
    },
    {
      "cell_type": "code",
      "metadata": {
        "id": "J7JJwr6bZQV2",
        "colab_type": "code",
        "outputId": "844e3f8e-aa85-4677-e58b-39ddbee0ff31",
        "colab": {
          "base_uri": "https://localhost:8080/",
          "height": 119
        }
      },
      "source": [
        "# Nesse caso, determinamos o início e fim do intervalo.\n",
        "for a in range(2,8): \n",
        "  print(a)"
      ],
      "execution_count": 0,
      "outputs": [
        {
          "output_type": "stream",
          "text": [
            "2\n",
            "3\n",
            "4\n",
            "5\n",
            "6\n",
            "7\n"
          ],
          "name": "stdout"
        }
      ]
    },
    {
      "cell_type": "code",
      "metadata": {
        "id": "dyJrYxxNBrY5",
        "colab_type": "code",
        "outputId": "a4746dba-cf9f-4048-8475-e6ed5f5cf7ab",
        "colab": {
          "base_uri": "https://localhost:8080/",
          "height": 102
        }
      },
      "source": [
        "# O terceiro parâmetro determina o salto dentro da sequência.\n",
        "for x in range(0,10,2): # Imprimir apenas os números pares.\n",
        "  print(x)"
      ],
      "execution_count": 0,
      "outputs": [
        {
          "output_type": "stream",
          "text": [
            "0\n",
            "2\n",
            "4\n",
            "6\n",
            "8\n"
          ],
          "name": "stdout"
        }
      ]
    },
    {
      "cell_type": "code",
      "metadata": {
        "id": "zLVmyF9nNF-5",
        "colab_type": "code",
        "outputId": "0f104c5f-7a84-47a3-dcc6-c8f6eca518db",
        "colab": {
          "base_uri": "https://localhost:8080/",
          "height": 68
        }
      },
      "source": [
        "# Função 'range' aplicada em uma lista de strings.\n",
        "lista_01 = ['amarelo', 'verde', 'azul'] \n",
        "n = len(lista_01)\n",
        "for x in range(n): # O intervalo é definido pelo número de items na lista.\n",
        "  print(lista_01[x]) # Geramos os elementos da lista um a um."
      ],
      "execution_count": 0,
      "outputs": [
        {
          "output_type": "stream",
          "text": [
            "amarelo\n",
            "verde\n",
            "azul\n"
          ],
          "name": "stdout"
        }
      ]
    },
    {
      "cell_type": "markdown",
      "metadata": {
        "id": "q4VUwSgvabbe",
        "colab_type": "text"
      },
      "source": [
        "###Exercício 1\n",
        "\n",
        "Em um intervalo de 1 a 20, imprima apenas os números ímpares."
      ]
    },
    {
      "cell_type": "code",
      "metadata": {
        "id": "VXzsm6QqavNV",
        "colab_type": "code",
        "colab": {}
      },
      "source": [
        ""
      ],
      "execution_count": 0,
      "outputs": []
    },
    {
      "cell_type": "markdown",
      "metadata": {
        "id": "SDjn9ZRcavvx",
        "colab_type": "text"
      },
      "source": [
        "**Clique aqui para a resposta.**\n",
        "\n",
        "<!--\n",
        "for x in range(1,21,2):\n",
        "  print(x)\n",
        "-->"
      ]
    },
    {
      "cell_type": "markdown",
      "metadata": {
        "id": "Xcz2gA4DCK5j",
        "colab_type": "text"
      },
      "source": [
        "##Função Enumerate( )\n",
        "\n",
        "A função **enumerate** permite gerar a relação entre índice e valor de cada elemento de uma sequência iterável. Essa função nos ajuda a manter a contagem do número de iterações realizadas."
      ]
    },
    {
      "cell_type": "markdown",
      "metadata": {
        "id": "oW63opBACdI1",
        "colab_type": "text"
      },
      "source": [
        "####Exemplo"
      ]
    },
    {
      "cell_type": "code",
      "metadata": {
        "id": "qGXCS56oCfWo",
        "colab_type": "code",
        "outputId": "429545fb-0f5d-49ac-e6dc-432ff16edeb8",
        "colab": {
          "base_uri": "https://localhost:8080/",
          "height": 68
        }
      },
      "source": [
        "# Aqui, o primeiro valor da tupla será atribuído a 'x' e o segundo, a 'y'.\n",
        "for x, y in enumerate(lista_01): \n",
        "  print(x, y) "
      ],
      "execution_count": 0,
      "outputs": [
        {
          "output_type": "stream",
          "text": [
            "0 amarelo\n",
            "1 verde\n",
            "2 azul\n"
          ],
          "name": "stdout"
        }
      ]
    },
    {
      "cell_type": "markdown",
      "metadata": {
        "id": "M-hrAv0kCiXG",
        "colab_type": "text"
      },
      "source": [
        "##*List Comprehensions*\n",
        "\n",
        "Outra forma de gerar listas é utilizando **list comprehensions**. Nesse caso, utilizamos a sintaxe para especificar **como** os elementos da lista devem ser gerados."
      ]
    },
    {
      "cell_type": "markdown",
      "metadata": {
        "id": "l8GutZBkEXL1",
        "colab_type": "text"
      },
      "source": [
        "####Exemplos"
      ]
    },
    {
      "cell_type": "code",
      "metadata": {
        "id": "NiebqGBaEa3m",
        "colab_type": "code",
        "outputId": "8cc81e45-f2a9-45e6-aa75-f65c0397b06c",
        "colab": {
          "base_uri": "https://localhost:8080/",
          "height": 34
        }
      },
      "source": [
        "lista_02 = [x for x in range(7)]\n",
        "lista_02"
      ],
      "execution_count": 0,
      "outputs": [
        {
          "output_type": "execute_result",
          "data": {
            "text/plain": [
              "[0, 1, 2, 3, 4, 5, 6]"
            ]
          },
          "metadata": {
            "tags": []
          },
          "execution_count": 16
        }
      ]
    },
    {
      "cell_type": "code",
      "metadata": {
        "id": "s_yFVTDGEaJ0",
        "colab_type": "code",
        "outputId": "fdf55aa5-25be-466c-a213-c241d8fc3d45",
        "colab": {
          "base_uri": "https://localhost:8080/",
          "height": 34
        }
      },
      "source": [
        "# Cada elemento da 'lista_03' possui duas unidades a mais que os da 'lista_02'.\n",
        "lista_03 = [x + 2 for x in lista_02]\n",
        "lista_03"
      ],
      "execution_count": 0,
      "outputs": [
        {
          "output_type": "execute_result",
          "data": {
            "text/plain": [
              "[2, 3, 4, 5, 6, 7, 8]"
            ]
          },
          "metadata": {
            "tags": []
          },
          "execution_count": 17
        }
      ]
    },
    {
      "cell_type": "code",
      "metadata": {
        "id": "3yVr8tmhfhTJ",
        "colab_type": "code",
        "outputId": "22d74095-3f75-4295-a490-4d7ffdbd88e4",
        "colab": {
          "base_uri": "https://localhost:8080/",
          "height": 34
        }
      },
      "source": [
        "# List comprehensions aplicadas em strings. \n",
        "lista_04 = [x.lower() for x in ['MESA', 'CANETA', 'CADEIRA']]\n",
        "lista_04"
      ],
      "execution_count": 0,
      "outputs": [
        {
          "output_type": "execute_result",
          "data": {
            "text/plain": [
              "['mesa', 'caneta', 'cadeira']"
            ]
          },
          "metadata": {
            "tags": []
          },
          "execution_count": 39
        }
      ]
    },
    {
      "cell_type": "markdown",
      "metadata": {
        "id": "CuL5OVlJoGPO",
        "colab_type": "text"
      },
      "source": [
        "###Exercício 2\n",
        "Crie uma lista 'A' onde os elementos sejam o dobro dos elementos da lista abaixo. Depois, imprima a nova lista."
      ]
    },
    {
      "cell_type": "code",
      "metadata": {
        "id": "iKZX-yOwoL_Q",
        "colab_type": "code",
        "colab": {}
      },
      "source": [
        "#Não alterar linha 2.\n",
        "L = [2,3,5,7,8,11]\n",
        "\n",
        "# Sua resposta.\n"
      ],
      "execution_count": 0,
      "outputs": []
    },
    {
      "cell_type": "markdown",
      "metadata": {
        "id": "VVqMBo8uoMvf",
        "colab_type": "text"
      },
      "source": [
        "**Clique aqui para a resposta.**\n",
        "\n",
        "<!--\n",
        "A = [x*2 for x in L]\n",
        "print(A)\n",
        "-->"
      ]
    },
    {
      "cell_type": "markdown",
      "metadata": {
        "id": "cQmN_RjDJARA",
        "colab_type": "text"
      },
      "source": [
        "##Função Zip( )\n",
        "\n",
        "Com a função **zip**, podemos iterar **simultaneamente** duas os mais sequências e compactar seus resultados em um só. \n"
      ]
    },
    {
      "cell_type": "markdown",
      "metadata": {
        "id": "5o39W-9WF402",
        "colab_type": "text"
      },
      "source": [
        "####Exemplos"
      ]
    },
    {
      "cell_type": "code",
      "metadata": {
        "id": "7hpfxGfVF7T0",
        "colab_type": "code",
        "outputId": "eae70238-0444-4ff0-d368-bc2caaea2352",
        "colab": {
          "base_uri": "https://localhost:8080/",
          "height": 85
        }
      },
      "source": [
        "operação = ['2 + 2', '5 + 1', '8 - 2', '3 - 4']\n",
        "resultado = ['4', '6', '6', '-1']\n",
        "\n",
        "for o,r in zip(operação, resultado):\n",
        "  print(o,'=', r)"
      ],
      "execution_count": 0,
      "outputs": [
        {
          "output_type": "stream",
          "text": [
            "2 + 2 = 4\n",
            "5 + 1 = 6\n",
            "8 - 2 = 6\n",
            "3 - 4 = -1\n"
          ],
          "name": "stdout"
        }
      ]
    },
    {
      "cell_type": "code",
      "metadata": {
        "id": "eij6Kwe5F6_6",
        "colab_type": "code",
        "outputId": "16b9b08d-baee-473e-a9b0-bf17c54fcb52",
        "colab": {
          "base_uri": "https://localhost:8080/",
          "height": 119
        }
      },
      "source": [
        "# Função 'zip' aplicada em dicionários.\n",
        "dicionario_01 = {'Nome': 'Joana', 'Idade': 24, 'Sexo':'feminino'}\n",
        "dicionario_02 = {'Nome': 'Antônio', 'Idade':37, 'Sexo': 'masculino' }\n",
        "\n",
        "for (k1,v1), (k2,v2) in zip(dicionario_01.items(), dicionario_02.items()):\n",
        "  print(k1, ':', v1)\n",
        "  print(k2, ':', v2)"
      ],
      "execution_count": 0,
      "outputs": [
        {
          "output_type": "stream",
          "text": [
            "Nome : Joana\n",
            "Nome : Antônio\n",
            "Idade : 24\n",
            "Idade : 37\n",
            "Sexo : feminino\n",
            "Sexo : masculino\n"
          ],
          "name": "stdout"
        }
      ]
    },
    {
      "cell_type": "markdown",
      "metadata": {
        "id": "j5Ch6weNGK-p",
        "colab_type": "text"
      },
      "source": [
        "##Loops em Strings\n",
        "\n",
        "Strings podem ser tratadas como sequências, sendo cada caractere de uma string, incluindo espaços, acessado por um índice. \n",
        "\n",
        "Funções como **range** e **enumerate** também são aplicáveis nas strings."
      ]
    },
    {
      "cell_type": "markdown",
      "metadata": {
        "id": "8g3_ihhWKKWF",
        "colab_type": "text"
      },
      "source": [
        "###Exemplos"
      ]
    },
    {
      "cell_type": "code",
      "metadata": {
        "id": "40Va6dJ2KJsB",
        "colab_type": "code",
        "outputId": "8487d458-4d9f-44d1-a542-2823f92ba4a7",
        "colab": {
          "base_uri": "https://localhost:8080/",
          "height": 68
        }
      },
      "source": [
        "# Nesse exemplo, vamos imprimir letras alternadas da string abaixo.\n",
        "string_01 = 'banana'\n",
        "\n",
        "for x in range(0,6,2): # O intervalo representa o index de cada letra.\n",
        "  print(string_01[x]) # Imprimimos as letras que correspondem ao intervalo \n",
        "                      # definido acima."
      ],
      "execution_count": 0,
      "outputs": [
        {
          "output_type": "stream",
          "text": [
            "b\n",
            "n\n",
            "n\n"
          ],
          "name": "stdout"
        }
      ]
    },
    {
      "cell_type": "code",
      "metadata": {
        "id": "NCR7sR_KKOo1",
        "colab_type": "code",
        "outputId": "0c73457f-66dd-4398-c66a-e139b8e16c3a",
        "colab": {
          "base_uri": "https://localhost:8080/",
          "height": 238
        }
      },
      "source": [
        "string_02 = 'doce de leite'\n",
        "for x, e in enumerate(string_02): # Aqui, você pode ver a relação entre índice e\n",
        "                                  # valor.\n",
        "  print(x, e)"
      ],
      "execution_count": 0,
      "outputs": [
        {
          "output_type": "stream",
          "text": [
            "0 d\n",
            "1 o\n",
            "2 c\n",
            "3 e\n",
            "4  \n",
            "5 d\n",
            "6 e\n",
            "7  \n",
            "8 l\n",
            "9 e\n",
            "10 i\n",
            "11 t\n",
            "12 e\n"
          ],
          "name": "stdout"
        }
      ]
    },
    {
      "cell_type": "markdown",
      "metadata": {
        "id": "4kr6KYYs-sHO",
        "colab_type": "text"
      },
      "source": [
        "## While loops\n",
        "\n",
        "Outra estrutura de repetição do Python são os **while loops**. Estes são utilizados quando temos uma condição que deve ser checada a cada iteração. Quando o programa encontra uma condição falsa, para de executar o loop. "
      ]
    },
    {
      "cell_type": "markdown",
      "metadata": {
        "id": "4a82HNwjlfdY",
        "colab_type": "text"
      },
      "source": [
        "###Exemplo"
      ]
    },
    {
      "cell_type": "code",
      "metadata": {
        "id": "2jXHhL5GlcB6",
        "colab_type": "code",
        "outputId": "06ae0f9a-8529-4c7a-bb43-0d5396c8e19e",
        "colab": {
          "base_uri": "https://localhost:8080/"
        }
      },
      "source": [
        "x = 10   # Determinamos o valor inicial da variável x.\n",
        "while x >= 0:   # Estabelecemos a condição utilizando 'while'.\n",
        "  print(x)  # Imprimimos o resultado.\n",
        "  x = x - 1   # Determinamos a mudança da variável a cada repetição."
      ],
      "execution_count": 0,
      "outputs": [
        {
          "output_type": "stream",
          "text": [
            "10\n",
            "9\n",
            "8\n",
            "7\n",
            "6\n",
            "5\n",
            "4\n",
            "3\n",
            "2\n",
            "1\n",
            "0\n"
          ],
          "name": "stdout"
        }
      ]
    },
    {
      "cell_type": "markdown",
      "metadata": {
        "id": "gdkHcmjIFuDl",
        "colab_type": "text"
      },
      "source": [
        "##Itertools\n",
        "\n",
        "O **Itertools** é um módulo do Python contendo uma série de funções que podem ser usadas em loops. Clique [aqui](https://docs.python.org/3/library/itertools.html) para ler mais a respeito."
      ]
    },
    {
      "cell_type": "code",
      "metadata": {
        "id": "kfQSyyn8GVvq",
        "colab_type": "code",
        "colab": {}
      },
      "source": [
        ""
      ],
      "execution_count": 0,
      "outputs": []
    }
  ]
}